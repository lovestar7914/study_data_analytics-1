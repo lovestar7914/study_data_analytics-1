{
 "cells": [
  {
   "cell_type": "code",
   "execution_count": 1,
   "id": "fcfcad98-f990-42ff-8247-469d942cf987",
   "metadata": {},
   "outputs": [],
   "source": [
    "import matplotlib.pyplot as plt\n",
    "import matplotlib as mpl\n",
    "mpl.rc('font',family='Malgun Gothic')\n",
    "import seaborn as sns\n",
    "import pandas as pd\n",
    "import scipy.stats as stats"
   ]
  },
  {
   "cell_type": "code",
   "execution_count": 2,
   "id": "e385880a-4a3c-420d-91c0-e066042a0b62",
   "metadata": {},
   "outputs": [],
   "source": [
    "df_ROS = pd.read_csv('../../datasets/RecurrenceOfSurgery.csv')"
   ]
  },
  {
   "cell_type": "code",
   "execution_count": 3,
   "id": "61f80fc1-ea52-4dba-a5d6-51dd27f35d3d",
   "metadata": {},
   "outputs": [
    {
     "data": {
      "text/plain": [
       "Index(['Unnamed: 0', '환자ID', 'Large Lymphocyte', 'Location of herniation',\n",
       "       'ODI', '가족력', '간질성폐질환', '고혈압여부', '과거수술횟수', '당뇨여부', '말초동맥질환여부', '빈혈여부',\n",
       "       '성별', '스테로이드치료', '신부전여부', '신장', '심혈관질환', '암발병여부', '연령', '우울증여부', '입원기간',\n",
       "       '입원일자', '종양진행여부', '직업', '체중', '퇴원일자', '헤모글로빈수치', '혈전합병증여부', '환자통증정도',\n",
       "       '흡연여부', '통증기간(월)', '수술기법', '수술시간', '수술실패여부', '수술일자', '재발여부', '혈액형',\n",
       "       '전방디스크높이(mm)', '후방디스크높이(mm)', '지방축적도', 'Instability', 'MF + ES',\n",
       "       'Modic change', 'PI', 'PT', 'Seg Angle(raw)', 'Vaccum disc', '골밀도',\n",
       "       '디스크단면적', '디스크위치', '척추이동척도', '척추전방위증'],\n",
       "      dtype='object')"
      ]
     },
     "execution_count": 3,
     "metadata": {},
     "output_type": "execute_result"
    }
   ],
   "source": [
    "df_ROS.columns"
   ]
  },
  {
   "cell_type": "markdown",
   "id": "6d7806a9-6a20-430f-a150-4003f7872c2f",
   "metadata": {},
   "source": [
    "### 시각화 분석 접근 방식\n",
    "- 표현하는 데이터 타입\n",
    "- 시각화 종류\n",
    "    - 단일변수 / 연속형 : histplot\n",
    "    - 단일변수 / 범주형 : barplot\n",
    "    - 단일변수 / 순서형 : lineplot\n",
    "- 현 데이터로 시각화 가능 여부\n",
    "    - 한 chart에 동시 표현 여부 : 레코드 분리 되어 있어야 함.\n",
    "    - 단일 변수 표현 시 주의점 : count 대치하는 변수 여부"
   ]
  },
  {
   "cell_type": "code",
   "execution_count": 4,
   "id": "e2e1a2ff-c454-4faf-948f-f258fec9d96f",
   "metadata": {},
   "outputs": [
    {
     "data": {
      "text/html": [
       "<div>\n",
       "<style scoped>\n",
       "    .dataframe tbody tr th:only-of-type {\n",
       "        vertical-align: middle;\n",
       "    }\n",
       "\n",
       "    .dataframe tbody tr th {\n",
       "        vertical-align: top;\n",
       "    }\n",
       "\n",
       "    .dataframe thead th {\n",
       "        text-align: right;\n",
       "    }\n",
       "</style>\n",
       "<table border=\"1\" class=\"dataframe\">\n",
       "  <thead>\n",
       "    <tr style=\"text-align: right;\">\n",
       "      <th></th>\n",
       "      <th>환자ID</th>\n",
       "      <th>입원일자</th>\n",
       "      <th>퇴원일자</th>\n",
       "    </tr>\n",
       "  </thead>\n",
       "  <tbody>\n",
       "    <tr>\n",
       "      <th>0</th>\n",
       "      <td>1PT</td>\n",
       "      <td>20190713</td>\n",
       "      <td>20190716</td>\n",
       "    </tr>\n",
       "    <tr>\n",
       "      <th>1</th>\n",
       "      <td>2PT</td>\n",
       "      <td>20190715</td>\n",
       "      <td>20190716</td>\n",
       "    </tr>\n",
       "  </tbody>\n",
       "</table>\n",
       "</div>"
      ],
      "text/plain": [
       "  환자ID      입원일자      퇴원일자\n",
       "0  1PT  20190713  20190716\n",
       "1  2PT  20190715  20190716"
      ]
     },
     "execution_count": 4,
     "metadata": {},
     "output_type": "execute_result"
    }
   ],
   "source": [
    "# 필요한 변수만 축출\n",
    "df_ROS_extract = df_ROS[['환자ID', '입원일자', '퇴원일자']]\n",
    "df_ROS_extract[:10]"
   ]
  },
  {
   "cell_type": "code",
   "execution_count": 5,
   "id": "a3fd3760-adbe-497e-bc3e-9b17f5d1cd4f",
   "metadata": {},
   "outputs": [
    {
     "name": "stderr",
     "output_type": "stream",
     "text": [
      "C:\\Users\\05-16\\AppData\\Local\\Temp\\ipykernel_7840\\1488843031.py:1: SettingWithCopyWarning: \n",
      "A value is trying to be set on a copy of a slice from a DataFrame.\n",
      "Try using .loc[row_indexer,col_indexer] = value instead\n",
      "\n",
      "See the caveats in the documentation: https://pandas.pydata.org/pandas-docs/stable/user_guide/indexing.html#returning-a-view-versus-a-copy\n",
      "  df_ROS_extract['입원일자_datetime'] = pd.to_datetime(df_ROS_extract['입원일자'].astype(str))\n",
      "C:\\Users\\05-16\\AppData\\Local\\Temp\\ipykernel_7840\\1488843031.py:2: SettingWithCopyWarning: \n",
      "A value is trying to be set on a copy of a slice from a DataFrame.\n",
      "Try using .loc[row_indexer,col_indexer] = value instead\n",
      "\n",
      "See the caveats in the documentation: https://pandas.pydata.org/pandas-docs/stable/user_guide/indexing.html#returning-a-view-versus-a-copy\n",
      "  df_ROS_extract['퇴원일자_datetime'] = pd.to_datetime(df_ROS_extract['퇴원일자'].astype(str))\n"
     ]
    }
   ],
   "source": [
    "df_ROS_extract['입원일자_datetime'] = pd.to_datetime(df_ROS_extract['입원일자'].astype(str))\n",
    "df_ROS_extract['퇴원일자_datetime'] = pd.to_datetime(df_ROS_extract['퇴원일자'].astype(str))"
   ]
  },
  {
   "cell_type": "code",
   "execution_count": 8,
   "id": "71f90f86-287e-4d0d-84ff-3772a2c1228c",
   "metadata": {
    "collapsed": true,
    "jupyter": {
     "outputs_hidden": true
    },
    "tags": []
   },
   "outputs": [
    {
     "data": {
      "text/html": [
       "<div>\n",
       "<style scoped>\n",
       "    .dataframe tbody tr th:only-of-type {\n",
       "        vertical-align: middle;\n",
       "    }\n",
       "\n",
       "    .dataframe tbody tr th {\n",
       "        vertical-align: top;\n",
       "    }\n",
       "\n",
       "    .dataframe thead th {\n",
       "        text-align: right;\n",
       "    }\n",
       "</style>\n",
       "<table border=\"1\" class=\"dataframe\">\n",
       "  <thead>\n",
       "    <tr style=\"text-align: right;\">\n",
       "      <th></th>\n",
       "      <th>환자ID</th>\n",
       "      <th>입원일자</th>\n",
       "      <th>퇴원일자</th>\n",
       "      <th>입원일자_datetime</th>\n",
       "      <th>퇴원일자_datetime</th>\n",
       "    </tr>\n",
       "  </thead>\n",
       "  <tbody>\n",
       "    <tr>\n",
       "      <th>0</th>\n",
       "      <td>1PT</td>\n",
       "      <td>20190713</td>\n",
       "      <td>20190716</td>\n",
       "      <td>2019-07-13</td>\n",
       "      <td>2019-07-16</td>\n",
       "    </tr>\n",
       "    <tr>\n",
       "      <th>1</th>\n",
       "      <td>2PT</td>\n",
       "      <td>20190715</td>\n",
       "      <td>20190716</td>\n",
       "      <td>2019-07-15</td>\n",
       "      <td>2019-07-16</td>\n",
       "    </tr>\n",
       "    <tr>\n",
       "      <th>2</th>\n",
       "      <td>3PT</td>\n",
       "      <td>20190729</td>\n",
       "      <td>20190801</td>\n",
       "      <td>2019-07-29</td>\n",
       "      <td>2019-08-01</td>\n",
       "    </tr>\n",
       "    <tr>\n",
       "      <th>3</th>\n",
       "      <td>4PT</td>\n",
       "      <td>20190731</td>\n",
       "      <td>20190803</td>\n",
       "      <td>2019-07-31</td>\n",
       "      <td>2019-08-03</td>\n",
       "    </tr>\n",
       "    <tr>\n",
       "      <th>4</th>\n",
       "      <td>5PT</td>\n",
       "      <td>20190903</td>\n",
       "      <td>20190907</td>\n",
       "      <td>2019-09-03</td>\n",
       "      <td>2019-09-07</td>\n",
       "    </tr>\n",
       "    <tr>\n",
       "      <th>5</th>\n",
       "      <td>6PT</td>\n",
       "      <td>20190905</td>\n",
       "      <td>20190907</td>\n",
       "      <td>2019-09-05</td>\n",
       "      <td>2019-09-07</td>\n",
       "    </tr>\n",
       "    <tr>\n",
       "      <th>6</th>\n",
       "      <td>7PT</td>\n",
       "      <td>20190622</td>\n",
       "      <td>20190626</td>\n",
       "      <td>2019-06-22</td>\n",
       "      <td>2019-06-26</td>\n",
       "    </tr>\n",
       "    <tr>\n",
       "      <th>7</th>\n",
       "      <td>8PT</td>\n",
       "      <td>20190330</td>\n",
       "      <td>20190402</td>\n",
       "      <td>2019-03-30</td>\n",
       "      <td>2019-04-02</td>\n",
       "    </tr>\n",
       "    <tr>\n",
       "      <th>8</th>\n",
       "      <td>9PT</td>\n",
       "      <td>20191203</td>\n",
       "      <td>20191206</td>\n",
       "      <td>2019-12-03</td>\n",
       "      <td>2019-12-06</td>\n",
       "    </tr>\n",
       "    <tr>\n",
       "      <th>9</th>\n",
       "      <td>10PT</td>\n",
       "      <td>20191210</td>\n",
       "      <td>20191213</td>\n",
       "      <td>2019-12-10</td>\n",
       "      <td>2019-12-13</td>\n",
       "    </tr>\n",
       "  </tbody>\n",
       "</table>\n",
       "</div>"
      ],
      "text/plain": [
       "   환자ID      입원일자      퇴원일자 입원일자_datetime 퇴원일자_datetime\n",
       "0   1PT  20190713  20190716    2019-07-13    2019-07-16\n",
       "1   2PT  20190715  20190716    2019-07-15    2019-07-16\n",
       "2   3PT  20190729  20190801    2019-07-29    2019-08-01\n",
       "3   4PT  20190731  20190803    2019-07-31    2019-08-03\n",
       "4   5PT  20190903  20190907    2019-09-03    2019-09-07\n",
       "5   6PT  20190905  20190907    2019-09-05    2019-09-07\n",
       "6   7PT  20190622  20190626    2019-06-22    2019-06-26\n",
       "7   8PT  20190330  20190402    2019-03-30    2019-04-02\n",
       "8   9PT  20191203  20191206    2019-12-03    2019-12-06\n",
       "9  10PT  20191210  20191213    2019-12-10    2019-12-13"
      ]
     },
     "execution_count": 8,
     "metadata": {},
     "output_type": "execute_result"
    }
   ],
   "source": [
    "df_ROS_extract[:10]\n",
    "#df_ROS_extract.info()"
   ]
  },
  {
   "cell_type": "markdown",
   "id": "a3af74a4-8ae2-467b-a149-d8ad19e5d58e",
   "metadata": {},
   "source": [
    "### 주차별 환자 입원/퇴원 추이 시각화 및 인사이트\n",
    "- 표현하는 데이터 타입 : 연속형, 단일변수\n",
    "- 시각화 종류 : lineplot"
   ]
  },
  {
   "cell_type": "markdown",
   "id": "421b5587-101c-4506-b48c-223e9970f2a1",
   "metadata": {},
   "source": [
    "### 요일별 환자 입원/퇴원 시각화 및 인사이트\n",
    "- 표현하는 데이터 타입 : 범주형, 단일변수\n",
    "- 시각화 종류 : barplot\n",
    "- 레코드 갯수로 count"
   ]
  },
  {
   "cell_type": "code",
   "execution_count": 12,
   "id": "01770ddc-6583-4956-b9dd-8fc2a472e73c",
   "metadata": {
    "collapsed": true,
    "jupyter": {
     "outputs_hidden": true
    },
    "tags": []
   },
   "outputs": [
    {
     "name": "stderr",
     "output_type": "stream",
     "text": [
      "C:\\Users\\05-16\\AppData\\Local\\Temp\\ipykernel_7840\\1296604899.py:1: SettingWithCopyWarning: \n",
      "A value is trying to be set on a copy of a slice from a DataFrame.\n",
      "Try using .loc[row_indexer,col_indexer] = value instead\n",
      "\n",
      "See the caveats in the documentation: https://pandas.pydata.org/pandas-docs/stable/user_guide/indexing.html#returning-a-view-versus-a-copy\n",
      "  df_ROS_extract['입원일자_datetime_day'] = df_ROS_extract['입원일자_datetime'].dt.day_name()\n",
      "C:\\Users\\05-16\\AppData\\Local\\Temp\\ipykernel_7840\\1296604899.py:2: SettingWithCopyWarning: \n",
      "A value is trying to be set on a copy of a slice from a DataFrame.\n",
      "Try using .loc[row_indexer,col_indexer] = value instead\n",
      "\n",
      "See the caveats in the documentation: https://pandas.pydata.org/pandas-docs/stable/user_guide/indexing.html#returning-a-view-versus-a-copy\n",
      "  df_ROS_extract['퇴원일자_datetime_day'] = df_ROS_extract['퇴원일자_datetime'].dt.day_name()\n"
     ]
    }
   ],
   "source": [
    "df_ROS_extract['입원일자_datetime_day'] = df_ROS_extract['입원일자_datetime'].dt.day_name()\n",
    "df_ROS_extract['퇴원일자_datetime_day'] = df_ROS_extract['퇴원일자_datetime'].dt.day_name()"
   ]
  },
  {
   "cell_type": "code",
   "execution_count": 13,
   "id": "baaa2630-ab33-4383-9e24-a11b9b995d08",
   "metadata": {},
   "outputs": [
    {
     "data": {
      "text/html": [
       "<div>\n",
       "<style scoped>\n",
       "    .dataframe tbody tr th:only-of-type {\n",
       "        vertical-align: middle;\n",
       "    }\n",
       "\n",
       "    .dataframe tbody tr th {\n",
       "        vertical-align: top;\n",
       "    }\n",
       "\n",
       "    .dataframe thead th {\n",
       "        text-align: right;\n",
       "    }\n",
       "</style>\n",
       "<table border=\"1\" class=\"dataframe\">\n",
       "  <thead>\n",
       "    <tr style=\"text-align: right;\">\n",
       "      <th></th>\n",
       "      <th>환자ID</th>\n",
       "      <th>입원일자</th>\n",
       "      <th>퇴원일자</th>\n",
       "      <th>입원일자_datetime</th>\n",
       "      <th>퇴원일자_datetime</th>\n",
       "      <th>입원일자_datetime_day</th>\n",
       "      <th>퇴원일자_datetime_day</th>\n",
       "    </tr>\n",
       "  </thead>\n",
       "  <tbody>\n",
       "    <tr>\n",
       "      <th>0</th>\n",
       "      <td>1PT</td>\n",
       "      <td>20190713.0</td>\n",
       "      <td>20190716.0</td>\n",
       "      <td>2019-07-13</td>\n",
       "      <td>2019-07-16</td>\n",
       "      <td>Saturday</td>\n",
       "      <td>Tuesday</td>\n",
       "    </tr>\n",
       "    <tr>\n",
       "      <th>1</th>\n",
       "      <td>2PT</td>\n",
       "      <td>20190715.0</td>\n",
       "      <td>20190716.0</td>\n",
       "      <td>2019-07-15</td>\n",
       "      <td>2019-07-16</td>\n",
       "      <td>Monday</td>\n",
       "      <td>Tuesday</td>\n",
       "    </tr>\n",
       "  </tbody>\n",
       "</table>\n",
       "</div>"
      ],
      "text/plain": [
       "  환자ID        입원일자        퇴원일자 입원일자_datetime 퇴원일자_datetime 입원일자_datetime_day  \\\n",
       "0  1PT  20190713.0  20190716.0    2019-07-13    2019-07-16          Saturday   \n",
       "1  2PT  20190715.0  20190716.0    2019-07-15    2019-07-16            Monday   \n",
       "\n",
       "  퇴원일자_datetime_day  \n",
       "0           Tuesday  \n",
       "1           Tuesday  "
      ]
     },
     "execution_count": 13,
     "metadata": {},
     "output_type": "execute_result"
    }
   ],
   "source": [
    "df_ROS_extract[:2]"
   ]
  },
  {
   "cell_type": "code",
   "execution_count": 17,
   "id": "51d953c9-c070-40cb-9e9d-21c192f15b59",
   "metadata": {},
   "outputs": [
    {
     "data": {
      "text/plain": [
       "Tuesday      376\n",
       "Monday       329\n",
       "Thursday     329\n",
       "Wednesday    304\n",
       "Sunday       204\n",
       "Friday       204\n",
       "Saturday     148\n",
       "Name: 입원일자_datetime_day, dtype: int64"
      ]
     },
     "execution_count": 17,
     "metadata": {},
     "output_type": "execute_result"
    }
   ],
   "source": [
    "df_ROS_extract['입원일자_datetime_day'].value_counts()"
   ]
  },
  {
   "cell_type": "code",
   "execution_count": 23,
   "id": "fe458628-de8d-4c95-a654-8383411dcbba",
   "metadata": {},
   "outputs": [
    {
     "data": {
      "text/plain": [
       "<AxesSubplot:xlabel='입원일자_datetime_day'>"
      ]
     },
     "execution_count": 23,
     "metadata": {},
     "output_type": "execute_result"
    },
    {
     "data": {
      "image/png": "[encoded data removed]",
      "text/plain": [
       "<Figure size 640x480 with 1 Axes>"
      ]
     },
     "metadata": {},
     "output_type": "display_data"
    }
   ],
   "source": [
    " pd.pivot_table(data=df_ROS_extract[['입원일자_datetime_day','환자ID']], index='입원일자_datetime_day', aggfunc=len).plot(kind='bar')\n",
    "#df_ROS_extract_pivot = pd.pivot_table(data=df_ROS_extract[['입원일자_datetime_day','환자ID']], index='입원일자_datetime_day', aggfunc=len)\n",
    "#df_ROS_extract_pivot[:2]"
   ]
  },
  {
   "cell_type": "code",
   "execution_count": 20,
   "id": "99bfa425-19fd-4f7d-8f14-4de4bab12d96",
   "metadata": {},
   "outputs": [],
   "source": [
    "df_ROS_extract_pivot['입원일자_dayname'] = df_ROS_extract_pivot.index"
   ]
  },
  {
   "cell_type": "code",
   "execution_count": 21,
   "id": "b37e7d8c-f0e1-4100-9541-560c8a3316c6",
   "metadata": {},
   "outputs": [
    {
     "data": {
      "text/html": [
       "<div>\n",
       "<style scoped>\n",
       "    .dataframe tbody tr th:only-of-type {\n",
       "        vertical-align: middle;\n",
       "    }\n",
       "\n",
       "    .dataframe tbody tr th {\n",
       "        vertical-align: top;\n",
       "    }\n",
       "\n",
       "    .dataframe thead th {\n",
       "        text-align: right;\n",
       "    }\n",
       "</style>\n",
       "<table border=\"1\" class=\"dataframe\">\n",
       "  <thead>\n",
       "    <tr style=\"text-align: right;\">\n",
       "      <th></th>\n",
       "      <th>환자ID</th>\n",
       "      <th>입원일자_dayname</th>\n",
       "    </tr>\n",
       "    <tr>\n",
       "      <th>입원일자_datetime_day</th>\n",
       "      <th></th>\n",
       "      <th></th>\n",
       "    </tr>\n",
       "  </thead>\n",
       "  <tbody>\n",
       "    <tr>\n",
       "      <th>Friday</th>\n",
       "      <td>204</td>\n",
       "      <td>Friday</td>\n",
       "    </tr>\n",
       "    <tr>\n",
       "      <th>Monday</th>\n",
       "      <td>329</td>\n",
       "      <td>Monday</td>\n",
       "    </tr>\n",
       "    <tr>\n",
       "      <th>Saturday</th>\n",
       "      <td>148</td>\n",
       "      <td>Saturday</td>\n",
       "    </tr>\n",
       "    <tr>\n",
       "      <th>Sunday</th>\n",
       "      <td>204</td>\n",
       "      <td>Sunday</td>\n",
       "    </tr>\n",
       "    <tr>\n",
       "      <th>Thursday</th>\n",
       "      <td>329</td>\n",
       "      <td>Thursday</td>\n",
       "    </tr>\n",
       "    <tr>\n",
       "      <th>Tuesday</th>\n",
       "      <td>376</td>\n",
       "      <td>Tuesday</td>\n",
       "    </tr>\n",
       "    <tr>\n",
       "      <th>Wednesday</th>\n",
       "      <td>304</td>\n",
       "      <td>Wednesday</td>\n",
       "    </tr>\n",
       "  </tbody>\n",
       "</table>\n",
       "</div>"
      ],
      "text/plain": [
       "                   환자ID 입원일자_dayname\n",
       "입원일자_datetime_day                   \n",
       "Friday              204       Friday\n",
       "Monday              329       Monday\n",
       "Saturday            148     Saturday\n",
       "Sunday              204       Sunday\n",
       "Thursday            329     Thursday\n",
       "Tuesday             376      Tuesday\n",
       "Wednesday           304    Wednesday"
      ]
     },
     "execution_count": 21,
     "metadata": {},
     "output_type": "execute_result"
    }
   ],
   "source": [
    "df_ROS_extract_pivot"
   ]
  },
  {
   "cell_type": "code",
   "execution_count": 22,
   "id": "4112cf76-e3bf-468a-805c-25e6855589df",
   "metadata": {},
   "outputs": [
    {
     "data": {
      "text/plain": [
       "Wednesday    348\n",
       "Friday       332\n",
       "Thursday     329\n",
       "Saturday     301\n",
       "Tuesday      279\n",
       "Monday       184\n",
       "Sunday       121\n",
       "Name: 퇴원일자_datetime_day, dtype: int64"
      ]
     },
     "execution_count": 22,
     "metadata": {},
     "output_type": "execute_result"
    }
   ],
   "source": [
    "df_ROS_extract['퇴원일자_datetime_day'].value_counts()"
   ]
  },
  {
   "cell_type": "code",
   "execution_count": null,
   "id": "d1b3ba42-96cf-4366-9b99-beeabd9f742e",
   "metadata": {},
   "outputs": [],
   "source": []
  }
 ],
 "metadata": {
  "kernelspec": {
   "display_name": "Python 3 (ipykernel)",
   "language": "python",
   "name": "python3"
  },
  "language_info": {
   "codemirror_mode": {
    "name": "ipython",
    "version": 3
   },
   "file_extension": ".py",
   "mimetype": "text/x-python",
   "name": "python",
   "nbconvert_exporter": "python",
   "pygments_lexer": "ipython3",
   "version": "3.11.3"
  }
 },
 "nbformat": 4,
 "nbformat_minor": 5
}
