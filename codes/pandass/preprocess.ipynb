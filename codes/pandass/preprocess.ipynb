{
 "cells": [
  {
   "cell_type": "markdown",
   "id": "8ac215d4-7030-401a-b2c4-e1accfd22d96",
   "metadata": {},
   "source": [
    "### 전처리 : 특성 공학 기법 사용"
   ]
  },
  {
   "cell_type": "code",
   "execution_count": 1,
   "id": "9f89069f-9fd2-4538-b95f-ba49b18d9f78",
   "metadata": {},
   "outputs": [
    {
     "data": {
      "text/html": [
       "<div>\n",
       "<style scoped>\n",
       "    .dataframe tbody tr th:only-of-type {\n",
       "        vertical-align: middle;\n",
       "    }\n",
       "\n",
       "    .dataframe tbody tr th {\n",
       "        vertical-align: top;\n",
       "    }\n",
       "\n",
       "    .dataframe thead th {\n",
       "        text-align: right;\n",
       "    }\n",
       "</style>\n",
       "<table border=\"1\" class=\"dataframe\">\n",
       "  <thead>\n",
       "    <tr style=\"text-align: right;\">\n",
       "      <th></th>\n",
       "      <th>id</th>\n",
       "      <th>type_of_contract</th>\n",
       "      <th>type_of_contract2</th>\n",
       "      <th>channel</th>\n",
       "      <th>datetime</th>\n",
       "      <th>Term</th>\n",
       "      <th>payment_type</th>\n",
       "      <th>product</th>\n",
       "      <th>amount</th>\n",
       "      <th>state</th>\n",
       "      <th>overdue_count</th>\n",
       "      <th>overdue</th>\n",
       "      <th>credit rating</th>\n",
       "      <th>bank</th>\n",
       "      <th>cancellation</th>\n",
       "      <th>age</th>\n",
       "      <th>Mileage</th>\n",
       "    </tr>\n",
       "  </thead>\n",
       "  <tbody>\n",
       "    <tr>\n",
       "      <th>0</th>\n",
       "      <td>66758234</td>\n",
       "      <td>렌탈</td>\n",
       "      <td>Normal</td>\n",
       "      <td>서비스 방문</td>\n",
       "      <td>2019-10-20</td>\n",
       "      <td>60</td>\n",
       "      <td>CMS</td>\n",
       "      <td>K1</td>\n",
       "      <td>96900</td>\n",
       "      <td>계약확정</td>\n",
       "      <td>0</td>\n",
       "      <td>없음</td>\n",
       "      <td>9.0</td>\n",
       "      <td>새마을금고</td>\n",
       "      <td>정상</td>\n",
       "      <td>43.0</td>\n",
       "      <td>1862.0</td>\n",
       "    </tr>\n",
       "    <tr>\n",
       "      <th>1</th>\n",
       "      <td>66755948</td>\n",
       "      <td>렌탈</td>\n",
       "      <td>Extension_Rental</td>\n",
       "      <td>서비스 방문</td>\n",
       "      <td>2019-10-20</td>\n",
       "      <td>60</td>\n",
       "      <td>카드이체</td>\n",
       "      <td>K1</td>\n",
       "      <td>102900</td>\n",
       "      <td>계약확정</td>\n",
       "      <td>0</td>\n",
       "      <td>없음</td>\n",
       "      <td>2.0</td>\n",
       "      <td>현대카드</td>\n",
       "      <td>정상</td>\n",
       "      <td>62.0</td>\n",
       "      <td>2532.0</td>\n",
       "    </tr>\n",
       "  </tbody>\n",
       "</table>\n",
       "</div>"
      ],
      "text/plain": [
       "         id type_of_contract type_of_contract2 channel    datetime  Term  \\\n",
       "0  66758234               렌탈            Normal  서비스 방문  2019-10-20    60   \n",
       "1  66755948               렌탈  Extension_Rental  서비스 방문  2019-10-20    60   \n",
       "\n",
       "  payment_type product  amount state  overdue_count overdue  credit rating  \\\n",
       "0          CMS      K1   96900  계약확정              0      없음            9.0   \n",
       "1         카드이체      K1  102900  계약확정              0      없음            2.0   \n",
       "\n",
       "    bank cancellation   age  Mileage  \n",
       "0  새마을금고           정상  43.0   1862.0  \n",
       "1   현대카드           정상  62.0   2532.0  "
      ]
     },
     "execution_count": 1,
     "metadata": {},
     "output_type": "execute_result"
    }
   ],
   "source": [
    "import pandas as pd\n",
    "df_TOCC = pd.read_csv('../../datasets/TypeOfContractChannel.csv')\n",
    "df_TOCC[:2]"
   ]
  },
  {
   "cell_type": "markdown",
   "id": "1f2cbf7c-7c91-4a4a-85f1-7e99dcf6708d",
   "metadata": {},
   "source": [
    "#### 결측치\n",
    "- 결측치 확인 : df.isnull().sum()\n",
    "- 결측치 치환 : 대표값 또는 knn(머신러닝 한 종류)\n",
    "- 결측치 삭제 : dropna(subset=['', ''])"
   ]
  },
  {
   "cell_type": "code",
   "execution_count": 6,
   "id": "819d2e75-42db-4b9d-8489-7b0afd523290",
   "metadata": {
    "collapsed": true,
    "jupyter": {
     "outputs_hidden": true
    },
    "tags": []
   },
   "outputs": [
    {
     "name": "stdout",
     "output_type": "stream",
     "text": [
      "<class 'pandas.core.frame.DataFrame'>\n",
      "RangeIndex: 51304 entries, 0 to 51303\n",
      "Data columns (total 17 columns):\n",
      " #   Column             Non-Null Count  Dtype  \n",
      "---  ------             --------------  -----  \n",
      " 0   id                 51304 non-null  int64  \n",
      " 1   type_of_contract   51300 non-null  object \n",
      " 2   type_of_contract2  51303 non-null  object \n",
      " 3   channel            51304 non-null  object \n",
      " 4   datetime           51304 non-null  object \n",
      " 5   Term               51304 non-null  int64  \n",
      " 6   payment_type       51304 non-null  object \n",
      " 7   product            51303 non-null  object \n",
      " 8   amount             51304 non-null  int64  \n",
      " 9   state              51304 non-null  object \n",
      " 10  overdue_count      51304 non-null  int64  \n",
      " 11  overdue            51302 non-null  object \n",
      " 12  credit rating      42521 non-null  float64\n",
      " 13  bank               48544 non-null  object \n",
      " 14  cancellation       51279 non-null  object \n",
      " 15  age                40509 non-null  float64\n",
      " 16  Mileage            40509 non-null  float64\n",
      "dtypes: float64(3), int64(4), object(10)\n",
      "memory usage: 6.7+ MB\n"
     ]
    }
   ],
   "source": [
    "df_TOCC.info()"
   ]
  },
  {
   "cell_type": "code",
   "execution_count": 4,
   "id": "84333334-023b-40c9-8ea2-c484a76cc261",
   "metadata": {
    "collapsed": true,
    "jupyter": {
     "outputs_hidden": true
    },
    "tags": []
   },
   "outputs": [
    {
     "data": {
      "text/plain": [
       "id                       0\n",
       "type_of_contract         4\n",
       "type_of_contract2        1\n",
       "channel                  0\n",
       "datetime                 0\n",
       "Term                     0\n",
       "payment_type             0\n",
       "product                  1\n",
       "amount                   0\n",
       "state                    0\n",
       "overdue_count            0\n",
       "overdue                  2\n",
       "credit rating         8783\n",
       "bank                  2760\n",
       "cancellation            25\n",
       "age                  10795\n",
       "Mileage              10795\n",
       "dtype: int64"
      ]
     },
     "execution_count": 4,
     "metadata": {},
     "output_type": "execute_result"
    }
   ],
   "source": [
    "df_TOCC.isnull().sum()"
   ]
  },
  {
   "cell_type": "code",
   "execution_count": 8,
   "id": "b915c416-71cf-4a98-b349-7fd6fe9f0ba4",
   "metadata": {
    "collapsed": true,
    "jupyter": {
     "outputs_hidden": true
    },
    "tags": []
   },
   "outputs": [
    {
     "name": "stdout",
     "output_type": "stream",
     "text": [
      "<class 'pandas.core.frame.DataFrame'>\n",
      "Int64Index: 40480 entries, 0 to 51303\n",
      "Data columns (total 17 columns):\n",
      " #   Column             Non-Null Count  Dtype  \n",
      "---  ------             --------------  -----  \n",
      " 0   id                 40480 non-null  int64  \n",
      " 1   type_of_contract   40480 non-null  object \n",
      " 2   type_of_contract2  40480 non-null  object \n",
      " 3   channel            40480 non-null  object \n",
      " 4   datetime           40480 non-null  object \n",
      " 5   Term               40480 non-null  int64  \n",
      " 6   payment_type       40480 non-null  object \n",
      " 7   product            40480 non-null  object \n",
      " 8   amount             40480 non-null  int64  \n",
      " 9   state              40480 non-null  object \n",
      " 10  overdue_count      40480 non-null  int64  \n",
      " 11  overdue            40480 non-null  object \n",
      " 12  credit rating      40480 non-null  float64\n",
      " 13  bank               40480 non-null  object \n",
      " 14  cancellation       40480 non-null  object \n",
      " 15  age                40480 non-null  float64\n",
      " 16  Mileage            40480 non-null  float64\n",
      "dtypes: float64(3), int64(4), object(10)\n",
      "memory usage: 5.6+ MB\n"
     ]
    }
   ],
   "source": [
    "df_TOCC_dropna = df_TOCC.dropna()\n",
    "df_TOCC_dropna.info()"
   ]
  },
  {
   "cell_type": "code",
   "execution_count": 10,
   "id": "341e54af-93c0-45ee-b93a-e22ed29d0ce9",
   "metadata": {
    "collapsed": true,
    "jupyter": {
     "outputs_hidden": true
    },
    "tags": []
   },
   "outputs": [
    {
     "name": "stdout",
     "output_type": "stream",
     "text": [
      "<class 'pandas.core.frame.DataFrame'>\n",
      "Int64Index: 48544 entries, 0 to 51303\n",
      "Data columns (total 17 columns):\n",
      " #   Column             Non-Null Count  Dtype  \n",
      "---  ------             --------------  -----  \n",
      " 0   id                 48544 non-null  int64  \n",
      " 1   type_of_contract   48540 non-null  object \n",
      " 2   type_of_contract2  48543 non-null  object \n",
      " 3   channel            48544 non-null  object \n",
      " 4   datetime           48544 non-null  object \n",
      " 5   Term               48544 non-null  int64  \n",
      " 6   payment_type       48544 non-null  object \n",
      " 7   product            48543 non-null  object \n",
      " 8   amount             48544 non-null  int64  \n",
      " 9   state              48544 non-null  object \n",
      " 10  overdue_count      48544 non-null  int64  \n",
      " 11  overdue            48542 non-null  object \n",
      " 12  credit rating      42519 non-null  float64\n",
      " 13  bank               48544 non-null  object \n",
      " 14  cancellation       48519 non-null  object \n",
      " 15  age                40507 non-null  float64\n",
      " 16  Mileage            40507 non-null  float64\n",
      "dtypes: float64(3), int64(4), object(10)\n",
      "memory usage: 6.7+ MB\n"
     ]
    }
   ],
   "source": [
    "df_TOCC.dropna(subset=['bank']).info()"
   ]
  },
  {
   "cell_type": "markdown",
   "id": "fcf02d85-69b2-434a-aeb7-e29269a424a2",
   "metadata": {},
   "source": [
    "#### 이상치 : 사분위 외 값\n",
    "- Q3 + 1.5 * IQR, Q1 - 1.5 * IQR 밖에 값"
   ]
  },
  {
   "cell_type": "code",
   "execution_count": 12,
   "id": "5853ac1d-08d4-4aaa-9f1c-9947d2a4b3a2",
   "metadata": {
    "collapsed": true,
    "jupyter": {
     "outputs_hidden": true
    },
    "tags": []
   },
   "outputs": [
    {
     "data": {
      "text/plain": [
       "count    40509.000000\n",
       "mean        46.608285\n",
       "std         13.465977\n",
       "min         20.000000\n",
       "25%         37.000000\n",
       "50%         46.000000\n",
       "75%         56.000000\n",
       "max        107.000000\n",
       "Name: age, dtype: float64"
      ]
     },
     "execution_count": 12,
     "metadata": {},
     "output_type": "execute_result"
    }
   ],
   "source": [
    "df_TOCC['age'].describe()"
   ]
  },
  {
   "cell_type": "code",
   "execution_count": 18,
   "id": "32f96eea-ebe2-423b-bf1b-f2f7de09dae4",
   "metadata": {},
   "outputs": [],
   "source": [
    "# Q1, Q3 구함\n",
    "Q1 = df_TOCC['age'].describe()['25%']\n",
    "Q3 = df_TOCC['age'].describe()['75%']\n",
    "IQR = Q3 - Q1"
   ]
  },
  {
   "cell_type": "code",
   "execution_count": 19,
   "id": "c7845f70-3a1c-430e-92fe-a15576378ae7",
   "metadata": {},
   "outputs": [
    {
     "data": {
      "text/plain": [
       "(37.0, 56.0, 19.0)"
      ]
     },
     "execution_count": 19,
     "metadata": {},
     "output_type": "execute_result"
    }
   ],
   "source": [
    "Q1, Q3, IQR"
   ]
  },
  {
   "cell_type": "code",
   "execution_count": 21,
   "id": "b7bf892f-68fb-4647-927a-fdc60aa91127",
   "metadata": {},
   "outputs": [
    {
     "data": {
      "text/plain": [
       "(8.5, 84.5)"
      ]
     },
     "execution_count": 21,
     "metadata": {},
     "output_type": "execute_result"
    }
   ],
   "source": [
    "bound_up = Q3 + 1.5 * IQR\n",
    "bound_low = Q1 - 1.5 * IQR\n",
    "bound_low, bound_up "
   ]
  },
  {
   "cell_type": "code",
   "execution_count": 29,
   "id": "018836a0-acd6-4796-9660-ec86048dc5fc",
   "metadata": {
    "collapsed": true,
    "jupyter": {
     "outputs_hidden": true
    },
    "tags": []
   },
   "outputs": [
    {
     "data": {
      "text/plain": [
       "0         True\n",
       "1         True\n",
       "2         True\n",
       "3         True\n",
       "4         True\n",
       "         ...  \n",
       "51299    False\n",
       "51300     True\n",
       "51301     True\n",
       "51302     True\n",
       "51303     True\n",
       "Name: age, Length: 51304, dtype: bool"
      ]
     },
     "execution_count": 29,
     "metadata": {},
     "output_type": "execute_result"
    }
   ],
   "source": [
    "# filler\n",
    "condition = (df_TOCC['age'] <= bound_up) # 긍정 조건 변환\n",
    "condition"
   ]
  },
  {
   "cell_type": "code",
   "execution_count": 30,
   "id": "4a55f5ad-701a-42aa-bc17-fff1d55db500",
   "metadata": {
    "collapsed": true,
    "jupyter": {
     "outputs_hidden": true
    },
    "tags": []
   },
   "outputs": [
    {
     "name": "stdout",
     "output_type": "stream",
     "text": [
      "<class 'pandas.core.frame.DataFrame'>\n",
      "Int64Index: 40338 entries, 0 to 51303\n",
      "Data columns (total 17 columns):\n",
      " #   Column             Non-Null Count  Dtype  \n",
      "---  ------             --------------  -----  \n",
      " 0   id                 40338 non-null  int64  \n",
      " 1   type_of_contract   40335 non-null  object \n",
      " 2   type_of_contract2  40337 non-null  object \n",
      " 3   channel            40338 non-null  object \n",
      " 4   datetime           40338 non-null  object \n",
      " 5   Term               40338 non-null  int64  \n",
      " 6   payment_type       40338 non-null  object \n",
      " 7   product            40337 non-null  object \n",
      " 8   amount             40338 non-null  int64  \n",
      " 9   state              40338 non-null  object \n",
      " 10  overdue_count      40338 non-null  int64  \n",
      " 11  overdue            40336 non-null  object \n",
      " 12  credit rating      40338 non-null  float64\n",
      " 13  bank               40336 non-null  object \n",
      " 14  cancellation       40318 non-null  object \n",
      " 15  age                40338 non-null  float64\n",
      " 16  Mileage            40338 non-null  float64\n",
      "dtypes: float64(3), int64(4), object(10)\n",
      "memory usage: 5.5+ MB\n"
     ]
    }
   ],
   "source": [
    "df_TOCC_condition = df_TOCC[condition]\n",
    "df_TOCC_condition.info()"
   ]
  },
  {
   "cell_type": "code",
   "execution_count": 33,
   "id": "6f955747-46ae-44fc-8e4a-80895542e822",
   "metadata": {
    "tags": []
   },
   "outputs": [
    {
     "data": {
      "text/plain": [
       "<AxesSubplot:xlabel='age'>"
      ]
     },
     "execution_count": 33,
     "metadata": {},
     "output_type": "execute_result"
    },
    {
     "data": {
      "image/png": "[encoded data removed]",
      "text/plain": [
       "<Figure size 640x480 with 1 Axes>"
      ]
     },
     "metadata": {},
     "output_type": "display_data"
    }
   ],
   "source": [
    "import seaborn as sns\n",
    "sns.boxplot(df_TOCC_condition['age'])"
   ]
  },
  {
   "cell_type": "code",
   "execution_count": 36,
   "id": "bd3ea674-35af-442b-a281-82b2dc794d8b",
   "metadata": {},
   "outputs": [
    {
     "name": "stderr",
     "output_type": "stream",
     "text": [
      "C:\\Users\\05-16\\anaconda3\\lib\\site-packages\\seaborn\\_decorators.py:36: FutureWarning: Pass the following variable as a keyword arg: x. From version 0.12, the only valid positional argument will be `data`, and passing other arguments without an explicit keyword will result in an error or misinterpretation.\n",
      "  warnings.warn(\n"
     ]
    },
    {
     "data": {
      "text/plain": [
       "<AxesSubplot:xlabel='Mileage'>"
      ]
     },
     "execution_count": 36,
     "metadata": {},
     "output_type": "execute_result"
    },
    {
     "data": {
      "image/png": "[encoded data removed]",
      "text/plain": [
       "<Figure size 640x480 with 1 Axes>"
      ]
     },
     "metadata": {},
     "output_type": "display_data"
    }
   ],
   "source": [
    "sns.boxplot(df_TOCC_condition['Mileage'])"
   ]
  },
  {
   "cell_type": "code",
   "execution_count": null,
   "id": "adfb359d-2ce9-429d-aebb-17fe4cc58e8f",
   "metadata": {},
   "outputs": [],
   "source": []
  }
 ],
 "metadata": {
  "kernelspec": {
   "display_name": "Python 3 (ipykernel)",
   "language": "python",
   "name": "python3"
  },
  "language_info": {
   "codemirror_mode": {
    "name": "ipython",
    "version": 3
   },
   "file_extension": ".py",
   "mimetype": "text/x-python",
   "name": "python",
   "nbconvert_exporter": "python",
   "pygments_lexer": "ipython3",
   "version": "3.11.3"
  }
 },
 "nbformat": 4,
 "nbformat_minor": 5
}
