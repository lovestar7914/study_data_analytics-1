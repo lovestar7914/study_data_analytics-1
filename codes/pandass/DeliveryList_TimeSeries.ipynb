{
 "cells": [
  {
   "cell_type": "code",
   "execution_count": 1,
   "id": "f679a6ca-959a-486a-8e1c-19a46cc84f4a",
   "metadata": {},
   "outputs": [],
   "source": [
    "import matplotlib.pyplot as plt\n",
    "import matplotlib as mpl\n",
    "mpl.rc('font',family='Malgun Gothic')\n",
    "import seaborn as sns\n",
    "import pandas as pd\n",
    "import scipy.stats as stats"
   ]
  },
  {
   "cell_type": "markdown",
   "id": "20cde08e-17e3-4132-825d-cd2ca3bc47c5",
   "metadata": {
    "jp-MarkdownHeadingCollapsed": true,
    "tags": []
   },
   "source": [
    "### Delivery List dataset 1"
   ]
  },
  {
   "cell_type": "code",
   "execution_count": 13,
   "id": "f8ac069d-c236-45a4-a995-65937a6a7490",
   "metadata": {},
   "outputs": [
    {
     "data": {
      "text/html": [
       "<div>\n",
       "<style scoped>\n",
       "    .dataframe tbody tr th:only-of-type {\n",
       "        vertical-align: middle;\n",
       "    }\n",
       "\n",
       "    .dataframe tbody tr th {\n",
       "        vertical-align: top;\n",
       "    }\n",
       "\n",
       "    .dataframe thead th {\n",
       "        text-align: right;\n",
       "    }\n",
       "</style>\n",
       "<table border=\"1\" class=\"dataframe\">\n",
       "  <thead>\n",
       "    <tr style=\"text-align: right;\">\n",
       "      <th></th>\n",
       "      <th>날짜</th>\n",
       "      <th>상품명</th>\n",
       "      <th>바코드</th>\n",
       "      <th>발주가능상태</th>\n",
       "      <th>입고수량</th>\n",
       "      <th>카테고리</th>\n",
       "      <th>출고수량</th>\n",
       "    </tr>\n",
       "  </thead>\n",
       "  <tbody>\n",
       "    <tr>\n",
       "      <th>0</th>\n",
       "      <td>2019-05-16</td>\n",
       "      <td>V2_0</td>\n",
       "      <td>8.801047e+12</td>\n",
       "      <td>발주가능</td>\n",
       "      <td>384</td>\n",
       "      <td>세탁세제</td>\n",
       "      <td>72</td>\n",
       "    </tr>\n",
       "    <tr>\n",
       "      <th>1</th>\n",
       "      <td>2019-05-16</td>\n",
       "      <td>V2_3</td>\n",
       "      <td>8.801047e+12</td>\n",
       "      <td>발주가능</td>\n",
       "      <td>207</td>\n",
       "      <td>세탁세제</td>\n",
       "      <td>5</td>\n",
       "    </tr>\n",
       "  </tbody>\n",
       "</table>\n",
       "</div>"
      ],
      "text/plain": [
       "           날짜   상품명           바코드 발주가능상태  입고수량  카테고리  출고수량\n",
       "0  2019-05-16  V2_0  8.801047e+12   발주가능   384  세탁세제    72\n",
       "1  2019-05-16  V2_3  8.801047e+12   발주가능   207  세탁세제     5"
      ]
     },
     "execution_count": 13,
     "metadata": {},
     "output_type": "execute_result"
    }
   ],
   "source": [
    "df_DL = pd.read_csv('../../datasets/DeliveryList.csv')\n",
    "df_DL[:2]"
   ]
  },
  {
   "cell_type": "code",
   "execution_count": 3,
   "id": "d2dff5c0-898f-4540-a63a-424e0d74596f",
   "metadata": {
    "collapsed": true,
    "jupyter": {
     "outputs_hidden": true
    },
    "tags": []
   },
   "outputs": [
    {
     "name": "stdout",
     "output_type": "stream",
     "text": [
      "<class 'pandas.core.frame.DataFrame'>\n",
      "RangeIndex: 15000 entries, 0 to 14999\n",
      "Data columns (total 7 columns):\n",
      " #   Column  Non-Null Count  Dtype  \n",
      "---  ------  --------------  -----  \n",
      " 0   날짜      15000 non-null  object \n",
      " 1   상품명     15000 non-null  object \n",
      " 2   바코드     14992 non-null  float64\n",
      " 3   발주가능상태  15000 non-null  object \n",
      " 4   입고수량    15000 non-null  int64  \n",
      " 5   카테고리    15000 non-null  object \n",
      " 6   출고수량    15000 non-null  int64  \n",
      "dtypes: float64(1), int64(2), object(4)\n",
      "memory usage: 820.4+ KB\n"
     ]
    }
   ],
   "source": [
    "df_DL.info()"
   ]
  },
  {
   "cell_type": "code",
   "execution_count": 5,
   "id": "29b092b0-9fbb-481e-891f-545fcd26d014",
   "metadata": {},
   "outputs": [
    {
     "data": {
      "text/html": [
       "<div>\n",
       "<style scoped>\n",
       "    .dataframe tbody tr th:only-of-type {\n",
       "        vertical-align: middle;\n",
       "    }\n",
       "\n",
       "    .dataframe tbody tr th {\n",
       "        vertical-align: top;\n",
       "    }\n",
       "\n",
       "    .dataframe thead th {\n",
       "        text-align: right;\n",
       "    }\n",
       "</style>\n",
       "<table border=\"1\" class=\"dataframe\">\n",
       "  <thead>\n",
       "    <tr style=\"text-align: right;\">\n",
       "      <th></th>\n",
       "      <th>날짜</th>\n",
       "      <th>상품명</th>\n",
       "      <th>발주가능상태</th>\n",
       "      <th>카테고리</th>\n",
       "    </tr>\n",
       "  </thead>\n",
       "  <tbody>\n",
       "    <tr>\n",
       "      <th>count</th>\n",
       "      <td>15000</td>\n",
       "      <td>15000</td>\n",
       "      <td>15000</td>\n",
       "      <td>15000</td>\n",
       "    </tr>\n",
       "    <tr>\n",
       "      <th>unique</th>\n",
       "      <td>84</td>\n",
       "      <td>528</td>\n",
       "      <td>3</td>\n",
       "      <td>8</td>\n",
       "    </tr>\n",
       "    <tr>\n",
       "      <th>top</th>\n",
       "      <td>2019-05-26</td>\n",
       "      <td>V2_114</td>\n",
       "      <td>발주가능</td>\n",
       "      <td>세탁세제</td>\n",
       "    </tr>\n",
       "    <tr>\n",
       "      <th>freq</th>\n",
       "      <td>226</td>\n",
       "      <td>47</td>\n",
       "      <td>14700</td>\n",
       "      <td>4265</td>\n",
       "    </tr>\n",
       "  </tbody>\n",
       "</table>\n",
       "</div>"
      ],
      "text/plain": [
       "                날짜     상품명 발주가능상태   카테고리\n",
       "count        15000   15000  15000  15000\n",
       "unique          84     528      3      8\n",
       "top     2019-05-26  V2_114   발주가능   세탁세제\n",
       "freq           226      47  14700   4265"
      ]
     },
     "execution_count": 5,
     "metadata": {},
     "output_type": "execute_result"
    }
   ],
   "source": [
    "df_DL.describe(include=object)"
   ]
  },
  {
   "cell_type": "code",
   "execution_count": 14,
   "id": "3087ecea-feb0-432b-b20d-cc899a77014f",
   "metadata": {},
   "outputs": [],
   "source": [
    "df_DL['날짜_datetime'] = pd.to_datetime(df_DL['날짜'])"
   ]
  },
  {
   "cell_type": "code",
   "execution_count": 37,
   "id": "1ec05009-8874-4488-b6cc-8dfb41e1a25f",
   "metadata": {
    "tags": []
   },
   "outputs": [
    {
     "data": {
      "text/html": [
       "<div>\n",
       "<style scoped>\n",
       "    .dataframe tbody tr th:only-of-type {\n",
       "        vertical-align: middle;\n",
       "    }\n",
       "\n",
       "    .dataframe tbody tr th {\n",
       "        vertical-align: top;\n",
       "    }\n",
       "\n",
       "    .dataframe thead th {\n",
       "        text-align: right;\n",
       "    }\n",
       "</style>\n",
       "<table border=\"1\" class=\"dataframe\">\n",
       "  <thead>\n",
       "    <tr style=\"text-align: right;\">\n",
       "      <th></th>\n",
       "      <th>바코드</th>\n",
       "      <th>입고수량</th>\n",
       "      <th>출고수량</th>\n",
       "      <th>날짜_datetime</th>\n",
       "      <th>날짜_datetime_year</th>\n",
       "      <th>날짜_datetime_month</th>\n",
       "      <th>날짜_datetime_week</th>\n",
       "    </tr>\n",
       "  </thead>\n",
       "  <tbody>\n",
       "    <tr>\n",
       "      <th>count</th>\n",
       "      <td>1.499200e+04</td>\n",
       "      <td>15000.000000</td>\n",
       "      <td>15000.000000</td>\n",
       "      <td>15000</td>\n",
       "      <td>15000.0</td>\n",
       "      <td>15000.000000</td>\n",
       "      <td>15000.000000</td>\n",
       "    </tr>\n",
       "    <tr>\n",
       "      <th>mean</th>\n",
       "      <td>1.294839e+13</td>\n",
       "      <td>58.144533</td>\n",
       "      <td>7.205200</td>\n",
       "      <td>2019-06-23 06:23:02.400000</td>\n",
       "      <td>2019.0</td>\n",
       "      <td>6.242267</td>\n",
       "      <td>25.463267</td>\n",
       "    </tr>\n",
       "    <tr>\n",
       "      <th>min</th>\n",
       "      <td>6.414100e+12</td>\n",
       "      <td>0.000000</td>\n",
       "      <td>0.000000</td>\n",
       "      <td>2019-05-16 00:00:00</td>\n",
       "      <td>2019.0</td>\n",
       "      <td>5.000000</td>\n",
       "      <td>20.000000</td>\n",
       "    </tr>\n",
       "    <tr>\n",
       "      <th>25%</th>\n",
       "      <td>8.801046e+12</td>\n",
       "      <td>0.000000</td>\n",
       "      <td>0.000000</td>\n",
       "      <td>2019-06-03 00:00:00</td>\n",
       "      <td>2019.0</td>\n",
       "      <td>6.000000</td>\n",
       "      <td>23.000000</td>\n",
       "    </tr>\n",
       "    <tr>\n",
       "      <th>50%</th>\n",
       "      <td>8.801047e+12</td>\n",
       "      <td>0.000000</td>\n",
       "      <td>1.000000</td>\n",
       "      <td>2019-06-23 00:00:00</td>\n",
       "      <td>2019.0</td>\n",
       "      <td>6.000000</td>\n",
       "      <td>25.000000</td>\n",
       "    </tr>\n",
       "    <tr>\n",
       "      <th>75%</th>\n",
       "      <td>1.880105e+13</td>\n",
       "      <td>0.000000</td>\n",
       "      <td>4.000000</td>\n",
       "      <td>2019-07-11 00:00:00</td>\n",
       "      <td>2019.0</td>\n",
       "      <td>7.000000</td>\n",
       "      <td>28.000000</td>\n",
       "    </tr>\n",
       "    <tr>\n",
       "      <th>max</th>\n",
       "      <td>2.880105e+13</td>\n",
       "      <td>9777.000000</td>\n",
       "      <td>308.000000</td>\n",
       "      <td>2019-08-07 00:00:00</td>\n",
       "      <td>2019.0</td>\n",
       "      <td>8.000000</td>\n",
       "      <td>32.000000</td>\n",
       "    </tr>\n",
       "    <tr>\n",
       "      <th>std</th>\n",
       "      <td>5.243929e+12</td>\n",
       "      <td>348.398250</td>\n",
       "      <td>19.819656</td>\n",
       "      <td>NaN</td>\n",
       "      <td>0.0</td>\n",
       "      <td>0.850816</td>\n",
       "      <td>3.313475</td>\n",
       "    </tr>\n",
       "  </tbody>\n",
       "</table>\n",
       "</div>"
      ],
      "text/plain": [
       "                바코드          입고수량          출고수량                 날짜_datetime  \\\n",
       "count  1.499200e+04  15000.000000  15000.000000                       15000   \n",
       "mean   1.294839e+13     58.144533      7.205200  2019-06-23 06:23:02.400000   \n",
       "min    6.414100e+12      0.000000      0.000000         2019-05-16 00:00:00   \n",
       "25%    8.801046e+12      0.000000      0.000000         2019-06-03 00:00:00   \n",
       "50%    8.801047e+12      0.000000      1.000000         2019-06-23 00:00:00   \n",
       "75%    1.880105e+13      0.000000      4.000000         2019-07-11 00:00:00   \n",
       "max    2.880105e+13   9777.000000    308.000000         2019-08-07 00:00:00   \n",
       "std    5.243929e+12    348.398250     19.819656                         NaN   \n",
       "\n",
       "       날짜_datetime_year  날짜_datetime_month  날짜_datetime_week  \n",
       "count           15000.0       15000.000000      15000.000000  \n",
       "mean             2019.0           6.242267         25.463267  \n",
       "min              2019.0           5.000000         20.000000  \n",
       "25%              2019.0           6.000000         23.000000  \n",
       "50%              2019.0           6.000000         25.000000  \n",
       "75%              2019.0           7.000000         28.000000  \n",
       "max              2019.0           8.000000         32.000000  \n",
       "std                 0.0           0.850816          3.313475  "
      ]
     },
     "execution_count": 37,
     "metadata": {},
     "output_type": "execute_result"
    }
   ],
   "source": [
    "df_DL.describe(datetime_is_numeric=True) # 확인 필요"
   ]
  },
  {
   "cell_type": "code",
   "execution_count": 34,
   "id": "9c409040-5df7-4c93-886c-83f43a6a071a",
   "metadata": {},
   "outputs": [
    {
     "data": {
      "text/html": [
       "<div>\n",
       "<style scoped>\n",
       "    .dataframe tbody tr th:only-of-type {\n",
       "        vertical-align: middle;\n",
       "    }\n",
       "\n",
       "    .dataframe tbody tr th {\n",
       "        vertical-align: top;\n",
       "    }\n",
       "\n",
       "    .dataframe thead th {\n",
       "        text-align: right;\n",
       "    }\n",
       "</style>\n",
       "<table border=\"1\" class=\"dataframe\">\n",
       "  <thead>\n",
       "    <tr style=\"text-align: right;\">\n",
       "      <th></th>\n",
       "      <th>날짜</th>\n",
       "      <th>상품명</th>\n",
       "      <th>바코드</th>\n",
       "      <th>발주가능상태</th>\n",
       "      <th>입고수량</th>\n",
       "      <th>카테고리</th>\n",
       "      <th>출고수량</th>\n",
       "      <th>날짜_datetime</th>\n",
       "      <th>날짜_datetime_year</th>\n",
       "      <th>날짜_datetime_month</th>\n",
       "      <th>날짜_datetime_week</th>\n",
       "    </tr>\n",
       "  </thead>\n",
       "  <tbody>\n",
       "    <tr>\n",
       "      <th>0</th>\n",
       "      <td>2019-05-16</td>\n",
       "      <td>V2_0</td>\n",
       "      <td>8.801047e+12</td>\n",
       "      <td>발주가능</td>\n",
       "      <td>384</td>\n",
       "      <td>세탁세제</td>\n",
       "      <td>72</td>\n",
       "      <td>2019-05-16</td>\n",
       "      <td>2019</td>\n",
       "      <td>5</td>\n",
       "      <td>20</td>\n",
       "    </tr>\n",
       "    <tr>\n",
       "      <th>1</th>\n",
       "      <td>2019-05-16</td>\n",
       "      <td>V2_3</td>\n",
       "      <td>8.801047e+12</td>\n",
       "      <td>발주가능</td>\n",
       "      <td>207</td>\n",
       "      <td>세탁세제</td>\n",
       "      <td>5</td>\n",
       "      <td>2019-05-16</td>\n",
       "      <td>2019</td>\n",
       "      <td>5</td>\n",
       "      <td>20</td>\n",
       "    </tr>\n",
       "  </tbody>\n",
       "</table>\n",
       "</div>"
      ],
      "text/plain": [
       "           날짜   상품명           바코드 발주가능상태  입고수량  카테고리  출고수량 날짜_datetime  \\\n",
       "0  2019-05-16  V2_0  8.801047e+12   발주가능   384  세탁세제    72  2019-05-16   \n",
       "1  2019-05-16  V2_3  8.801047e+12   발주가능   207  세탁세제     5  2019-05-16   \n",
       "\n",
       "   날짜_datetime_year  날짜_datetime_month  날짜_datetime_week  \n",
       "0              2019                  5                20  \n",
       "1              2019                  5                20  "
      ]
     },
     "execution_count": 34,
     "metadata": {},
     "output_type": "execute_result"
    }
   ],
   "source": [
    "df_DL[:2]"
   ]
  },
  {
   "cell_type": "code",
   "execution_count": 43,
   "id": "95ca37a4-d2d2-452d-ab16-68f4078400d5",
   "metadata": {},
   "outputs": [
    {
     "data": {
      "text/plain": [
       "0         Thursday\n",
       "1         Thursday\n",
       "2         Thursday\n",
       "3         Thursday\n",
       "4         Thursday\n",
       "           ...    \n",
       "14995    Wednesday\n",
       "14996    Wednesday\n",
       "14997    Wednesday\n",
       "14998    Wednesday\n",
       "14999    Wednesday\n",
       "Name: 날짜_datetime, Length: 15000, dtype: object"
      ]
     },
     "execution_count": 43,
     "metadata": {},
     "output_type": "execute_result"
    }
   ],
   "source": [
    "#df_DL['날짜_datetime_year'] = df_DL['날짜_datetime'].dt.year\n",
    "#df_DL['날짜_datetime_month'] = df_DL['날짜_datetime'].dt.month\n",
    "#df_DL['날짜_datetime_week'] = df_DL['날짜_datetime'].dt.weekofyear\n",
    "#df_DL['날짜_datetime'].dt.dayofweek\n",
    "df_DL['날짜_datetime'].dt.day_name()"
   ]
  },
  {
   "cell_type": "code",
   "execution_count": 27,
   "id": "c02fbfa9-7a38-43eb-9598-08b8607fb61c",
   "metadata": {
    "collapsed": true,
    "jupyter": {
     "outputs_hidden": true
    },
    "tags": []
   },
   "outputs": [
    {
     "data": {
      "text/plain": [
       "<AxesSubplot:xlabel='날짜_datetime_month'>"
      ]
     },
     "execution_count": 27,
     "metadata": {},
     "output_type": "execute_result"
    },
    {
     "data": {
      "image/png": "[encoded data removed]",
      "text/plain": [
       "<Figure size 640x480 with 1 Axes>"
      ]
     },
     "metadata": {},
     "output_type": "display_data"
    }
   ],
   "source": [
    "pd.pivot_table(data=df_DL, index='날짜_datetime_month', values='출고수량', aggfunc=sum).plot(kind='bar')  # 1차 방법(2차 데이터 사용시)"
   ]
  },
  {
   "cell_type": "code",
   "execution_count": 30,
   "id": "4edf19df-a559-42b9-9464-f3cf1444d426",
   "metadata": {
    "tags": []
   },
   "outputs": [
    {
     "data": {
      "text/plain": [
       "<AxesSubplot:xlabel='날짜_datetime_month', ylabel='출고수량'>"
      ]
     },
     "execution_count": 30,
     "metadata": {},
     "output_type": "execute_result"
    },
    {
     "data": {
      "image/png": "[encoded data removed]",
      "text/plain": [
       "<Figure size 640x480 with 1 Axes>"
      ]
     },
     "metadata": {},
     "output_type": "display_data"
    }
   ],
   "source": [
    "sns.barplot(data=df_DL, x='날짜_datetime_month', y='출고수량', estimator=sum) # 2차 방법(단순 시각화)"
   ]
  },
  {
   "cell_type": "code",
   "execution_count": 33,
   "id": "f2d2060d-0ab6-4cfc-b203-f85663a1fb9d",
   "metadata": {},
   "outputs": [
    {
     "name": "stderr",
     "output_type": "stream",
     "text": [
      "C:\\Users\\05-16\\AppData\\Local\\Temp\\ipykernel_2440\\2556811622.py:1: FutureWarning: Series.dt.weekofyear and Series.dt.week have been deprecated. Please use Series.dt.isocalendar().week instead.\n",
      "  df_DL['날짜_datetime_week'] = df_DL['날짜_datetime'].dt.weekofyear\n"
     ]
    }
   ],
   "source": []
  },
  {
   "cell_type": "code",
   "execution_count": 36,
   "id": "85553792-7d9a-48ed-a928-fd6fb0cea053",
   "metadata": {},
   "outputs": [
    {
     "data": {
      "text/plain": [
       "<AxesSubplot:xlabel='날짜_datetime_week', ylabel='출고수량'>"
      ]
     },
     "execution_count": 36,
     "metadata": {},
     "output_type": "execute_result"
    },
    {
     "data": {
      "image/png": "[encoded data removed]",
      "text/plain": [
       "<Figure size 640x480 with 1 Axes>"
      ]
     },
     "metadata": {},
     "output_type": "display_data"
    }
   ],
   "source": [
    "sns.lineplot(data=df_DL, x='날짜_datetime_week', y='출고수량', estimator=sum)"
   ]
  },
  {
   "cell_type": "markdown",
   "id": "8911e941-2763-4bc7-9b01-feef17b6f53b",
   "metadata": {},
   "source": [
    "### Delivery List dataset 2"
   ]
  },
  {
   "cell_type": "code",
   "execution_count": 44,
   "id": "02e3155b-feae-4eab-9dc2-b7b1aba3c5d7",
   "metadata": {},
   "outputs": [
    {
     "data": {
      "text/html": [
       "<div>\n",
       "<style scoped>\n",
       "    .dataframe tbody tr th:only-of-type {\n",
       "        vertical-align: middle;\n",
       "    }\n",
       "\n",
       "    .dataframe tbody tr th {\n",
       "        vertical-align: top;\n",
       "    }\n",
       "\n",
       "    .dataframe thead th {\n",
       "        text-align: right;\n",
       "    }\n",
       "</style>\n",
       "<table border=\"1\" class=\"dataframe\">\n",
       "  <thead>\n",
       "    <tr style=\"text-align: right;\">\n",
       "      <th></th>\n",
       "      <th>결제수단</th>\n",
       "      <th>배송번호</th>\n",
       "      <th>배송시작일</th>\n",
       "      <th>배송완료일</th>\n",
       "      <th>상품구매금액</th>\n",
       "      <th>상품번호</th>\n",
       "      <th>수량</th>\n",
       "      <th>주문경로</th>\n",
       "      <th>주문일</th>\n",
       "    </tr>\n",
       "  </thead>\n",
       "  <tbody>\n",
       "    <tr>\n",
       "      <th>0</th>\n",
       "      <td>무통장입금</td>\n",
       "      <td>D-20181227-0000648-00</td>\n",
       "      <td>2019-01-07 오전 8:56</td>\n",
       "      <td>2019-01-11 오전 5:32</td>\n",
       "      <td>71450</td>\n",
       "      <td>1077.0</td>\n",
       "      <td>1</td>\n",
       "      <td>PC쇼핑몰</td>\n",
       "      <td>20181227</td>\n",
       "    </tr>\n",
       "    <tr>\n",
       "      <th>1</th>\n",
       "      <td>무통장입금</td>\n",
       "      <td>D-20181229-0000119-00</td>\n",
       "      <td>2019-01-03 오전 9:30</td>\n",
       "      <td>2019-01-07 오전 5:32</td>\n",
       "      <td>141240</td>\n",
       "      <td>42.0</td>\n",
       "      <td>2</td>\n",
       "      <td>모바일웹</td>\n",
       "      <td>20181229</td>\n",
       "    </tr>\n",
       "  </tbody>\n",
       "</table>\n",
       "</div>"
      ],
      "text/plain": [
       "    결제수단                   배송번호               배송시작일               배송완료일  \\\n",
       "0  무통장입금  D-20181227-0000648-00  2019-01-07 오전 8:56  2019-01-11 오전 5:32   \n",
       "1  무통장입금  D-20181229-0000119-00  2019-01-03 오전 9:30  2019-01-07 오전 5:32   \n",
       "\n",
       "   상품구매금액    상품번호  수량   주문경로       주문일  \n",
       "0   71450  1077.0   1  PC쇼핑몰  20181227  \n",
       "1  141240    42.0   2   모바일웹  20181229  "
      ]
     },
     "execution_count": 44,
     "metadata": {},
     "output_type": "execute_result"
    }
   ],
   "source": [
    "df_DL2 = pd.read_csv('../../datasets/DeliveryList2.csv')\n",
    "df_DL2[:2]"
   ]
  },
  {
   "cell_type": "code",
   "execution_count": 45,
   "id": "5aad0cc5-f55d-41be-9035-d05791a29caf",
   "metadata": {
    "collapsed": true,
    "jupyter": {
     "outputs_hidden": true
    },
    "tags": []
   },
   "outputs": [
    {
     "data": {
      "text/html": [
       "<div>\n",
       "<style scoped>\n",
       "    .dataframe tbody tr th:only-of-type {\n",
       "        vertical-align: middle;\n",
       "    }\n",
       "\n",
       "    .dataframe tbody tr th {\n",
       "        vertical-align: top;\n",
       "    }\n",
       "\n",
       "    .dataframe thead th {\n",
       "        text-align: right;\n",
       "    }\n",
       "</style>\n",
       "<table border=\"1\" class=\"dataframe\">\n",
       "  <thead>\n",
       "    <tr style=\"text-align: right;\">\n",
       "      <th></th>\n",
       "      <th>상품구매금액</th>\n",
       "      <th>상품번호</th>\n",
       "      <th>수량</th>\n",
       "      <th>주문일</th>\n",
       "    </tr>\n",
       "  </thead>\n",
       "  <tbody>\n",
       "    <tr>\n",
       "      <th>count</th>\n",
       "      <td>4.674900e+04</td>\n",
       "      <td>46661.000000</td>\n",
       "      <td>46749.000000</td>\n",
       "      <td>4.674900e+04</td>\n",
       "    </tr>\n",
       "    <tr>\n",
       "      <th>mean</th>\n",
       "      <td>6.936814e+04</td>\n",
       "      <td>763.193073</td>\n",
       "      <td>1.177822</td>\n",
       "      <td>2.018404e+07</td>\n",
       "    </tr>\n",
       "    <tr>\n",
       "      <th>std</th>\n",
       "      <td>6.611247e+04</td>\n",
       "      <td>456.323734</td>\n",
       "      <td>0.683334</td>\n",
       "      <td>5.192403e+03</td>\n",
       "    </tr>\n",
       "    <tr>\n",
       "      <th>min</th>\n",
       "      <td>0.000000e+00</td>\n",
       "      <td>38.000000</td>\n",
       "      <td>1.000000</td>\n",
       "      <td>2.017010e+07</td>\n",
       "    </tr>\n",
       "    <tr>\n",
       "      <th>25%</th>\n",
       "      <td>3.288000e+04</td>\n",
       "      <td>378.000000</td>\n",
       "      <td>1.000000</td>\n",
       "      <td>2.018073e+07</td>\n",
       "    </tr>\n",
       "    <tr>\n",
       "      <th>50%</th>\n",
       "      <td>6.778000e+04</td>\n",
       "      <td>928.000000</td>\n",
       "      <td>1.000000</td>\n",
       "      <td>2.018112e+07</td>\n",
       "    </tr>\n",
       "    <tr>\n",
       "      <th>75%</th>\n",
       "      <td>9.213000e+04</td>\n",
       "      <td>1209.000000</td>\n",
       "      <td>1.000000</td>\n",
       "      <td>2.019022e+07</td>\n",
       "    </tr>\n",
       "    <tr>\n",
       "      <th>max</th>\n",
       "      <td>4.963400e+06</td>\n",
       "      <td>1681.000000</td>\n",
       "      <td>50.000000</td>\n",
       "      <td>2.019062e+07</td>\n",
       "    </tr>\n",
       "  </tbody>\n",
       "</table>\n",
       "</div>"
      ],
      "text/plain": [
       "             상품구매금액          상품번호            수량           주문일\n",
       "count  4.674900e+04  46661.000000  46749.000000  4.674900e+04\n",
       "mean   6.936814e+04    763.193073      1.177822  2.018404e+07\n",
       "std    6.611247e+04    456.323734      0.683334  5.192403e+03\n",
       "min    0.000000e+00     38.000000      1.000000  2.017010e+07\n",
       "25%    3.288000e+04    378.000000      1.000000  2.018073e+07\n",
       "50%    6.778000e+04    928.000000      1.000000  2.018112e+07\n",
       "75%    9.213000e+04   1209.000000      1.000000  2.019022e+07\n",
       "max    4.963400e+06   1681.000000     50.000000  2.019062e+07"
      ]
     },
     "execution_count": 45,
     "metadata": {},
     "output_type": "execute_result"
    }
   ],
   "source": [
    "df_DL2.describe(datetime_is_numeric=True)"
   ]
  },
  {
   "cell_type": "markdown",
   "id": "790c0e8e-f18b-4c13-8f24-e42742bb3036",
   "metadata": {
    "tags": []
   },
   "source": [
    "#### int 형은 string and then datetime 순서로 변환"
   ]
  },
  {
   "cell_type": "code",
   "execution_count": 47,
   "id": "b6ec6f91-2df5-4789-87ec-64190ed245a6",
   "metadata": {
    "collapsed": true,
    "jupyter": {
     "outputs_hidden": true
    },
    "tags": []
   },
   "outputs": [
    {
     "name": "stdout",
     "output_type": "stream",
     "text": [
      "<class 'pandas.core.series.Series'>\n",
      "RangeIndex: 46749 entries, 0 to 46748\n",
      "Series name: 주문일\n",
      "Non-Null Count  Dtype\n",
      "--------------  -----\n",
      "46749 non-null  int64\n",
      "dtypes: int64(1)\n",
      "memory usage: 365.4 KB\n"
     ]
    }
   ],
   "source": [
    "df_DL2['주문일'].info()"
   ]
  },
  {
   "cell_type": "code",
   "execution_count": 49,
   "id": "d09424bd-d551-4ca1-bef3-28d4604952c9",
   "metadata": {
    "collapsed": true,
    "jupyter": {
     "outputs_hidden": true
    },
    "tags": []
   },
   "outputs": [
    {
     "data": {
      "text/plain": [
       "0       2018-12-27\n",
       "1       2018-12-29\n",
       "2       2018-12-30\n",
       "3       2018-12-31\n",
       "4       2018-12-31\n",
       "           ...    \n",
       "46744   2017-12-29\n",
       "46745   2017-12-29\n",
       "46746   2017-12-30\n",
       "46747   2017-12-31\n",
       "46748   2017-12-31\n",
       "Name: 주문일, Length: 46749, dtype: datetime64[ns]"
      ]
     },
     "execution_count": 49,
     "metadata": {},
     "output_type": "execute_result"
    }
   ],
   "source": [
    "pd.to_datetime(df_DL2['주문일'].astype(str))"
   ]
  },
  {
   "cell_type": "markdown",
   "id": "f3a24592-602e-46a3-a898-bbe93e119599",
   "metadata": {},
   "source": [
    "#### 특정 기호가 들어간 string 경우 apply() 적용 후 datetime 변환"
   ]
  },
  {
   "cell_type": "code",
   "execution_count": 56,
   "id": "e37a13d4-902f-42af-b080-f71289e9e252",
   "metadata": {},
   "outputs": [],
   "source": [
    "#str('2019-01-11 오전 5:32')[:10]\n",
    "def slicing_YMD(datetime_str) :\n",
    "    return datetime_str[:10]"
   ]
  },
  {
   "cell_type": "code",
   "execution_count": 59,
   "id": "dfdc7a08-2d51-4d1d-a4b5-a9852652f57e",
   "metadata": {},
   "outputs": [],
   "source": [
    "df_DL2['배송시작일_datetime'] = pd.to_datetime(df_DL2['배송시작일'].apply(slicing_YMD))\n",
    "df_DL2['배송완료일_datetime'] = pd.to_datetime(df_DL2['배송완료일'].apply(slicing_YMD))"
   ]
  },
  {
   "cell_type": "code",
   "execution_count": 65,
   "id": "7a7cf7a5-3a8b-4309-b4e9-62743632fccc",
   "metadata": {
    "collapsed": true,
    "jupyter": {
     "outputs_hidden": true
    },
    "tags": []
   },
   "outputs": [
    {
     "data": {
      "text/plain": [
       "0         2019-01-07 오전 8:56\n",
       "1         2019-01-03 오전 9:30\n",
       "2         2019-01-03 오전 9:30\n",
       "3         2019-01-03 오전 9:30\n",
       "4         2019-01-07 오전 8:56\n",
       "                ...         \n",
       "46744     2017-12-29 오후 4:32\n",
       "46745     2018-01-03 오전 9:45\n",
       "46746     2018-01-02 오후 7:06\n",
       "46747     2018-01-03 오후 2:00\n",
       "46748    2018-01-03 오후 12:43\n",
       "Name: 배송시작일, Length: 46749, dtype: object"
      ]
     },
     "execution_count": 65,
     "metadata": {},
     "output_type": "execute_result"
    }
   ],
   "source": [
    "df_DL2['배송시작일']"
   ]
  },
  {
   "cell_type": "code",
   "execution_count": 60,
   "id": "de31622a-0c32-472f-9675-20647ae56414",
   "metadata": {
    "collapsed": true,
    "jupyter": {
     "outputs_hidden": true
    },
    "tags": []
   },
   "outputs": [
    {
     "name": "stdout",
     "output_type": "stream",
     "text": [
      "<class 'pandas.core.frame.DataFrame'>\n",
      "RangeIndex: 46749 entries, 0 to 46748\n",
      "Data columns (total 2 columns):\n",
      " #   Column          Non-Null Count  Dtype         \n",
      "---  ------          --------------  -----         \n",
      " 0   배송시작일_datetime  46749 non-null  datetime64[ns]\n",
      " 1   배송완료일_datetime  46749 non-null  datetime64[ns]\n",
      "dtypes: datetime64[ns](2)\n",
      "memory usage: 730.6 KB\n"
     ]
    }
   ],
   "source": [
    "df_DL2[['배송시작일_datetime', '배송완료일_datetime']].info()"
   ]
  },
  {
   "cell_type": "code",
   "execution_count": 63,
   "id": "08cb0f0a-3b3b-427b-b86f-51e69ecdce66",
   "metadata": {},
   "outputs": [],
   "source": [
    "df_DL2['배송_duration'] = df_DL2['배송완료일_datetime'] - df_DL2['배송시작일_datetime']"
   ]
  },
  {
   "cell_type": "code",
   "execution_count": 64,
   "id": "331c58fb-6572-44f6-a5f0-ab75a15205f6",
   "metadata": {
    "collapsed": true,
    "jupyter": {
     "outputs_hidden": true
    },
    "tags": []
   },
   "outputs": [
    {
     "data": {
      "text/plain": [
       "count                        46749\n",
       "mean     4 days 04:38:57.008278251\n",
       "std      1 days 04:56:12.144368428\n",
       "min                0 days 00:00:00\n",
       "25%                4 days 00:00:00\n",
       "50%                4 days 00:00:00\n",
       "75%                4 days 00:00:00\n",
       "max               47 days 00:00:00\n",
       "Name: 배송_duration, dtype: object"
      ]
     },
     "execution_count": 64,
     "metadata": {},
     "output_type": "execute_result"
    }
   ],
   "source": [
    "df_DL2['배송_duration'].describe()"
   ]
  },
  {
   "cell_type": "code",
   "execution_count": null,
   "id": "7b5e3533-8226-4a75-bec3-febe553be46b",
   "metadata": {},
   "outputs": [],
   "source": []
  }
 ],
 "metadata": {
  "kernelspec": {
   "display_name": "Python 3 (ipykernel)",
   "language": "python",
   "name": "python3"
  },
  "language_info": {
   "codemirror_mode": {
    "name": "ipython",
    "version": 3
   },
   "file_extension": ".py",
   "mimetype": "text/x-python",
   "name": "python",
   "nbconvert_exporter": "python",
   "pygments_lexer": "ipython3",
   "version": "3.9.13"
  }
 },
 "nbformat": 4,
 "nbformat_minor": 5
}
