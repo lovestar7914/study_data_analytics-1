{
 "cells": [
  {
   "cell_type": "code",
   "execution_count": 1,
   "id": "eb5e4142-bb1b-4de7-966b-2db66f2d3e2b",
   "metadata": {
    "tags": []
   },
   "outputs": [],
   "source": [
    "import pandas as pd"
   ]
  },
  {
   "cell_type": "markdown",
   "id": "1ef37603-d6ce-49a4-a082-112e884d3c49",
   "metadata": {
    "tags": []
   },
   "source": [
    "#### DDA 선택 기준\n",
    "- 분석 제공 대상 선정 : 컬럼 선택 기준 달라짐.\n",
    "    - 환자\n",
    "    - 의사\n",
    "    - 병원 운영 관리자.\n",
    "    - 보호자"
   ]
  },
  {
   "cell_type": "code",
   "execution_count": 2,
   "id": "357daca0-c5bd-4d06-b64c-b8f342a5f678",
   "metadata": {
    "tags": []
   },
   "outputs": [
    {
     "data": {
      "text/html": [
       "<div>\n",
       "<style scoped>\n",
       "    .dataframe tbody tr th:only-of-type {\n",
       "        vertical-align: middle;\n",
       "    }\n",
       "\n",
       "    .dataframe tbody tr th {\n",
       "        vertical-align: top;\n",
       "    }\n",
       "\n",
       "    .dataframe thead th {\n",
       "        text-align: right;\n",
       "    }\n",
       "</style>\n",
       "<table border=\"1\" class=\"dataframe\">\n",
       "  <thead>\n",
       "    <tr style=\"text-align: right;\">\n",
       "      <th></th>\n",
       "      <th>Unnamed: 0</th>\n",
       "      <th>환자ID</th>\n",
       "      <th>Large Lymphocyte</th>\n",
       "      <th>Location of herniation</th>\n",
       "      <th>ODI</th>\n",
       "      <th>가족력</th>\n",
       "      <th>간질성폐질환</th>\n",
       "      <th>고혈압여부</th>\n",
       "      <th>과거수술횟수</th>\n",
       "      <th>당뇨여부</th>\n",
       "      <th>...</th>\n",
       "      <th>Modic change</th>\n",
       "      <th>PI</th>\n",
       "      <th>PT</th>\n",
       "      <th>Seg Angle(raw)</th>\n",
       "      <th>Vaccum disc</th>\n",
       "      <th>골밀도</th>\n",
       "      <th>디스크단면적</th>\n",
       "      <th>디스크위치</th>\n",
       "      <th>척추이동척도</th>\n",
       "      <th>척추전방위증</th>\n",
       "    </tr>\n",
       "  </thead>\n",
       "  <tbody>\n",
       "    <tr>\n",
       "      <th>0</th>\n",
       "      <td>0</td>\n",
       "      <td>1PT</td>\n",
       "      <td>22.8</td>\n",
       "      <td>3</td>\n",
       "      <td>51.0</td>\n",
       "      <td>0.0</td>\n",
       "      <td>0</td>\n",
       "      <td>0</td>\n",
       "      <td>0</td>\n",
       "      <td>0</td>\n",
       "      <td>...</td>\n",
       "      <td>3</td>\n",
       "      <td>51.6</td>\n",
       "      <td>36.6</td>\n",
       "      <td>14.4</td>\n",
       "      <td>0</td>\n",
       "      <td>-1.01</td>\n",
       "      <td>2048.5</td>\n",
       "      <td>4</td>\n",
       "      <td>Down</td>\n",
       "      <td>0</td>\n",
       "    </tr>\n",
       "    <tr>\n",
       "      <th>1</th>\n",
       "      <td>1</td>\n",
       "      <td>2PT</td>\n",
       "      <td>44.9</td>\n",
       "      <td>4</td>\n",
       "      <td>26.0</td>\n",
       "      <td>0.0</td>\n",
       "      <td>0</td>\n",
       "      <td>0</td>\n",
       "      <td>0</td>\n",
       "      <td>0</td>\n",
       "      <td>...</td>\n",
       "      <td>0</td>\n",
       "      <td>40.8</td>\n",
       "      <td>7.2</td>\n",
       "      <td>17.8</td>\n",
       "      <td>0</td>\n",
       "      <td>-1.14</td>\n",
       "      <td>1753.1</td>\n",
       "      <td>4</td>\n",
       "      <td>Up</td>\n",
       "      <td>0</td>\n",
       "    </tr>\n",
       "  </tbody>\n",
       "</table>\n",
       "<p>2 rows × 52 columns</p>\n",
       "</div>"
      ],
      "text/plain": [
       "   Unnamed: 0 환자ID  Large Lymphocyte  Location of herniation   ODI  가족력  \\\n",
       "0           0  1PT              22.8                       3  51.0  0.0   \n",
       "1           1  2PT              44.9                       4  26.0  0.0   \n",
       "\n",
       "   간질성폐질환  고혈압여부  과거수술횟수  당뇨여부  ...  Modic change    PI    PT  Seg Angle(raw)  \\\n",
       "0       0      0       0     0  ...             3  51.6  36.6            14.4   \n",
       "1       0      0       0     0  ...             0  40.8   7.2            17.8   \n",
       "\n",
       "   Vaccum disc   골밀도  디스크단면적  디스크위치  척추이동척도  척추전방위증  \n",
       "0            0 -1.01  2048.5      4    Down       0  \n",
       "1            0 -1.14  1753.1      4      Up       0  \n",
       "\n",
       "[2 rows x 52 columns]"
      ]
     },
     "execution_count": 2,
     "metadata": {},
     "output_type": "execute_result"
    }
   ],
   "source": [
    "df_ROS = pd.read_csv('../../datasets/RecurrenceOfSurgery.csv')\n",
    "df_ROS.head(2)"
   ]
  },
  {
   "cell_type": "code",
   "execution_count": 3,
   "id": "0a8d1d01-ecb1-4af3-906b-b2afd2db328d",
   "metadata": {
    "tags": []
   },
   "outputs": [
    {
     "name": "stdout",
     "output_type": "stream",
     "text": [
      "<class 'pandas.core.frame.DataFrame'>\n",
      "RangeIndex: 1894 entries, 0 to 1893\n",
      "Data columns (total 52 columns):\n",
      " #   Column                  Non-Null Count  Dtype  \n",
      "---  ------                  --------------  -----  \n",
      " 0   Unnamed: 0              1894 non-null   int64  \n",
      " 1   환자ID                    1894 non-null   object \n",
      " 2   Large Lymphocyte        1894 non-null   float64\n",
      " 3   Location of herniation  1894 non-null   int64  \n",
      " 4   ODI                     462 non-null    float64\n",
      " 5   가족력                     1843 non-null   float64\n",
      " 6   간질성폐질환                  1894 non-null   int64  \n",
      " 7   고혈압여부                   1894 non-null   int64  \n",
      " 8   과거수술횟수                  1894 non-null   int64  \n",
      " 9   당뇨여부                    1894 non-null   int64  \n",
      " 10  말초동맥질환여부                1894 non-null   int64  \n",
      " 11  빈혈여부                    1894 non-null   int64  \n",
      " 12  성별                      1894 non-null   int64  \n",
      " 13  스테로이드치료                 1894 non-null   int64  \n",
      " 14  신부전여부                   1894 non-null   int64  \n",
      " 15  신장                      1894 non-null   int64  \n",
      " 16  심혈관질환                   1894 non-null   int64  \n",
      " 17  암발병여부                   1894 non-null   int64  \n",
      " 18  연령                      1894 non-null   int64  \n",
      " 19  우울증여부                   1894 non-null   int64  \n",
      " 20  입원기간                    1894 non-null   int64  \n",
      " 21  입원일자                    1894 non-null   int64  \n",
      " 22  종양진행여부                  1894 non-null   int64  \n",
      " 23  직업                      1479 non-null   object \n",
      " 24  체중                      1894 non-null   float64\n",
      " 25  퇴원일자                    1894 non-null   int64  \n",
      " 26  헤모글로빈수치                 1893 non-null   float64\n",
      " 27  혈전합병증여부                 1894 non-null   int64  \n",
      " 28  환자통증정도                  1894 non-null   int64  \n",
      " 29  흡연여부                    1894 non-null   int64  \n",
      " 30  통증기간(월)                 1890 non-null   float64\n",
      " 31  수술기법                    1813 non-null   object \n",
      " 32  수술시간                    1840 non-null   float64\n",
      " 33  수술실패여부                  1894 non-null   int64  \n",
      " 34  수술일자                    1894 non-null   int64  \n",
      " 35  재발여부                    1894 non-null   int64  \n",
      " 36  혈액형                     1894 non-null   object \n",
      " 37  전방디스크높이(mm)             1894 non-null   float64\n",
      " 38  후방디스크높이(mm)             1894 non-null   float64\n",
      " 39  지방축적도                   1891 non-null   float64\n",
      " 40  Instability             1894 non-null   int64  \n",
      " 41  MF + ES                 1894 non-null   float64\n",
      " 42  Modic change            1894 non-null   int64  \n",
      " 43  PI                      1890 non-null   float64\n",
      " 44  PT                      1890 non-null   float64\n",
      " 45  Seg Angle(raw)          1893 non-null   float64\n",
      " 46  Vaccum disc             1894 non-null   int64  \n",
      " 47  골밀도                     998 non-null    float64\n",
      " 48  디스크단면적                  1893 non-null   float64\n",
      " 49  디스크위치                   1894 non-null   int64  \n",
      " 50  척추이동척도                  1894 non-null   object \n",
      " 51  척추전방위증                  1894 non-null   int64  \n",
      "dtypes: float64(16), int64(31), object(5)\n",
      "memory usage: 769.6+ KB\n"
     ]
    }
   ],
   "source": [
    "df_ROS.info()"
   ]
  },
  {
   "cell_type": "markdown",
   "id": "0e5e6ab9-5b30-4862-9203-04ab8632ecef",
   "metadata": {
    "tags": []
   },
   "source": [
    "### 데이터 핸들링\n",
    "- 정렬 : df.sort_values(by=[], ascending=[])\n",
    "- 추출 \n",
    "    - 열 단위 추출 : df[['', '']], 컬럼 리스트로 한다.\n",
    "    - 행 단위 추출 : iloc[:3] : 0번째 행 ~ 2행 까지\n",
    "- 필터 : df.loc[conditions]\n",
    "- 요약 : pivot_table(index=, values=, aggfunc=)\n",
    "    - index : group by\n",
    "    - values : 대상 컬럼명\n",
    "    - aggfunc : 집합 함수(from numpy)"
   ]
  },
  {
   "cell_type": "markdown",
   "id": "6f633550-a612-42f7-9f6d-cca5eee054d3",
   "metadata": {},
   "source": [
    "### 환자 대상 분석 필요\n",
    "0. 변수 구조 확인\n",
    "1. 목표 변수 설정 : '재발여부' 정의\n",
    "2. 설명 변수 설정 : '성별','신장', '심혈관질환','체중','흡연여부', '연령', '직업', '혈액형 정의"
   ]
  },
  {
   "cell_type": "code",
   "execution_count": 4,
   "id": "0d09df39-5259-4213-a0d1-1ad82cabf4b1",
   "metadata": {
    "collapsed": true,
    "jupyter": {
     "outputs_hidden": true
    },
    "tags": []
   },
   "outputs": [
    {
     "data": {
      "text/plain": [
       "Index(['Unnamed: 0', '환자ID', 'Large Lymphocyte', 'Location of herniation',\n",
       "       'ODI', '가족력', '간질성폐질환', '고혈압여부', '과거수술횟수', '당뇨여부', '말초동맥질환여부', '빈혈여부',\n",
       "       '성별', '스테로이드치료', '신부전여부', '신장', '심혈관질환', '암발병여부', '연령', '우울증여부', '입원기간',\n",
       "       '입원일자', '종양진행여부', '직업', '체중', '퇴원일자', '헤모글로빈수치', '혈전합병증여부', '환자통증정도',\n",
       "       '흡연여부', '통증기간(월)', '수술기법', '수술시간', '수술실패여부', '수술일자', '재발여부', '혈액형',\n",
       "       '전방디스크높이(mm)', '후방디스크높이(mm)', '지방축적도', 'Instability', 'MF + ES',\n",
       "       'Modic change', 'PI', 'PT', 'Seg Angle(raw)', 'Vaccum disc', '골밀도',\n",
       "       '디스크단면적', '디스크위치', '척추이동척도', '척추전방위증'],\n",
       "      dtype='object')"
      ]
     },
     "execution_count": 4,
     "metadata": {},
     "output_type": "execute_result"
    }
   ],
   "source": [
    "df_ROS.columns"
   ]
  },
  {
   "cell_type": "code",
   "execution_count": 5,
   "id": "270e91d6-df49-4bee-be7b-a4bacf0f392f",
   "metadata": {
    "collapsed": true,
    "jupyter": {
     "outputs_hidden": true
    }
   },
   "outputs": [
    {
     "data": {
      "text/html": [
       "<div>\n",
       "<style scoped>\n",
       "    .dataframe tbody tr th:only-of-type {\n",
       "        vertical-align: middle;\n",
       "    }\n",
       "\n",
       "    .dataframe tbody tr th {\n",
       "        vertical-align: top;\n",
       "    }\n",
       "\n",
       "    .dataframe thead th {\n",
       "        text-align: right;\n",
       "    }\n",
       "</style>\n",
       "<table border=\"1\" class=\"dataframe\">\n",
       "  <thead>\n",
       "    <tr style=\"text-align: right;\">\n",
       "      <th></th>\n",
       "      <th>성별</th>\n",
       "      <th>신장</th>\n",
       "      <th>심혈관질환</th>\n",
       "      <th>체중</th>\n",
       "      <th>흡연여부</th>\n",
       "      <th>연령</th>\n",
       "      <th>직업</th>\n",
       "      <th>혈액형</th>\n",
       "      <th>재발여부</th>\n",
       "    </tr>\n",
       "  </thead>\n",
       "  <tbody>\n",
       "    <tr>\n",
       "      <th>1891</th>\n",
       "      <td>1</td>\n",
       "      <td>167</td>\n",
       "      <td>0</td>\n",
       "      <td>70.0</td>\n",
       "      <td>0</td>\n",
       "      <td>61</td>\n",
       "      <td>무직</td>\n",
       "      <td>RH+O</td>\n",
       "      <td>0</td>\n",
       "    </tr>\n",
       "    <tr>\n",
       "      <th>1892</th>\n",
       "      <td>1</td>\n",
       "      <td>177</td>\n",
       "      <td>0</td>\n",
       "      <td>77.0</td>\n",
       "      <td>0</td>\n",
       "      <td>29</td>\n",
       "      <td>사무직</td>\n",
       "      <td>RH+A</td>\n",
       "      <td>0</td>\n",
       "    </tr>\n",
       "    <tr>\n",
       "      <th>1893</th>\n",
       "      <td>2</td>\n",
       "      <td>168</td>\n",
       "      <td>0</td>\n",
       "      <td>49.0</td>\n",
       "      <td>0</td>\n",
       "      <td>30</td>\n",
       "      <td>사무직</td>\n",
       "      <td>RH+AB</td>\n",
       "      <td>0</td>\n",
       "    </tr>\n",
       "  </tbody>\n",
       "</table>\n",
       "</div>"
      ],
      "text/plain": [
       "      성별   신장  심혈관질환    체중  흡연여부  연령   직업    혈액형  재발여부\n",
       "1891   1  167      0  70.0     0  61   무직   RH+O     0\n",
       "1892   1  177      0  77.0     0  29  사무직   RH+A     0\n",
       "1893   2  168      0  49.0     0  30  사무직  RH+AB     0"
      ]
     },
     "execution_count": 5,
     "metadata": {},
     "output_type": "execute_result"
    }
   ],
   "source": [
    "# '성별','신장', '심혈관질환','체중','흡연여부', '연령', '직업', '혈액형', '재발여부'\n",
    "# 열 단위 추출\n",
    "# df_ROS[['성별','신장', '심혈관질환','체중','흡연여부', '연령', '직업', '혈액형', '재발여부']]\n",
    "df_ROS_forpatient = df_ROS[['성별','신장', '심혈관질환','체중','흡연여부', '연령', '직업', '혈액형', '재발여부']]\n",
    "# df_ROS_forpatient.head(2)\n",
    "df_ROS_forpatient.tail(3)"
   ]
  },
  {
   "cell_type": "code",
   "execution_count": 6,
   "id": "1efc292c-43ea-441c-8448-115cda232097",
   "metadata": {
    "collapsed": true,
    "jupyter": {
     "outputs_hidden": true
    }
   },
   "outputs": [
    {
     "data": {
      "text/html": [
       "<div>\n",
       "<style scoped>\n",
       "    .dataframe tbody tr th:only-of-type {\n",
       "        vertical-align: middle;\n",
       "    }\n",
       "\n",
       "    .dataframe tbody tr th {\n",
       "        vertical-align: top;\n",
       "    }\n",
       "\n",
       "    .dataframe thead th {\n",
       "        text-align: right;\n",
       "    }\n",
       "</style>\n",
       "<table border=\"1\" class=\"dataframe\">\n",
       "  <thead>\n",
       "    <tr style=\"text-align: right;\">\n",
       "      <th></th>\n",
       "      <th>성별</th>\n",
       "      <th>신장</th>\n",
       "      <th>심혈관질환</th>\n",
       "      <th>체중</th>\n",
       "      <th>흡연여부</th>\n",
       "      <th>연령</th>\n",
       "      <th>직업</th>\n",
       "      <th>혈액형</th>\n",
       "      <th>재발여부</th>\n",
       "    </tr>\n",
       "  </thead>\n",
       "  <tbody>\n",
       "    <tr>\n",
       "      <th>0</th>\n",
       "      <td>2</td>\n",
       "      <td>163</td>\n",
       "      <td>0</td>\n",
       "      <td>60.3</td>\n",
       "      <td>0</td>\n",
       "      <td>66</td>\n",
       "      <td>자영업</td>\n",
       "      <td>RH+A</td>\n",
       "      <td>0</td>\n",
       "    </tr>\n",
       "    <tr>\n",
       "      <th>1</th>\n",
       "      <td>1</td>\n",
       "      <td>171</td>\n",
       "      <td>0</td>\n",
       "      <td>71.7</td>\n",
       "      <td>0</td>\n",
       "      <td>47</td>\n",
       "      <td>운동선수</td>\n",
       "      <td>RH+A</td>\n",
       "      <td>0</td>\n",
       "    </tr>\n",
       "    <tr>\n",
       "      <th>2</th>\n",
       "      <td>1</td>\n",
       "      <td>178</td>\n",
       "      <td>0</td>\n",
       "      <td>77.1</td>\n",
       "      <td>0</td>\n",
       "      <td>39</td>\n",
       "      <td>특수전문직</td>\n",
       "      <td>RH+B</td>\n",
       "      <td>0</td>\n",
       "    </tr>\n",
       "  </tbody>\n",
       "</table>\n",
       "</div>"
      ],
      "text/plain": [
       "   성별   신장  심혈관질환    체중  흡연여부  연령     직업   혈액형  재발여부\n",
       "0   2  163      0  60.3     0  66    자영업  RH+A     0\n",
       "1   1  171      0  71.7     0  47   운동선수  RH+A     0\n",
       "2   1  178      0  77.1     0  39  특수전문직  RH+B     0"
      ]
     },
     "execution_count": 6,
     "metadata": {},
     "output_type": "execute_result"
    }
   ],
   "source": [
    "# 행단위 추출 \n",
    "# iloc[:, :], head(), tail()\n",
    "df_ROS_forpatient.iloc[:3]  # [:3] : 0번째 행 ~ 2행 까지"
   ]
  },
  {
   "cell_type": "code",
   "execution_count": 7,
   "id": "73c89113-27d1-4fc9-987b-03e773f34425",
   "metadata": {
    "collapsed": true,
    "jupyter": {
     "outputs_hidden": true
    }
   },
   "outputs": [
    {
     "data": {
      "text/html": [
       "<div>\n",
       "<style scoped>\n",
       "    .dataframe tbody tr th:only-of-type {\n",
       "        vertical-align: middle;\n",
       "    }\n",
       "\n",
       "    .dataframe tbody tr th {\n",
       "        vertical-align: top;\n",
       "    }\n",
       "\n",
       "    .dataframe thead th {\n",
       "        text-align: right;\n",
       "    }\n",
       "</style>\n",
       "<table border=\"1\" class=\"dataframe\">\n",
       "  <thead>\n",
       "    <tr style=\"text-align: right;\">\n",
       "      <th></th>\n",
       "      <th>성별</th>\n",
       "      <th>신장</th>\n",
       "      <th>심혈관질환</th>\n",
       "      <th>체중</th>\n",
       "      <th>흡연여부</th>\n",
       "      <th>연령</th>\n",
       "      <th>직업</th>\n",
       "      <th>혈액형</th>\n",
       "      <th>재발여부</th>\n",
       "    </tr>\n",
       "  </thead>\n",
       "  <tbody>\n",
       "    <tr>\n",
       "      <th>1890</th>\n",
       "      <td>2</td>\n",
       "      <td>157</td>\n",
       "      <td>0</td>\n",
       "      <td>59.0</td>\n",
       "      <td>0</td>\n",
       "      <td>42</td>\n",
       "      <td>사무직</td>\n",
       "      <td>RH+B</td>\n",
       "      <td>0</td>\n",
       "    </tr>\n",
       "    <tr>\n",
       "      <th>1891</th>\n",
       "      <td>1</td>\n",
       "      <td>167</td>\n",
       "      <td>0</td>\n",
       "      <td>70.0</td>\n",
       "      <td>0</td>\n",
       "      <td>61</td>\n",
       "      <td>무직</td>\n",
       "      <td>RH+O</td>\n",
       "      <td>0</td>\n",
       "    </tr>\n",
       "    <tr>\n",
       "      <th>1892</th>\n",
       "      <td>1</td>\n",
       "      <td>177</td>\n",
       "      <td>0</td>\n",
       "      <td>77.0</td>\n",
       "      <td>0</td>\n",
       "      <td>29</td>\n",
       "      <td>사무직</td>\n",
       "      <td>RH+A</td>\n",
       "      <td>0</td>\n",
       "    </tr>\n",
       "    <tr>\n",
       "      <th>1893</th>\n",
       "      <td>2</td>\n",
       "      <td>168</td>\n",
       "      <td>0</td>\n",
       "      <td>49.0</td>\n",
       "      <td>0</td>\n",
       "      <td>30</td>\n",
       "      <td>사무직</td>\n",
       "      <td>RH+AB</td>\n",
       "      <td>0</td>\n",
       "    </tr>\n",
       "  </tbody>\n",
       "</table>\n",
       "</div>"
      ],
      "text/plain": [
       "      성별   신장  심혈관질환    체중  흡연여부  연령   직업    혈액형  재발여부\n",
       "1890   2  157      0  59.0     0  42  사무직   RH+B     0\n",
       "1891   1  167      0  70.0     0  61   무직   RH+O     0\n",
       "1892   1  177      0  77.0     0  29  사무직   RH+A     0\n",
       "1893   2  168      0  49.0     0  30  사무직  RH+AB     0"
      ]
     },
     "execution_count": 7,
     "metadata": {},
     "output_type": "execute_result"
    }
   ],
   "source": [
    "df_ROS_forpatient.iloc[-4:]"
   ]
  },
  {
   "cell_type": "markdown",
   "id": "27793e75-653b-4892-af61-6ffb2aacdee3",
   "metadata": {},
   "source": [
    "### index 관련 사항"
   ]
  },
  {
   "cell_type": "code",
   "execution_count": 8,
   "id": "2d72b546-b266-461f-b38e-000bfd0aaf31",
   "metadata": {
    "collapsed": true,
    "jupyter": {
     "outputs_hidden": true
    },
    "tags": []
   },
   "outputs": [
    {
     "data": {
      "text/html": [
       "<div>\n",
       "<style scoped>\n",
       "    .dataframe tbody tr th:only-of-type {\n",
       "        vertical-align: middle;\n",
       "    }\n",
       "\n",
       "    .dataframe tbody tr th {\n",
       "        vertical-align: top;\n",
       "    }\n",
       "\n",
       "    .dataframe thead th {\n",
       "        text-align: right;\n",
       "    }\n",
       "</style>\n",
       "<table border=\"1\" class=\"dataframe\">\n",
       "  <thead>\n",
       "    <tr style=\"text-align: right;\">\n",
       "      <th></th>\n",
       "      <th>Unnamed: 0</th>\n",
       "      <th>Large Lymphocyte</th>\n",
       "      <th>Location of herniation</th>\n",
       "      <th>ODI</th>\n",
       "      <th>가족력</th>\n",
       "      <th>간질성폐질환</th>\n",
       "      <th>고혈압여부</th>\n",
       "      <th>과거수술횟수</th>\n",
       "      <th>당뇨여부</th>\n",
       "      <th>말초동맥질환여부</th>\n",
       "      <th>...</th>\n",
       "      <th>Modic change</th>\n",
       "      <th>PI</th>\n",
       "      <th>PT</th>\n",
       "      <th>Seg Angle(raw)</th>\n",
       "      <th>Vaccum disc</th>\n",
       "      <th>골밀도</th>\n",
       "      <th>디스크단면적</th>\n",
       "      <th>디스크위치</th>\n",
       "      <th>척추이동척도</th>\n",
       "      <th>척추전방위증</th>\n",
       "    </tr>\n",
       "    <tr>\n",
       "      <th>환자ID</th>\n",
       "      <th></th>\n",
       "      <th></th>\n",
       "      <th></th>\n",
       "      <th></th>\n",
       "      <th></th>\n",
       "      <th></th>\n",
       "      <th></th>\n",
       "      <th></th>\n",
       "      <th></th>\n",
       "      <th></th>\n",
       "      <th></th>\n",
       "      <th></th>\n",
       "      <th></th>\n",
       "      <th></th>\n",
       "      <th></th>\n",
       "      <th></th>\n",
       "      <th></th>\n",
       "      <th></th>\n",
       "      <th></th>\n",
       "      <th></th>\n",
       "      <th></th>\n",
       "    </tr>\n",
       "  </thead>\n",
       "  <tbody>\n",
       "    <tr>\n",
       "      <th>1PT</th>\n",
       "      <td>0</td>\n",
       "      <td>22.8</td>\n",
       "      <td>3</td>\n",
       "      <td>51.0</td>\n",
       "      <td>0.0</td>\n",
       "      <td>0</td>\n",
       "      <td>0</td>\n",
       "      <td>0</td>\n",
       "      <td>0</td>\n",
       "      <td>0</td>\n",
       "      <td>...</td>\n",
       "      <td>3</td>\n",
       "      <td>51.6</td>\n",
       "      <td>36.6</td>\n",
       "      <td>14.4</td>\n",
       "      <td>0</td>\n",
       "      <td>-1.01</td>\n",
       "      <td>2048.50</td>\n",
       "      <td>4</td>\n",
       "      <td>Down</td>\n",
       "      <td>0</td>\n",
       "    </tr>\n",
       "    <tr>\n",
       "      <th>2PT</th>\n",
       "      <td>1</td>\n",
       "      <td>44.9</td>\n",
       "      <td>4</td>\n",
       "      <td>26.0</td>\n",
       "      <td>0.0</td>\n",
       "      <td>0</td>\n",
       "      <td>0</td>\n",
       "      <td>0</td>\n",
       "      <td>0</td>\n",
       "      <td>0</td>\n",
       "      <td>...</td>\n",
       "      <td>0</td>\n",
       "      <td>40.8</td>\n",
       "      <td>7.2</td>\n",
       "      <td>17.8</td>\n",
       "      <td>0</td>\n",
       "      <td>-1.14</td>\n",
       "      <td>1753.10</td>\n",
       "      <td>4</td>\n",
       "      <td>Up</td>\n",
       "      <td>0</td>\n",
       "    </tr>\n",
       "    <tr>\n",
       "      <th>3PT</th>\n",
       "      <td>2</td>\n",
       "      <td>53.0</td>\n",
       "      <td>3</td>\n",
       "      <td>NaN</td>\n",
       "      <td>0.0</td>\n",
       "      <td>0</td>\n",
       "      <td>0</td>\n",
       "      <td>1</td>\n",
       "      <td>0</td>\n",
       "      <td>0</td>\n",
       "      <td>...</td>\n",
       "      <td>0</td>\n",
       "      <td>67.5</td>\n",
       "      <td>27.3</td>\n",
       "      <td>10.2</td>\n",
       "      <td>0</td>\n",
       "      <td>-1.77</td>\n",
       "      <td>1749.00</td>\n",
       "      <td>4</td>\n",
       "      <td>Down</td>\n",
       "      <td>0</td>\n",
       "    </tr>\n",
       "    <tr>\n",
       "      <th>4PT</th>\n",
       "      <td>3</td>\n",
       "      <td>54.7</td>\n",
       "      <td>4</td>\n",
       "      <td>18.0</td>\n",
       "      <td>0.0</td>\n",
       "      <td>0</td>\n",
       "      <td>1</td>\n",
       "      <td>0</td>\n",
       "      <td>0</td>\n",
       "      <td>0</td>\n",
       "      <td>...</td>\n",
       "      <td>0</td>\n",
       "      <td>49.2</td>\n",
       "      <td>18.7</td>\n",
       "      <td>19.9</td>\n",
       "      <td>0</td>\n",
       "      <td>-1.58</td>\n",
       "      <td>1796.20</td>\n",
       "      <td>4</td>\n",
       "      <td>Down</td>\n",
       "      <td>0</td>\n",
       "    </tr>\n",
       "    <tr>\n",
       "      <th>5PT</th>\n",
       "      <td>4</td>\n",
       "      <td>53.8</td>\n",
       "      <td>4</td>\n",
       "      <td>NaN</td>\n",
       "      <td>0.0</td>\n",
       "      <td>0</td>\n",
       "      <td>1</td>\n",
       "      <td>0</td>\n",
       "      <td>0</td>\n",
       "      <td>0</td>\n",
       "      <td>...</td>\n",
       "      <td>0</td>\n",
       "      <td>58.8</td>\n",
       "      <td>14.7</td>\n",
       "      <td>5.2</td>\n",
       "      <td>0</td>\n",
       "      <td>-0.79</td>\n",
       "      <td>2021.48</td>\n",
       "      <td>4</td>\n",
       "      <td>Up</td>\n",
       "      <td>0</td>\n",
       "    </tr>\n",
       "    <tr>\n",
       "      <th>...</th>\n",
       "      <td>...</td>\n",
       "      <td>...</td>\n",
       "      <td>...</td>\n",
       "      <td>...</td>\n",
       "      <td>...</td>\n",
       "      <td>...</td>\n",
       "      <td>...</td>\n",
       "      <td>...</td>\n",
       "      <td>...</td>\n",
       "      <td>...</td>\n",
       "      <td>...</td>\n",
       "      <td>...</td>\n",
       "      <td>...</td>\n",
       "      <td>...</td>\n",
       "      <td>...</td>\n",
       "      <td>...</td>\n",
       "      <td>...</td>\n",
       "      <td>...</td>\n",
       "      <td>...</td>\n",
       "      <td>...</td>\n",
       "      <td>...</td>\n",
       "    </tr>\n",
       "    <tr>\n",
       "      <th>1890PT</th>\n",
       "      <td>1889</td>\n",
       "      <td>44.0</td>\n",
       "      <td>1</td>\n",
       "      <td>NaN</td>\n",
       "      <td>0.0</td>\n",
       "      <td>0</td>\n",
       "      <td>0</td>\n",
       "      <td>0</td>\n",
       "      <td>0</td>\n",
       "      <td>0</td>\n",
       "      <td>...</td>\n",
       "      <td>2</td>\n",
       "      <td>59.5</td>\n",
       "      <td>23.0</td>\n",
       "      <td>21.8</td>\n",
       "      <td>0</td>\n",
       "      <td>NaN</td>\n",
       "      <td>2652.20</td>\n",
       "      <td>5</td>\n",
       "      <td>Middle</td>\n",
       "      <td>0</td>\n",
       "    </tr>\n",
       "    <tr>\n",
       "      <th>1891PT</th>\n",
       "      <td>1890</td>\n",
       "      <td>30.8</td>\n",
       "      <td>2</td>\n",
       "      <td>NaN</td>\n",
       "      <td>0.0</td>\n",
       "      <td>0</td>\n",
       "      <td>0</td>\n",
       "      <td>0</td>\n",
       "      <td>0</td>\n",
       "      <td>0</td>\n",
       "      <td>...</td>\n",
       "      <td>0</td>\n",
       "      <td>47.7</td>\n",
       "      <td>20.2</td>\n",
       "      <td>5.0</td>\n",
       "      <td>0</td>\n",
       "      <td>NaN</td>\n",
       "      <td>1795.80</td>\n",
       "      <td>4</td>\n",
       "      <td>Down</td>\n",
       "      <td>0</td>\n",
       "    </tr>\n",
       "    <tr>\n",
       "      <th>1892PT</th>\n",
       "      <td>1891</td>\n",
       "      <td>36.7</td>\n",
       "      <td>3</td>\n",
       "      <td>NaN</td>\n",
       "      <td>0.0</td>\n",
       "      <td>0</td>\n",
       "      <td>0</td>\n",
       "      <td>0</td>\n",
       "      <td>0</td>\n",
       "      <td>1</td>\n",
       "      <td>...</td>\n",
       "      <td>0</td>\n",
       "      <td>44.6</td>\n",
       "      <td>15.0</td>\n",
       "      <td>17.4</td>\n",
       "      <td>1</td>\n",
       "      <td>NaN</td>\n",
       "      <td>2624.40</td>\n",
       "      <td>4</td>\n",
       "      <td>Down</td>\n",
       "      <td>0</td>\n",
       "    </tr>\n",
       "    <tr>\n",
       "      <th>1893PT</th>\n",
       "      <td>1892</td>\n",
       "      <td>32.5</td>\n",
       "      <td>2</td>\n",
       "      <td>NaN</td>\n",
       "      <td>0.0</td>\n",
       "      <td>0</td>\n",
       "      <td>0</td>\n",
       "      <td>0</td>\n",
       "      <td>0</td>\n",
       "      <td>0</td>\n",
       "      <td>...</td>\n",
       "      <td>2</td>\n",
       "      <td>32.2</td>\n",
       "      <td>11.1</td>\n",
       "      <td>17.7</td>\n",
       "      <td>0</td>\n",
       "      <td>NaN</td>\n",
       "      <td>1972.50</td>\n",
       "      <td>5</td>\n",
       "      <td>Down</td>\n",
       "      <td>0</td>\n",
       "    </tr>\n",
       "    <tr>\n",
       "      <th>1894PT</th>\n",
       "      <td>1893</td>\n",
       "      <td>49.5</td>\n",
       "      <td>2</td>\n",
       "      <td>NaN</td>\n",
       "      <td>0.0</td>\n",
       "      <td>0</td>\n",
       "      <td>0</td>\n",
       "      <td>0</td>\n",
       "      <td>0</td>\n",
       "      <td>0</td>\n",
       "      <td>...</td>\n",
       "      <td>0</td>\n",
       "      <td>38.9</td>\n",
       "      <td>6.8</td>\n",
       "      <td>27.8</td>\n",
       "      <td>0</td>\n",
       "      <td>NaN</td>\n",
       "      <td>1574.40</td>\n",
       "      <td>5</td>\n",
       "      <td>Middle</td>\n",
       "      <td>0</td>\n",
       "    </tr>\n",
       "  </tbody>\n",
       "</table>\n",
       "<p>1894 rows × 51 columns</p>\n",
       "</div>"
      ],
      "text/plain": [
       "        Unnamed: 0  Large Lymphocyte  Location of herniation   ODI  가족력  \\\n",
       "환자ID                                                                      \n",
       "1PT              0              22.8                       3  51.0  0.0   \n",
       "2PT              1              44.9                       4  26.0  0.0   \n",
       "3PT              2              53.0                       3   NaN  0.0   \n",
       "4PT              3              54.7                       4  18.0  0.0   \n",
       "5PT              4              53.8                       4   NaN  0.0   \n",
       "...            ...               ...                     ...   ...  ...   \n",
       "1890PT        1889              44.0                       1   NaN  0.0   \n",
       "1891PT        1890              30.8                       2   NaN  0.0   \n",
       "1892PT        1891              36.7                       3   NaN  0.0   \n",
       "1893PT        1892              32.5                       2   NaN  0.0   \n",
       "1894PT        1893              49.5                       2   NaN  0.0   \n",
       "\n",
       "        간질성폐질환  고혈압여부  과거수술횟수  당뇨여부  말초동맥질환여부  ...  Modic change    PI    PT  \\\n",
       "환자ID                                           ...                             \n",
       "1PT          0      0       0     0         0  ...             3  51.6  36.6   \n",
       "2PT          0      0       0     0         0  ...             0  40.8   7.2   \n",
       "3PT          0      0       1     0         0  ...             0  67.5  27.3   \n",
       "4PT          0      1       0     0         0  ...             0  49.2  18.7   \n",
       "5PT          0      1       0     0         0  ...             0  58.8  14.7   \n",
       "...        ...    ...     ...   ...       ...  ...           ...   ...   ...   \n",
       "1890PT       0      0       0     0         0  ...             2  59.5  23.0   \n",
       "1891PT       0      0       0     0         0  ...             0  47.7  20.2   \n",
       "1892PT       0      0       0     0         1  ...             0  44.6  15.0   \n",
       "1893PT       0      0       0     0         0  ...             2  32.2  11.1   \n",
       "1894PT       0      0       0     0         0  ...             0  38.9   6.8   \n",
       "\n",
       "        Seg Angle(raw)  Vaccum disc   골밀도   디스크단면적  디스크위치  척추이동척도  척추전방위증  \n",
       "환자ID                                                                       \n",
       "1PT               14.4            0 -1.01  2048.50      4    Down       0  \n",
       "2PT               17.8            0 -1.14  1753.10      4      Up       0  \n",
       "3PT               10.2            0 -1.77  1749.00      4    Down       0  \n",
       "4PT               19.9            0 -1.58  1796.20      4    Down       0  \n",
       "5PT                5.2            0 -0.79  2021.48      4      Up       0  \n",
       "...                ...          ...   ...      ...    ...     ...     ...  \n",
       "1890PT            21.8            0   NaN  2652.20      5  Middle       0  \n",
       "1891PT             5.0            0   NaN  1795.80      4    Down       0  \n",
       "1892PT            17.4            1   NaN  2624.40      4    Down       0  \n",
       "1893PT            17.7            0   NaN  1972.50      5    Down       0  \n",
       "1894PT            27.8            0   NaN  1574.40      5  Middle       0  \n",
       "\n",
       "[1894 rows x 51 columns]"
      ]
     },
     "execution_count": 8,
     "metadata": {},
     "output_type": "execute_result"
    }
   ],
   "source": [
    "df_ROS.set_index('환자ID') # unique column"
   ]
  },
  {
   "cell_type": "code",
   "execution_count": 9,
   "id": "8a23f3e5-4235-4d8f-a7d8-6aa831c53232",
   "metadata": {
    "collapsed": true,
    "jupyter": {
     "outputs_hidden": true
    },
    "tags": []
   },
   "outputs": [],
   "source": [
    "df_ROS = df_ROS.set_index('성별') # not unique column"
   ]
  },
  {
   "cell_type": "code",
   "execution_count": 10,
   "id": "62b0a183-0fdc-4f7c-8038-195d61803ad7",
   "metadata": {
    "collapsed": true,
    "jupyter": {
     "outputs_hidden": true
    },
    "tags": []
   },
   "outputs": [
    {
     "data": {
      "text/html": [
       "<div>\n",
       "<style scoped>\n",
       "    .dataframe tbody tr th:only-of-type {\n",
       "        vertical-align: middle;\n",
       "    }\n",
       "\n",
       "    .dataframe tbody tr th {\n",
       "        vertical-align: top;\n",
       "    }\n",
       "\n",
       "    .dataframe thead th {\n",
       "        text-align: right;\n",
       "    }\n",
       "</style>\n",
       "<table border=\"1\" class=\"dataframe\">\n",
       "  <thead>\n",
       "    <tr style=\"text-align: right;\">\n",
       "      <th></th>\n",
       "      <th>Unnamed: 0</th>\n",
       "      <th>환자ID</th>\n",
       "      <th>Large Lymphocyte</th>\n",
       "      <th>Location of herniation</th>\n",
       "      <th>ODI</th>\n",
       "      <th>가족력</th>\n",
       "      <th>간질성폐질환</th>\n",
       "      <th>고혈압여부</th>\n",
       "      <th>과거수술횟수</th>\n",
       "      <th>당뇨여부</th>\n",
       "      <th>...</th>\n",
       "      <th>Modic change</th>\n",
       "      <th>PI</th>\n",
       "      <th>PT</th>\n",
       "      <th>Seg Angle(raw)</th>\n",
       "      <th>Vaccum disc</th>\n",
       "      <th>골밀도</th>\n",
       "      <th>디스크단면적</th>\n",
       "      <th>디스크위치</th>\n",
       "      <th>척추이동척도</th>\n",
       "      <th>척추전방위증</th>\n",
       "    </tr>\n",
       "    <tr>\n",
       "      <th>성별</th>\n",
       "      <th></th>\n",
       "      <th></th>\n",
       "      <th></th>\n",
       "      <th></th>\n",
       "      <th></th>\n",
       "      <th></th>\n",
       "      <th></th>\n",
       "      <th></th>\n",
       "      <th></th>\n",
       "      <th></th>\n",
       "      <th></th>\n",
       "      <th></th>\n",
       "      <th></th>\n",
       "      <th></th>\n",
       "      <th></th>\n",
       "      <th></th>\n",
       "      <th></th>\n",
       "      <th></th>\n",
       "      <th></th>\n",
       "      <th></th>\n",
       "      <th></th>\n",
       "    </tr>\n",
       "  </thead>\n",
       "  <tbody>\n",
       "    <tr>\n",
       "      <th>2</th>\n",
       "      <td>1890</td>\n",
       "      <td>1891PT</td>\n",
       "      <td>30.8</td>\n",
       "      <td>2</td>\n",
       "      <td>NaN</td>\n",
       "      <td>0.0</td>\n",
       "      <td>0</td>\n",
       "      <td>0</td>\n",
       "      <td>0</td>\n",
       "      <td>0</td>\n",
       "      <td>...</td>\n",
       "      <td>0</td>\n",
       "      <td>47.7</td>\n",
       "      <td>20.2</td>\n",
       "      <td>5.0</td>\n",
       "      <td>0</td>\n",
       "      <td>NaN</td>\n",
       "      <td>1795.8</td>\n",
       "      <td>4</td>\n",
       "      <td>Down</td>\n",
       "      <td>0</td>\n",
       "    </tr>\n",
       "    <tr>\n",
       "      <th>1</th>\n",
       "      <td>1891</td>\n",
       "      <td>1892PT</td>\n",
       "      <td>36.7</td>\n",
       "      <td>3</td>\n",
       "      <td>NaN</td>\n",
       "      <td>0.0</td>\n",
       "      <td>0</td>\n",
       "      <td>0</td>\n",
       "      <td>0</td>\n",
       "      <td>0</td>\n",
       "      <td>...</td>\n",
       "      <td>0</td>\n",
       "      <td>44.6</td>\n",
       "      <td>15.0</td>\n",
       "      <td>17.4</td>\n",
       "      <td>1</td>\n",
       "      <td>NaN</td>\n",
       "      <td>2624.4</td>\n",
       "      <td>4</td>\n",
       "      <td>Down</td>\n",
       "      <td>0</td>\n",
       "    </tr>\n",
       "    <tr>\n",
       "      <th>1</th>\n",
       "      <td>1892</td>\n",
       "      <td>1893PT</td>\n",
       "      <td>32.5</td>\n",
       "      <td>2</td>\n",
       "      <td>NaN</td>\n",
       "      <td>0.0</td>\n",
       "      <td>0</td>\n",
       "      <td>0</td>\n",
       "      <td>0</td>\n",
       "      <td>0</td>\n",
       "      <td>...</td>\n",
       "      <td>2</td>\n",
       "      <td>32.2</td>\n",
       "      <td>11.1</td>\n",
       "      <td>17.7</td>\n",
       "      <td>0</td>\n",
       "      <td>NaN</td>\n",
       "      <td>1972.5</td>\n",
       "      <td>5</td>\n",
       "      <td>Down</td>\n",
       "      <td>0</td>\n",
       "    </tr>\n",
       "    <tr>\n",
       "      <th>2</th>\n",
       "      <td>1893</td>\n",
       "      <td>1894PT</td>\n",
       "      <td>49.5</td>\n",
       "      <td>2</td>\n",
       "      <td>NaN</td>\n",
       "      <td>0.0</td>\n",
       "      <td>0</td>\n",
       "      <td>0</td>\n",
       "      <td>0</td>\n",
       "      <td>0</td>\n",
       "      <td>...</td>\n",
       "      <td>0</td>\n",
       "      <td>38.9</td>\n",
       "      <td>6.8</td>\n",
       "      <td>27.8</td>\n",
       "      <td>0</td>\n",
       "      <td>NaN</td>\n",
       "      <td>1574.4</td>\n",
       "      <td>5</td>\n",
       "      <td>Middle</td>\n",
       "      <td>0</td>\n",
       "    </tr>\n",
       "  </tbody>\n",
       "</table>\n",
       "<p>4 rows × 51 columns</p>\n",
       "</div>"
      ],
      "text/plain": [
       "    Unnamed: 0    환자ID  Large Lymphocyte  Location of herniation  ODI  가족력  \\\n",
       "성별                                                                           \n",
       "2         1890  1891PT              30.8                       2  NaN  0.0   \n",
       "1         1891  1892PT              36.7                       3  NaN  0.0   \n",
       "1         1892  1893PT              32.5                       2  NaN  0.0   \n",
       "2         1893  1894PT              49.5                       2  NaN  0.0   \n",
       "\n",
       "    간질성폐질환  고혈압여부  과거수술횟수  당뇨여부  ...  Modic change    PI    PT  \\\n",
       "성별                               ...                             \n",
       "2        0      0       0     0  ...             0  47.7  20.2   \n",
       "1        0      0       0     0  ...             0  44.6  15.0   \n",
       "1        0      0       0     0  ...             2  32.2  11.1   \n",
       "2        0      0       0     0  ...             0  38.9   6.8   \n",
       "\n",
       "    Seg Angle(raw)  Vaccum disc  골밀도  디스크단면적  디스크위치  척추이동척도  척추전방위증  \n",
       "성별                                                                   \n",
       "2              5.0            0  NaN  1795.8      4    Down       0  \n",
       "1             17.4            1  NaN  2624.4      4    Down       0  \n",
       "1             17.7            0  NaN  1972.5      5    Down       0  \n",
       "2             27.8            0  NaN  1574.4      5  Middle       0  \n",
       "\n",
       "[4 rows x 51 columns]"
      ]
     },
     "execution_count": 10,
     "metadata": {},
     "output_type": "execute_result"
    }
   ],
   "source": [
    "df_ROS.iloc[-4:]"
   ]
  },
  {
   "cell_type": "code",
   "execution_count": 11,
   "id": "0a7f7882-524b-475d-8a60-bcbbfc878087",
   "metadata": {
    "collapsed": true,
    "jupyter": {
     "outputs_hidden": true
    },
    "tags": []
   },
   "outputs": [
    {
     "data": {
      "text/html": [
       "<div>\n",
       "<style scoped>\n",
       "    .dataframe tbody tr th:only-of-type {\n",
       "        vertical-align: middle;\n",
       "    }\n",
       "\n",
       "    .dataframe tbody tr th {\n",
       "        vertical-align: top;\n",
       "    }\n",
       "\n",
       "    .dataframe thead th {\n",
       "        text-align: right;\n",
       "    }\n",
       "</style>\n",
       "<table border=\"1\" class=\"dataframe\">\n",
       "  <thead>\n",
       "    <tr style=\"text-align: right;\">\n",
       "      <th></th>\n",
       "      <th>성별</th>\n",
       "      <th>신장</th>\n",
       "      <th>심혈관질환</th>\n",
       "      <th>체중</th>\n",
       "      <th>흡연여부</th>\n",
       "      <th>연령</th>\n",
       "      <th>직업</th>\n",
       "      <th>혈액형</th>\n",
       "      <th>재발여부</th>\n",
       "    </tr>\n",
       "  </thead>\n",
       "  <tbody>\n",
       "    <tr>\n",
       "      <th>1763</th>\n",
       "      <td>2</td>\n",
       "      <td>140</td>\n",
       "      <td>1</td>\n",
       "      <td>35.0</td>\n",
       "      <td>0</td>\n",
       "      <td>86</td>\n",
       "      <td>무직</td>\n",
       "      <td>RH+O</td>\n",
       "      <td>0</td>\n",
       "    </tr>\n",
       "    <tr>\n",
       "      <th>896</th>\n",
       "      <td>2</td>\n",
       "      <td>140</td>\n",
       "      <td>0</td>\n",
       "      <td>35.0</td>\n",
       "      <td>0</td>\n",
       "      <td>48</td>\n",
       "      <td>NaN</td>\n",
       "      <td>RH+A</td>\n",
       "      <td>0</td>\n",
       "    </tr>\n",
       "    <tr>\n",
       "      <th>348</th>\n",
       "      <td>2</td>\n",
       "      <td>142</td>\n",
       "      <td>0</td>\n",
       "      <td>52.9</td>\n",
       "      <td>0</td>\n",
       "      <td>38</td>\n",
       "      <td>자영업</td>\n",
       "      <td>RH+A</td>\n",
       "      <td>0</td>\n",
       "    </tr>\n",
       "    <tr>\n",
       "      <th>70</th>\n",
       "      <td>2</td>\n",
       "      <td>143</td>\n",
       "      <td>0</td>\n",
       "      <td>53.3</td>\n",
       "      <td>0</td>\n",
       "      <td>31</td>\n",
       "      <td>사무직</td>\n",
       "      <td>RH+O</td>\n",
       "      <td>0</td>\n",
       "    </tr>\n",
       "    <tr>\n",
       "      <th>974</th>\n",
       "      <td>2</td>\n",
       "      <td>143</td>\n",
       "      <td>0</td>\n",
       "      <td>56.0</td>\n",
       "      <td>0</td>\n",
       "      <td>56</td>\n",
       "      <td>무직</td>\n",
       "      <td>RH+O</td>\n",
       "      <td>0</td>\n",
       "    </tr>\n",
       "    <tr>\n",
       "      <th>...</th>\n",
       "      <td>...</td>\n",
       "      <td>...</td>\n",
       "      <td>...</td>\n",
       "      <td>...</td>\n",
       "      <td>...</td>\n",
       "      <td>...</td>\n",
       "      <td>...</td>\n",
       "      <td>...</td>\n",
       "      <td>...</td>\n",
       "    </tr>\n",
       "    <tr>\n",
       "      <th>202</th>\n",
       "      <td>1</td>\n",
       "      <td>189</td>\n",
       "      <td>0</td>\n",
       "      <td>85.3</td>\n",
       "      <td>0</td>\n",
       "      <td>22</td>\n",
       "      <td>군인</td>\n",
       "      <td>RH+B</td>\n",
       "      <td>0</td>\n",
       "    </tr>\n",
       "    <tr>\n",
       "      <th>464</th>\n",
       "      <td>1</td>\n",
       "      <td>189</td>\n",
       "      <td>0</td>\n",
       "      <td>85.9</td>\n",
       "      <td>0</td>\n",
       "      <td>39</td>\n",
       "      <td>자영업</td>\n",
       "      <td>RH+A</td>\n",
       "      <td>0</td>\n",
       "    </tr>\n",
       "    <tr>\n",
       "      <th>1227</th>\n",
       "      <td>1</td>\n",
       "      <td>190</td>\n",
       "      <td>0</td>\n",
       "      <td>74.0</td>\n",
       "      <td>0</td>\n",
       "      <td>47</td>\n",
       "      <td>자영업</td>\n",
       "      <td>RH+O</td>\n",
       "      <td>0</td>\n",
       "    </tr>\n",
       "    <tr>\n",
       "      <th>1246</th>\n",
       "      <td>1</td>\n",
       "      <td>191</td>\n",
       "      <td>0</td>\n",
       "      <td>114.0</td>\n",
       "      <td>0</td>\n",
       "      <td>17</td>\n",
       "      <td>학생</td>\n",
       "      <td>RH+O</td>\n",
       "      <td>0</td>\n",
       "    </tr>\n",
       "    <tr>\n",
       "      <th>1579</th>\n",
       "      <td>1</td>\n",
       "      <td>204</td>\n",
       "      <td>0</td>\n",
       "      <td>103.0</td>\n",
       "      <td>0</td>\n",
       "      <td>39</td>\n",
       "      <td>교사</td>\n",
       "      <td>RH+O</td>\n",
       "      <td>1</td>\n",
       "    </tr>\n",
       "  </tbody>\n",
       "</table>\n",
       "<p>1894 rows × 9 columns</p>\n",
       "</div>"
      ],
      "text/plain": [
       "      성별   신장  심혈관질환     체중  흡연여부  연령   직업   혈액형  재발여부\n",
       "1763   2  140      1   35.0     0  86   무직  RH+O     0\n",
       "896    2  140      0   35.0     0  48  NaN  RH+A     0\n",
       "348    2  142      0   52.9     0  38  자영업  RH+A     0\n",
       "70     2  143      0   53.3     0  31  사무직  RH+O     0\n",
       "974    2  143      0   56.0     0  56   무직  RH+O     0\n",
       "...   ..  ...    ...    ...   ...  ..  ...   ...   ...\n",
       "202    1  189      0   85.3     0  22   군인  RH+B     0\n",
       "464    1  189      0   85.9     0  39  자영업  RH+A     0\n",
       "1227   1  190      0   74.0     0  47  자영업  RH+O     0\n",
       "1246   1  191      0  114.0     0  17   학생  RH+O     0\n",
       "1579   1  204      0  103.0     0  39   교사  RH+O     1\n",
       "\n",
       "[1894 rows x 9 columns]"
      ]
     },
     "execution_count": 11,
     "metadata": {},
     "output_type": "execute_result"
    }
   ],
   "source": [
    "### 정렬\n",
    "df_ROS_forpatient.sort_values(by=['신장'])"
   ]
  },
  {
   "cell_type": "code",
   "execution_count": 12,
   "id": "acccaad7-e4f2-4cd1-b0ea-92d5351b0772",
   "metadata": {
    "collapsed": true,
    "jupyter": {
     "outputs_hidden": true
    },
    "tags": []
   },
   "outputs": [
    {
     "data": {
      "text/html": [
       "<div>\n",
       "<style scoped>\n",
       "    .dataframe tbody tr th:only-of-type {\n",
       "        vertical-align: middle;\n",
       "    }\n",
       "\n",
       "    .dataframe tbody tr th {\n",
       "        vertical-align: top;\n",
       "    }\n",
       "\n",
       "    .dataframe thead th {\n",
       "        text-align: right;\n",
       "    }\n",
       "</style>\n",
       "<table border=\"1\" class=\"dataframe\">\n",
       "  <thead>\n",
       "    <tr style=\"text-align: right;\">\n",
       "      <th></th>\n",
       "      <th>성별</th>\n",
       "      <th>신장</th>\n",
       "      <th>심혈관질환</th>\n",
       "      <th>체중</th>\n",
       "      <th>흡연여부</th>\n",
       "      <th>연령</th>\n",
       "      <th>직업</th>\n",
       "      <th>혈액형</th>\n",
       "      <th>재발여부</th>\n",
       "    </tr>\n",
       "  </thead>\n",
       "  <tbody>\n",
       "    <tr>\n",
       "      <th>1579</th>\n",
       "      <td>1</td>\n",
       "      <td>204</td>\n",
       "      <td>0</td>\n",
       "      <td>103.0</td>\n",
       "      <td>0</td>\n",
       "      <td>39</td>\n",
       "      <td>교사</td>\n",
       "      <td>RH+O</td>\n",
       "      <td>1</td>\n",
       "    </tr>\n",
       "    <tr>\n",
       "      <th>1246</th>\n",
       "      <td>1</td>\n",
       "      <td>191</td>\n",
       "      <td>0</td>\n",
       "      <td>114.0</td>\n",
       "      <td>0</td>\n",
       "      <td>17</td>\n",
       "      <td>학생</td>\n",
       "      <td>RH+O</td>\n",
       "      <td>0</td>\n",
       "    </tr>\n",
       "    <tr>\n",
       "      <th>1227</th>\n",
       "      <td>1</td>\n",
       "      <td>190</td>\n",
       "      <td>0</td>\n",
       "      <td>74.0</td>\n",
       "      <td>0</td>\n",
       "      <td>47</td>\n",
       "      <td>자영업</td>\n",
       "      <td>RH+O</td>\n",
       "      <td>0</td>\n",
       "    </tr>\n",
       "    <tr>\n",
       "      <th>464</th>\n",
       "      <td>1</td>\n",
       "      <td>189</td>\n",
       "      <td>0</td>\n",
       "      <td>85.9</td>\n",
       "      <td>0</td>\n",
       "      <td>39</td>\n",
       "      <td>자영업</td>\n",
       "      <td>RH+A</td>\n",
       "      <td>0</td>\n",
       "    </tr>\n",
       "    <tr>\n",
       "      <th>202</th>\n",
       "      <td>1</td>\n",
       "      <td>189</td>\n",
       "      <td>0</td>\n",
       "      <td>85.3</td>\n",
       "      <td>0</td>\n",
       "      <td>22</td>\n",
       "      <td>군인</td>\n",
       "      <td>RH+B</td>\n",
       "      <td>0</td>\n",
       "    </tr>\n",
       "    <tr>\n",
       "      <th>...</th>\n",
       "      <td>...</td>\n",
       "      <td>...</td>\n",
       "      <td>...</td>\n",
       "      <td>...</td>\n",
       "      <td>...</td>\n",
       "      <td>...</td>\n",
       "      <td>...</td>\n",
       "      <td>...</td>\n",
       "      <td>...</td>\n",
       "    </tr>\n",
       "    <tr>\n",
       "      <th>974</th>\n",
       "      <td>2</td>\n",
       "      <td>143</td>\n",
       "      <td>0</td>\n",
       "      <td>56.0</td>\n",
       "      <td>0</td>\n",
       "      <td>56</td>\n",
       "      <td>무직</td>\n",
       "      <td>RH+O</td>\n",
       "      <td>0</td>\n",
       "    </tr>\n",
       "    <tr>\n",
       "      <th>70</th>\n",
       "      <td>2</td>\n",
       "      <td>143</td>\n",
       "      <td>0</td>\n",
       "      <td>53.3</td>\n",
       "      <td>0</td>\n",
       "      <td>31</td>\n",
       "      <td>사무직</td>\n",
       "      <td>RH+O</td>\n",
       "      <td>0</td>\n",
       "    </tr>\n",
       "    <tr>\n",
       "      <th>348</th>\n",
       "      <td>2</td>\n",
       "      <td>142</td>\n",
       "      <td>0</td>\n",
       "      <td>52.9</td>\n",
       "      <td>0</td>\n",
       "      <td>38</td>\n",
       "      <td>자영업</td>\n",
       "      <td>RH+A</td>\n",
       "      <td>0</td>\n",
       "    </tr>\n",
       "    <tr>\n",
       "      <th>896</th>\n",
       "      <td>2</td>\n",
       "      <td>140</td>\n",
       "      <td>0</td>\n",
       "      <td>35.0</td>\n",
       "      <td>0</td>\n",
       "      <td>48</td>\n",
       "      <td>NaN</td>\n",
       "      <td>RH+A</td>\n",
       "      <td>0</td>\n",
       "    </tr>\n",
       "    <tr>\n",
       "      <th>1763</th>\n",
       "      <td>2</td>\n",
       "      <td>140</td>\n",
       "      <td>1</td>\n",
       "      <td>35.0</td>\n",
       "      <td>0</td>\n",
       "      <td>86</td>\n",
       "      <td>무직</td>\n",
       "      <td>RH+O</td>\n",
       "      <td>0</td>\n",
       "    </tr>\n",
       "  </tbody>\n",
       "</table>\n",
       "<p>1894 rows × 9 columns</p>\n",
       "</div>"
      ],
      "text/plain": [
       "      성별   신장  심혈관질환     체중  흡연여부  연령   직업   혈액형  재발여부\n",
       "1579   1  204      0  103.0     0  39   교사  RH+O     1\n",
       "1246   1  191      0  114.0     0  17   학생  RH+O     0\n",
       "1227   1  190      0   74.0     0  47  자영업  RH+O     0\n",
       "464    1  189      0   85.9     0  39  자영업  RH+A     0\n",
       "202    1  189      0   85.3     0  22   군인  RH+B     0\n",
       "...   ..  ...    ...    ...   ...  ..  ...   ...   ...\n",
       "974    2  143      0   56.0     0  56   무직  RH+O     0\n",
       "70     2  143      0   53.3     0  31  사무직  RH+O     0\n",
       "348    2  142      0   52.9     0  38  자영업  RH+A     0\n",
       "896    2  140      0   35.0     0  48  NaN  RH+A     0\n",
       "1763   2  140      1   35.0     0  86   무직  RH+O     0\n",
       "\n",
       "[1894 rows x 9 columns]"
      ]
     },
     "execution_count": 12,
     "metadata": {},
     "output_type": "execute_result"
    }
   ],
   "source": [
    "df_ROS_forpatient.sort_values(by=['신장', '체중'], ascending=[False, False])"
   ]
  },
  {
   "cell_type": "markdown",
   "id": "37a09498-5115-40e8-afd8-6581069992e9",
   "metadata": {},
   "source": [
    "## quest 1\n",
    "- 정렬 : 혈액형(ascending), 직업(descending)\n",
    "- 추출 : 혈액형, 직업, 성별 --> 표시"
   ]
  },
  {
   "cell_type": "markdown",
   "id": "135f7275-7d59-4fd8-a26b-a6fa03d55103",
   "metadata": {},
   "source": [
    "## quest 2\n",
    "- 직업군이 상위 2위에 속하는 항목 : value_count, DataFrame, iloc\n",
    "- 체중 > 50, 신장 > 180, 흡연여부 없는 분\n",
    "- 해당 레코드 갯수 표현"
   ]
  },
  {
   "cell_type": "markdown",
   "id": "12729837-171b-4a77-b7ea-eb01f18da7c0",
   "metadata": {},
   "source": [
    "# Quest 3\n",
    "- quest2 집합 구성하기 \n",
    "- 직업별 성별 빈도\n",
    "- 직업별 혈액형 빈도"
   ]
  },
  {
   "cell_type": "code",
   "execution_count": 13,
   "id": "6cc52563-dea6-4045-9061-15be47fef7cd",
   "metadata": {
    "collapsed": true,
    "jupyter": {
     "outputs_hidden": true
    },
    "tags": []
   },
   "outputs": [
    {
     "data": {
      "text/plain": [
       "['사무직', '자영업']"
      ]
     },
     "execution_count": 13,
     "metadata": {},
     "output_type": "execute_result"
    }
   ],
   "source": [
    "list(df_ROS_forpatient['직업'].value_counts().iloc[:2].index)"
   ]
  },
  {
   "cell_type": "code",
   "execution_count": 14,
   "id": "bdcdbbfb-fe4b-41a8-88b3-84070fdaaf41",
   "metadata": {
    "collapsed": true,
    "jupyter": {
     "outputs_hidden": true
    }
   },
   "outputs": [
    {
     "data": {
      "text/plain": [
       "'사무직'"
      ]
     },
     "execution_count": 14,
     "metadata": {},
     "output_type": "execute_result"
    }
   ],
   "source": [
    "df_ROS_forpatient['직업'].value_counts().index[0]"
   ]
  },
  {
   "cell_type": "code",
   "execution_count": 15,
   "id": "c26ad744-25e9-409c-8a79-cb6d4715d3c9",
   "metadata": {
    "collapsed": true,
    "jupyter": {
     "outputs_hidden": true
    }
   },
   "outputs": [
    {
     "data": {
      "text/plain": [
       "'자영업'"
      ]
     },
     "execution_count": 15,
     "metadata": {},
     "output_type": "execute_result"
    }
   ],
   "source": [
    "df_ROS_forpatient['직업'].value_counts().index[1]"
   ]
  },
  {
   "cell_type": "code",
   "execution_count": 16,
   "id": "dde734e6-607e-4150-a54e-6b9192784d8a",
   "metadata": {
    "collapsed": true,
    "jupyter": {
     "outputs_hidden": true
    }
   },
   "outputs": [
    {
     "data": {
      "text/plain": [
       "array([449, 171], dtype=int64)"
      ]
     },
     "execution_count": 16,
     "metadata": {},
     "output_type": "execute_result"
    }
   ],
   "source": [
    "df_ROS_forpatient['직업'].value_counts().iloc[:2].values"
   ]
  },
  {
   "cell_type": "code",
   "execution_count": 17,
   "id": "e53ba096-e8f5-4c7c-8ad7-98128a13b64d",
   "metadata": {
    "collapsed": true,
    "jupyter": {
     "outputs_hidden": true
    }
   },
   "outputs": [
    {
     "name": "stdout",
     "output_type": "stream",
     "text": [
      "<class 'pandas.core.frame.DataFrame'>\n",
      "RangeIndex: 1894 entries, 0 to 1893\n",
      "Data columns (total 9 columns):\n",
      " #   Column  Non-Null Count  Dtype  \n",
      "---  ------  --------------  -----  \n",
      " 0   성별      1894 non-null   int64  \n",
      " 1   신장      1894 non-null   int64  \n",
      " 2   심혈관질환   1894 non-null   int64  \n",
      " 3   체중      1894 non-null   float64\n",
      " 4   흡연여부    1894 non-null   int64  \n",
      " 5   연령      1894 non-null   int64  \n",
      " 6   직업      1479 non-null   object \n",
      " 7   혈액형     1894 non-null   object \n",
      " 8   재발여부    1894 non-null   int64  \n",
      "dtypes: float64(1), int64(6), object(2)\n",
      "memory usage: 133.3+ KB\n"
     ]
    }
   ],
   "source": [
    "df_ROS_forpatient.info()"
   ]
  },
  {
   "cell_type": "code",
   "execution_count": 53,
   "id": "7c11f9c1-cb8a-43d8-8d6e-613f937013d5",
   "metadata": {
    "tags": []
   },
   "outputs": [
    {
     "data": {
      "text/html": [
       "<div>\n",
       "<style scoped>\n",
       "    .dataframe tbody tr th:only-of-type {\n",
       "        vertical-align: middle;\n",
       "    }\n",
       "\n",
       "    .dataframe tbody tr th {\n",
       "        vertical-align: top;\n",
       "    }\n",
       "\n",
       "    .dataframe thead th {\n",
       "        text-align: right;\n",
       "    }\n",
       "</style>\n",
       "<table border=\"1\" class=\"dataframe\">\n",
       "  <thead>\n",
       "    <tr style=\"text-align: right;\">\n",
       "      <th></th>\n",
       "      <th>신장</th>\n",
       "      <th>체중</th>\n",
       "      <th>연령</th>\n",
       "    </tr>\n",
       "  </thead>\n",
       "  <tbody>\n",
       "    <tr>\n",
       "      <th>count</th>\n",
       "      <td>1894.000000</td>\n",
       "      <td>1894.00000</td>\n",
       "      <td>1894.000000</td>\n",
       "    </tr>\n",
       "    <tr>\n",
       "      <th>mean</th>\n",
       "      <td>168.027983</td>\n",
       "      <td>68.11114</td>\n",
       "      <td>41.463569</td>\n",
       "    </tr>\n",
       "  </tbody>\n",
       "</table>\n",
       "</div>"
      ],
      "text/plain": [
       "                신장          체중           연령\n",
       "count  1894.000000  1894.00000  1894.000000\n",
       "mean    168.027983    68.11114    41.463569"
      ]
     },
     "execution_count": 53,
     "metadata": {},
     "output_type": "execute_result"
    }
   ],
   "source": [
    "df_ROS_forpatient.describe()[:2] # 연속형"
   ]
  },
  {
   "cell_type": "code",
   "execution_count": 19,
   "id": "08756327-20b5-4a07-8d1a-ec18ab826430",
   "metadata": {
    "collapsed": true,
    "jupyter": {
     "outputs_hidden": true
    }
   },
   "outputs": [
    {
     "data": {
      "text/html": [
       "<div>\n",
       "<style scoped>\n",
       "    .dataframe tbody tr th:only-of-type {\n",
       "        vertical-align: middle;\n",
       "    }\n",
       "\n",
       "    .dataframe tbody tr th {\n",
       "        vertical-align: top;\n",
       "    }\n",
       "\n",
       "    .dataframe thead th {\n",
       "        text-align: right;\n",
       "    }\n",
       "</style>\n",
       "<table border=\"1\" class=\"dataframe\">\n",
       "  <thead>\n",
       "    <tr style=\"text-align: right;\">\n",
       "      <th></th>\n",
       "      <th>직업</th>\n",
       "      <th>혈액형</th>\n",
       "    </tr>\n",
       "  </thead>\n",
       "  <tbody>\n",
       "    <tr>\n",
       "      <th>count</th>\n",
       "      <td>1479</td>\n",
       "      <td>1894</td>\n",
       "    </tr>\n",
       "    <tr>\n",
       "      <th>unique</th>\n",
       "      <td>17</td>\n",
       "      <td>4</td>\n",
       "    </tr>\n",
       "  </tbody>\n",
       "</table>\n",
       "</div>"
      ],
      "text/plain": [
       "          직업   혈액형\n",
       "count   1479  1894\n",
       "unique    17     4"
      ]
     },
     "execution_count": 19,
     "metadata": {},
     "output_type": "execute_result"
    }
   ],
   "source": [
    "df_ROS_forpatient.describe(include=object)[:2] # 범주형"
   ]
  },
  {
   "cell_type": "code",
   "execution_count": 24,
   "id": "1a755ebf-d12c-4047-9180-5a8a976df39b",
   "metadata": {
    "collapsed": true,
    "jupyter": {
     "outputs_hidden": true
    },
    "tags": []
   },
   "outputs": [
    {
     "data": {
      "text/plain": [
       "성별         int64\n",
       "신장         int64\n",
       "심혈관질환      int64\n",
       "체중       float64\n",
       "흡연여부       int64\n",
       "연령         int64\n",
       "직업        object\n",
       "혈액형       object\n",
       "재발여부       int64\n",
       "dtype: object"
      ]
     },
     "execution_count": 24,
     "metadata": {},
     "output_type": "execute_result"
    }
   ],
   "source": [
    "df_ROS_forpatient.dtypes"
   ]
  },
  {
   "cell_type": "markdown",
   "id": "1994a64c-4f2e-48c7-abf0-d156ac03e9b8",
   "metadata": {},
   "source": [
    "#### 데이터 타입 변환\n",
    "- int, float -> str(object)\n",
    "- object -> int or float(소수점 있을 경우)"
   ]
  },
  {
   "cell_type": "code",
   "execution_count": 31,
   "id": "57eb27e0-4920-49f7-a98f-c88c00c7a9a7",
   "metadata": {
    "collapsed": true,
    "jupyter": {
     "outputs_hidden": true
    }
   },
   "outputs": [],
   "source": [
    "df_ROS_forpatient['흡연여부'] = df_ROS_forpatient['흡연여부'].astype(str)"
   ]
  },
  {
   "cell_type": "code",
   "execution_count": 33,
   "id": "efe694f2-83a2-457e-a858-3b6fe6c13b0c",
   "metadata": {
    "collapsed": true,
    "jupyter": {
     "outputs_hidden": true
    }
   },
   "outputs": [],
   "source": [
    "df_ROS_forpatient['재발여부'] = df_ROS_forpatient['재발여부'].astype(str)"
   ]
  },
  {
   "cell_type": "code",
   "execution_count": 49,
   "id": "c2c49cd7-deb0-45b4-bdb9-ef522d28716a",
   "metadata": {
    "collapsed": true,
    "jupyter": {
     "outputs_hidden": true
    }
   },
   "outputs": [],
   "source": [
    "df_ROS_forpatient['성별'] = df_ROS_forpatient['성별'].astype(str)\n",
    "df_ROS_forpatient['심혈관질환'] = df_ROS_forpatient['심혈관질환'].astype(str)"
   ]
  },
  {
   "cell_type": "code",
   "execution_count": 50,
   "id": "77e2bced-e75c-42ab-89cc-ec9a5fd29ef2",
   "metadata": {
    "collapsed": true,
    "jupyter": {
     "outputs_hidden": true
    },
    "tags": []
   },
   "outputs": [
    {
     "data": {
      "text/plain": [
       "성별        object\n",
       "신장         int64\n",
       "심혈관질환     object\n",
       "체중       float64\n",
       "흡연여부      object\n",
       "연령         int64\n",
       "직업        object\n",
       "혈액형       object\n",
       "재발여부      object\n",
       "dtype: object"
      ]
     },
     "execution_count": 50,
     "metadata": {},
     "output_type": "execute_result"
    }
   ],
   "source": [
    "df_ROS_forpatient.dtypes"
   ]
  },
  {
   "cell_type": "code",
   "execution_count": 51,
   "id": "1488ad04-725a-4f04-9344-14c317fa8b33",
   "metadata": {
    "collapsed": true,
    "jupyter": {
     "outputs_hidden": true
    },
    "tags": []
   },
   "outputs": [],
   "source": [
    "continuos_list = df_ROS_forpatient.describe().columns.to_list()"
   ]
  },
  {
   "cell_type": "code",
   "execution_count": 45,
   "id": "1bb069da-abaf-4e16-a773-f3c6466ee0cb",
   "metadata": {
    "tags": []
   },
   "outputs": [],
   "source": [
    "import matplotlib.pyplot as plt\n",
    "import matplotlib as mpl\n",
    "mpl.rc('font',family='Malgun Gothic')\n",
    "import seaborn as sns"
   ]
  },
  {
   "cell_type": "code",
   "execution_count": 52,
   "id": "a422da72-4884-4ab1-8f23-ee26fa72a609",
   "metadata": {
    "tags": []
   },
   "outputs": [
    {
     "data": {
      "image/png": "[encoded data removed]",
      "text/plain": [
       "<Figure size 640x480 with 1 Axes>"
      ]
     },
     "metadata": {},
     "output_type": "display_data"
    },
    {
     "data": {
      "image/png": "[encoded data removed]",
      "text/plain": [
       "<Figure size 640x480 with 1 Axes>"
      ]
     },
     "metadata": {},
     "output_type": "display_data"
    },
    {
     "data": {
      "image/png": "[encoded data removed]",
      "text/plain": [
       "<Figure size 640x480 with 1 Axes>"
      ]
     },
     "metadata": {},
     "output_type": "display_data"
    }
   ],
   "source": [
    "for continuos in continuos_list :\n",
    "    sns.histplot(data=df_ROS_forpatient, x=continuos, kde=True)\n",
    "    plt.show()"
   ]
  },
  {
   "cell_type": "code",
   "execution_count": null,
   "id": "dc44a450-d46e-4ea1-88ff-02f06fbb0063",
   "metadata": {
    "collapsed": true,
    "jupyter": {
     "outputs_hidden": true
    }
   },
   "outputs": [],
   "source": []
  }
 ],
 "metadata": {
  "kernelspec": {
   "display_name": "Python 3 (ipykernel)",
   "language": "python",
   "name": "python3"
  },
  "language_info": {
   "codemirror_mode": {
    "name": "ipython",
    "version": 3
   },
   "file_extension": ".py",
   "mimetype": "text/x-python",
   "name": "python",
   "nbconvert_exporter": "python",
   "pygments_lexer": "ipython3",
   "version": "3.9.13"
  }
 },
 "nbformat": 4,
 "nbformat_minor": 5
}
