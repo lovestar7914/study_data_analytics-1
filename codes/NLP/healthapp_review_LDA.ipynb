{
  "nbformat": 4,
  "nbformat_minor": 0,
  "metadata": {
    "colab": {
      "provenance": [],
      "authorship_tag": "ABX9TyP0ucG6dHPfFNEn7wSmffeN",
      "include_colab_link": true
    },
    "kernelspec": {
      "name": "python3",
      "display_name": "Python 3"
    },
    "language_info": {
      "name": "python"
    }
  },
  "cells": [
    {
      "cell_type": "markdown",
      "metadata": {
        "id": "view-in-github",
        "colab_type": "text"
      },
      "source": [
        "<a href=\"https://colab.research.google.com/github/lovestar7914/study_data_analytics-1/blob/main/codes/NLP/healthapp_review_LDA.ipynb\" target=\"_parent\"><img src=\"https://colab.research.google.com/assets/colab-badge.svg\" alt=\"Open In Colab\"/></a>"
      ]
    },
    {
      "cell_type": "markdown",
      "source": [
        "refer: https://heytech.tistory.com/401"
      ],
      "metadata": {
        "id": "uLHlleirjnyI"
      }
    },
    {
      "cell_type": "code",
      "execution_count": null,
      "metadata": {
        "colab": {
          "base_uri": "https://localhost:8080/",
          "height": 982
        },
        "id": "l3nrEboviodg",
        "outputId": "7fad1372-ed62-4afb-9824-bb9774d1a09d"
      },
      "outputs": [
        {
          "output_type": "stream",
          "name": "stdout",
          "text": [
            "Collecting python-mecab-ko\n",
            "  Downloading python_mecab_ko-1.3.3-cp310-cp310-manylinux_2_17_x86_64.manylinux2014_x86_64.whl (573 kB)\n",
            "\u001b[2K     \u001b[90m━━━━━━━━━━━━━━━━━━━━━━━━━━━━━━━━━━━━━━━\u001b[0m \u001b[32m573.9/573.9 kB\u001b[0m \u001b[31m6.1 MB/s\u001b[0m eta \u001b[36m0:00:00\u001b[0m\n",
            "\u001b[?25hCollecting pyLDAvis\n",
            "  Downloading pyLDAvis-3.4.1-py3-none-any.whl (2.6 MB)\n",
            "\u001b[2K     \u001b[90m━━━━━━━━━━━━━━━━━━━━━━━━━━━━━━━━━━━━━━━━\u001b[0m \u001b[32m2.6/2.6 MB\u001b[0m \u001b[31m13.6 MB/s\u001b[0m eta \u001b[36m0:00:00\u001b[0m\n",
            "\u001b[?25hCollecting python-mecab-ko-dic (from python-mecab-ko)\n",
            "  Downloading python_mecab_ko_dic-2.1.1.post2-py3-none-any.whl (34.5 MB)\n",
            "\u001b[2K     \u001b[90m━━━━━━━━━━━━━━━━━━━━━━━━━━━━━━━━━━━━━━━━\u001b[0m \u001b[32m34.5/34.5 MB\u001b[0m \u001b[31m29.4 MB/s\u001b[0m eta \u001b[36m0:00:00\u001b[0m\n",
            "\u001b[?25hCollecting numpy>=1.24.2 (from pyLDAvis)\n",
            "  Downloading numpy-1.25.2-cp310-cp310-manylinux_2_17_x86_64.manylinux2014_x86_64.whl (18.2 MB)\n",
            "\u001b[2K     \u001b[90m━━━━━━━━━━━━━━━━━━━━━━━━━━━━━━━━━━━━━━━━\u001b[0m \u001b[32m18.2/18.2 MB\u001b[0m \u001b[31m73.9 MB/s\u001b[0m eta \u001b[36m0:00:00\u001b[0m\n",
            "\u001b[?25hRequirement already satisfied: scipy in /usr/local/lib/python3.10/dist-packages (from pyLDAvis) (1.11.2)\n",
            "Collecting pandas>=2.0.0 (from pyLDAvis)\n",
            "  Downloading pandas-2.1.0-cp310-cp310-manylinux_2_17_x86_64.manylinux2014_x86_64.whl (12.7 MB)\n",
            "\u001b[2K     \u001b[90m━━━━━━━━━━━━━━━━━━━━━━━━━━━━━━━━━━━━━━━━\u001b[0m \u001b[32m12.7/12.7 MB\u001b[0m \u001b[31m67.0 MB/s\u001b[0m eta \u001b[36m0:00:00\u001b[0m\n",
            "\u001b[?25hRequirement already satisfied: joblib>=1.2.0 in /usr/local/lib/python3.10/dist-packages (from pyLDAvis) (1.3.2)\n",
            "Requirement already satisfied: jinja2 in /usr/local/lib/python3.10/dist-packages (from pyLDAvis) (3.1.2)\n",
            "Requirement already satisfied: numexpr in /usr/local/lib/python3.10/dist-packages (from pyLDAvis) (2.8.5)\n",
            "Collecting funcy (from pyLDAvis)\n",
            "  Downloading funcy-2.0-py2.py3-none-any.whl (30 kB)\n",
            "Requirement already satisfied: scikit-learn>=1.0.0 in /usr/local/lib/python3.10/dist-packages (from pyLDAvis) (1.2.2)\n",
            "Requirement already satisfied: gensim in /usr/local/lib/python3.10/dist-packages (from pyLDAvis) (4.3.2)\n",
            "Requirement already satisfied: setuptools in /usr/local/lib/python3.10/dist-packages (from pyLDAvis) (67.7.2)\n",
            "Requirement already satisfied: python-dateutil>=2.8.2 in /usr/local/lib/python3.10/dist-packages (from pandas>=2.0.0->pyLDAvis) (2.8.2)\n",
            "Requirement already satisfied: pytz>=2020.1 in /usr/local/lib/python3.10/dist-packages (from pandas>=2.0.0->pyLDAvis) (2023.3.post1)\n",
            "Collecting tzdata>=2022.1 (from pandas>=2.0.0->pyLDAvis)\n",
            "  Downloading tzdata-2023.3-py2.py3-none-any.whl (341 kB)\n",
            "\u001b[2K     \u001b[90m━━━━━━━━━━━━━━━━━━━━━━━━━━━━━━━━━━━━━━\u001b[0m \u001b[32m341.8/341.8 kB\u001b[0m \u001b[31m33.8 MB/s\u001b[0m eta \u001b[36m0:00:00\u001b[0m\n",
            "\u001b[?25hRequirement already satisfied: threadpoolctl>=2.0.0 in /usr/local/lib/python3.10/dist-packages (from scikit-learn>=1.0.0->pyLDAvis) (3.2.0)\n",
            "Requirement already satisfied: smart-open>=1.8.1 in /usr/local/lib/python3.10/dist-packages (from gensim->pyLDAvis) (6.4.0)\n",
            "Requirement already satisfied: MarkupSafe>=2.0 in /usr/local/lib/python3.10/dist-packages (from jinja2->pyLDAvis) (2.1.3)\n",
            "Requirement already satisfied: six>=1.5 in /usr/local/lib/python3.10/dist-packages (from python-dateutil>=2.8.2->pandas>=2.0.0->pyLDAvis) (1.16.0)\n",
            "Installing collected packages: python-mecab-ko-dic, funcy, tzdata, python-mecab-ko, numpy, pandas, pyLDAvis\n",
            "  Attempting uninstall: numpy\n",
            "    Found existing installation: numpy 1.23.5\n",
            "    Uninstalling numpy-1.23.5:\n",
            "      Successfully uninstalled numpy-1.23.5\n",
            "  Attempting uninstall: pandas\n",
            "    Found existing installation: pandas 1.5.3\n",
            "    Uninstalling pandas-1.5.3:\n",
            "      Successfully uninstalled pandas-1.5.3\n",
            "\u001b[31mERROR: pip's dependency resolver does not currently take into account all the packages that are installed. This behaviour is the source of the following dependency conflicts.\n",
            "google-colab 1.0.0 requires pandas==1.5.3, but you have pandas 2.1.0 which is incompatible.\n",
            "numba 0.56.4 requires numpy<1.24,>=1.18, but you have numpy 1.25.2 which is incompatible.\n",
            "tensorflow 2.13.0 requires numpy<=1.24.3,>=1.22, but you have numpy 1.25.2 which is incompatible.\u001b[0m\u001b[31m\n",
            "\u001b[0mSuccessfully installed funcy-2.0 numpy-1.25.2 pandas-2.1.0 pyLDAvis-3.4.1 python-mecab-ko-1.3.3 python-mecab-ko-dic-2.1.1.post2 tzdata-2023.3\n"
          ]
        },
        {
          "output_type": "display_data",
          "data": {
            "application/vnd.colab-display-data+json": {
              "pip_warning": {
                "packages": [
                  "numpy"
                ]
              }
            }
          },
          "metadata": {}
        }
      ],
      "source": [
        "#!pip install python-mecab-ko pyLDAvis"
      ]
    },
    {
      "cell_type": "markdown",
      "source": [
        "### 전처리"
      ],
      "metadata": {
        "id": "Mf6N3-vbpKXI"
      }
    },
    {
      "cell_type": "code",
      "source": [
        "import pandas as pd\n",
        "df_raw = pd.read_excel('/dataset_raw_raw.lsx')\n",
        "df_raw[:2]"
      ],
      "metadata": {
        "id": "brUpuGkbplun"
      },
      "execution_count": null,
      "outputs": []
    },
    {
      "cell_type": "code",
      "source": [
        "df_raw_info()"
      ],
      "metadata": {
        "id": "zOpVGmelpSCe"
      },
      "execution_count": null,
      "outputs": []
    },
    {
      "cell_type": "code",
      "source": [
        "df_raw_dropna =df_raw_dropna()\n",
        "df_raw_dropna.install(),sum()"
      ],
      "metadata": {
        "id": "RSy-J7olqTFo"
      },
      "execution_count": null,
      "outputs": []
    },
    {
      "cell_type": "markdown",
      "source": [
        "### 결측치 처리"
      ],
      "metadata": {
        "id": "BNZRRTlaq86x"
      }
    },
    {
      "cell_type": "markdown",
      "source": [
        "### 자연어 전처리"
      ],
      "metadata": {
        "id": "tu4N34Pyqvam"
      }
    },
    {
      "cell_type": "markdown",
      "source": [
        "### 특정 (상업용) 앱 리스트 에서 제거"
      ],
      "metadata": {
        "id": "1_7FK-5jrNqo"
      }
    },
    {
      "cell_type": "code",
      "source": [
        "pd.read_excel('/remove_app_list.lsx')\n",
        "remove_app_list[:5]"
      ],
      "metadata": {
        "id": "2-Mls4wsq3NI"
      },
      "execution_count": null,
      "outputs": []
    },
    {
      "cell_type": "code",
      "source": [
        "remove_app_list.info()"
      ],
      "metadata": {
        "id": "DQAQ8oXPrwqY"
      },
      "execution_count": null,
      "outputs": []
    },
    {
      "cell_type": "code",
      "source": [
        "for remove_app in remove_app_list['app']:\n",
        "    try:\n",
        "        df_remove_app = df_raw_dropna  [df_raw_dropna['app'] != remove_app]\n",
        "    except:\n",
        "      pass"
      ],
      "metadata": {
        "id": "kSKHcm_Rr2QJ"
      },
      "execution_count": null,
      "outputs": []
    },
    {
      "cell_type": "code",
      "source": [
        "df_removed_app[500:2000]"
      ],
      "metadata": {
        "id": "pwXbrfLbs8JI"
      },
      "execution_count": null,
      "outputs": []
    },
    {
      "cell_type": "markdown",
      "source": [
        "### 형태소 작용과 불용어 처리\n"
      ],
      "metadata": {
        "id": "dVO5L1VWxUGx"
      }
    },
    {
      "cell_type": "markdown",
      "source": [
        "# 불용어 사전 불러오기\n",
        "df_stopwords = df_read"
      ],
      "metadata": {
        "id": "vQ3NdwHBzn9q"
      }
    },
    {
      "cell_type": "code",
      "source": [
        "from mecab import MeCab\n",
        "mecab = MeCab()\n",
        "stopwords = df_stopwords['stopword'].values\n",
        "# 토크나이징 함수 정의(한자 이상 적용, 불용어 삭제)\n",
        "def tokenizer(raw, stopword=stopwords):\n",
        "    result_list = list()\n",
        "    for word in mecab.nouns(raw) :\n",
        "        if len(word) > 1 and word not in stopword :\n",
        "            result_list.append(word)\n",
        "            # 일부 경우(토큰 갯수 제한)\n",
        "            #if len(result_list) <= 3 or len()\n",
        "    return ' '.join(result_list) # return str"
      ],
      "metadata": {
        "id": "dbSHa7FLxuqR"
      },
      "execution_count": null,
      "outputs": []
    },
    {
      "cell_type": "code",
      "source": [
        "# mecab.nouns('아무 곳에서나 보고 억지로라도 운동할수 있어서 너무 좋습니다. 감사히 잘 쓸께요.')"
      ],
      "metadata": {
        "id": "OQFXMj8v1UGD"
      },
      "execution_count": null,
      "outputs": []
    },
    {
      "cell_type": "code",
      "source": [
        "# 형태소 분석기  적용된 함수 실행\n",
        "tokenizer('아무 곳에서나 보고 억지로라도 운동할수 있어서 너무 좋습니다. 감사히 잘 쓸께요.')"
      ],
      "metadata": {
        "id": "eJgwz_2Ox02B"
      },
      "execution_count": null,
      "outputs": []
    },
    {
      "cell_type": "code",
      "source": [
        " df_remove_app ['tokenizer_review'] =df_remove_app['review'].apply(tokenizer)\n",
        " df_remove_app"
      ],
      "metadata": {
        "id": "6y_tXFGCxgBw"
      },
      "execution_count": null,
      "outputs": []
    },
    {
      "cell_type": "markdown",
      "source": [
        "### 유사어 대치"
      ],
      "metadata": {
        "id": "Ct-q7Pkz5Jyy"
      }
    },
    {
      "cell_type": "code",
      "source": [
        "pd.read_excel('/replace_list.xlsx')\n",
        "df_read_exc[:3]"
      ],
      "metadata": {
        "id": "lV6ZWlGv5o5D"
      },
      "execution_count": null,
      "outputs": []
    },
    {
      "cell_type": "code",
      "source": [
        "def replace_word(tokenized_review):\n",
        "  replaced_review = str()\n",
        "  for i in range(len(df_replace_list['before_replacement'])):\n",
        "    try:\n",
        "      # 치환할 단어가 있는 경우에만 데이터 치환 수행\n",
        "      if df_replace_list['before_replacement'][i] in tokenized_review:\n",
        "        replaced_review = tokenized_review.replace(df_replace_list['before_replacement'][i], df_replace_list['after_replacement'][i])\n",
        "    except Exception as e:\n",
        "      print(f\"Error 발생 / 에러명: {e}\")\n",
        "  return replaced_review"
      ],
      "metadata": {
        "id": "cPOxuKtlyNvQ"
      },
      "execution_count": null,
      "outputs": []
    },
    {
      "cell_type": "code",
      "source": [
        "replace_word('s헬스 한글 LG V10 업데이트 완벽')"
      ],
      "metadata": {
        "id": "REl-M5XF6cFK"
      },
      "execution_count": null,
      "outputs": []
    },
    {
      "cell_type": "code",
      "source": [
        "replace_word('')"
      ],
      "metadata": {
        "id": "E5jGykHf7X_T"
      },
      "execution_count": null,
      "outputs": []
    },
    {
      "cell_type": "code",
      "source": [
        "df_remove_app['replaced_review']=df_remove_app['tokenizer_review'].apply(replace_word)\n",
        "df_remove_app[:2]"
      ],
      "metadata": {
        "id": "30ZG6s8t8foc"
      },
      "execution_count": null,
      "outputs": []
    },
    {
      "cell_type": "code",
      "source": [
        "df_remove_app.to_csv('/preprocess_reviews.csv')"
      ],
      "metadata": {
        "id": "WcsoNO4Y9eRL"
      },
      "execution_count": null,
      "outputs": []
    },
    {
      "cell_type": "markdown",
      "source": [
        "### 부정과 긍정 댓글  분리"
      ],
      "metadata": {
        "id": "lzwhprLy910L"
      }
    },
    {
      "cell_type": "code",
      "source": [
        "Condition_positive =df_remove_app['rating'] >=3  #긍정\n",
        "Condition_positive =df_remove_app['rating'] <3"
      ],
      "metadata": {
        "id": "12n8rDBj9zhr"
      },
      "execution_count": null,
      "outputs": []
    },
    {
      "cell_type": "code",
      "source": [
        "df_df_remove_app[Condition_positive]"
      ],
      "metadata": {
        "id": "ozKjwuk6_C98"
      },
      "execution_count": null,
      "outputs": []
    },
    {
      "cell_type": "code",
      "source": [
        "df_revi"
      ],
      "metadata": {
        "id": "xPnoDVCL_dCE"
      },
      "execution_count": null,
      "outputs": []
    },
    {
      "cell_type": "markdown",
      "source": [
        "### LDA 분석"
      ],
      "metadata": {
        "id": "7UUbqsO9pT8-"
      }
    }
  ]
}