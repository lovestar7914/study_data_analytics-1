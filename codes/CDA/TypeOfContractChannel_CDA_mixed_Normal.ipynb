{
 "cells": [
  {
   "cell_type": "code",
   "execution_count": 1,
   "id": "0d879fff-e7ee-498c-bc45-fb74f989f6bd",
   "metadata": {},
   "outputs": [],
   "source": [
    "import matplotlib.pyplot as plt\n",
    "import matplotlib as mpl\n",
    "mpl.rc('font',family='Malgun Gothic')\n",
    "import seaborn as sns\n",
    "import pandas as pd\n",
    "import scipy.stats as stats"
   ]
  },
  {
   "cell_type": "code",
   "execution_count": 2,
   "id": "d632f360-be23-46da-98bd-756513974049",
   "metadata": {
    "tags": []
   },
   "outputs": [
    {
     "data": {
      "text/html": [
       "<div>\n",
       "<style scoped>\n",
       "    .dataframe tbody tr th:only-of-type {\n",
       "        vertical-align: middle;\n",
       "    }\n",
       "\n",
       "    .dataframe tbody tr th {\n",
       "        vertical-align: top;\n",
       "    }\n",
       "\n",
       "    .dataframe thead th {\n",
       "        text-align: right;\n",
       "    }\n",
       "</style>\n",
       "<table border=\"1\" class=\"dataframe\">\n",
       "  <thead>\n",
       "    <tr style=\"text-align: right;\">\n",
       "      <th></th>\n",
       "      <th>id</th>\n",
       "      <th>type_of_contract</th>\n",
       "      <th>type_of_contract2</th>\n",
       "      <th>channel</th>\n",
       "      <th>datetime</th>\n",
       "      <th>Term</th>\n",
       "      <th>payment_type</th>\n",
       "      <th>product</th>\n",
       "      <th>amount</th>\n",
       "      <th>state</th>\n",
       "      <th>overdue_count</th>\n",
       "      <th>overdue</th>\n",
       "      <th>credit rating</th>\n",
       "      <th>bank</th>\n",
       "      <th>cancellation</th>\n",
       "      <th>age</th>\n",
       "      <th>Mileage</th>\n",
       "    </tr>\n",
       "  </thead>\n",
       "  <tbody>\n",
       "    <tr>\n",
       "      <th>0</th>\n",
       "      <td>66758234</td>\n",
       "      <td>렌탈</td>\n",
       "      <td>Normal</td>\n",
       "      <td>서비스 방문</td>\n",
       "      <td>2019-10-20</td>\n",
       "      <td>60</td>\n",
       "      <td>CMS</td>\n",
       "      <td>K1</td>\n",
       "      <td>96900</td>\n",
       "      <td>계약확정</td>\n",
       "      <td>0</td>\n",
       "      <td>없음</td>\n",
       "      <td>9.0</td>\n",
       "      <td>새마을금고</td>\n",
       "      <td>정상</td>\n",
       "      <td>43.0</td>\n",
       "      <td>1862.0</td>\n",
       "    </tr>\n",
       "    <tr>\n",
       "      <th>1</th>\n",
       "      <td>66755948</td>\n",
       "      <td>렌탈</td>\n",
       "      <td>Extension_Rental</td>\n",
       "      <td>서비스 방문</td>\n",
       "      <td>2019-10-20</td>\n",
       "      <td>60</td>\n",
       "      <td>카드이체</td>\n",
       "      <td>K1</td>\n",
       "      <td>102900</td>\n",
       "      <td>계약확정</td>\n",
       "      <td>0</td>\n",
       "      <td>없음</td>\n",
       "      <td>2.0</td>\n",
       "      <td>현대카드</td>\n",
       "      <td>정상</td>\n",
       "      <td>62.0</td>\n",
       "      <td>2532.0</td>\n",
       "    </tr>\n",
       "  </tbody>\n",
       "</table>\n",
       "</div>"
      ],
      "text/plain": [
       "         id type_of_contract type_of_contract2 channel    datetime  Term  \\\n",
       "0  66758234               렌탈            Normal  서비스 방문  2019-10-20    60   \n",
       "1  66755948               렌탈  Extension_Rental  서비스 방문  2019-10-20    60   \n",
       "\n",
       "  payment_type product  amount state  overdue_count overdue  credit rating  \\\n",
       "0          CMS      K1   96900  계약확정              0      없음            9.0   \n",
       "1         카드이체      K1  102900  계약확정              0      없음            2.0   \n",
       "\n",
       "    bank cancellation   age  Mileage  \n",
       "0  새마을금고           정상  43.0   1862.0  \n",
       "1   현대카드           정상  62.0   2532.0  "
      ]
     },
     "execution_count": 2,
     "metadata": {},
     "output_type": "execute_result"
    }
   ],
   "source": [
    "df_TOCC = pd.read_csv('../../datasets/TypeOfContractChannel.csv')\n",
    "df_TOCC[:2]"
   ]
  },
  {
   "cell_type": "markdown",
   "id": "b0d31759-0aa8-477e-b085-59f228c5cc75",
   "metadata": {
    "tags": []
   },
   "source": [
    "### 범주형 / 연속형 : 범주형 따른 상관관계 확인"
   ]
  },
  {
   "cell_type": "markdown",
   "id": "62f0ee98-5576-4a57-9dd0-f7f72ff2c9d4",
   "metadata": {},
   "source": [
    "#### 선정 변수 : channel(항목 2), Mileage\\[:500\\](정규분포)\n",
    "- 분석 내용 : channel 중 서비스방문과 홈쇼핑에 따른 마일리지가 평균 차이가 있는가 ?\n",
    "    - 귀무가설 : 평균에 차이 없다.\n",
    "    - 대립가설 : 평균에 차이 있다.\n",
    "- 분석 결론 (기준 : p-value 0.05)\n",
    "    - 통계 결론 : pvalue=0.936, 귀무가설이 참.\n",
    "    - 사실 결론 : 평균에 차이 없다."
   ]
  },
  {
   "cell_type": "code",
   "execution_count": 3,
   "id": "88d5e1ce-90c3-4d7d-9a86-61ef431ce0bb",
   "metadata": {
    "tags": []
   },
   "outputs": [
    {
     "data": {
      "text/html": [
       "<div>\n",
       "<style scoped>\n",
       "    .dataframe tbody tr th:only-of-type {\n",
       "        vertical-align: middle;\n",
       "    }\n",
       "\n",
       "    .dataframe tbody tr th {\n",
       "        vertical-align: top;\n",
       "    }\n",
       "\n",
       "    .dataframe thead th {\n",
       "        text-align: right;\n",
       "    }\n",
       "</style>\n",
       "<table border=\"1\" class=\"dataframe\">\n",
       "  <thead>\n",
       "    <tr style=\"text-align: right;\">\n",
       "      <th></th>\n",
       "      <th>channel</th>\n",
       "      <th>Mileage</th>\n",
       "    </tr>\n",
       "  </thead>\n",
       "  <tbody>\n",
       "    <tr>\n",
       "      <th>0</th>\n",
       "      <td>서비스 방문</td>\n",
       "      <td>1862.0</td>\n",
       "    </tr>\n",
       "    <tr>\n",
       "      <th>1</th>\n",
       "      <td>서비스 방문</td>\n",
       "      <td>2532.0</td>\n",
       "    </tr>\n",
       "  </tbody>\n",
       "</table>\n",
       "</div>"
      ],
      "text/plain": [
       "  channel  Mileage\n",
       "0  서비스 방문   1862.0\n",
       "1  서비스 방문   2532.0"
      ]
     },
     "execution_count": 3,
     "metadata": {},
     "output_type": "execute_result"
    }
   ],
   "source": [
    "## 검증 대상 항목만 필터링 and 2000개만 추출(정규분포 자료 획득)\n",
    "condition = (df_TOCC['channel'] == '서비스 방문') | (df_TOCC['channel'] == '홈쇼핑/방송')\n",
    "df_channel_Mileage = df_TOCC[condition][['channel','Mileage']][:2000]\n",
    "df_channel_Mileage[:2]"
   ]
  },
  {
   "cell_type": "code",
   "execution_count": 16,
   "id": "68365654-6c8f-4284-8296-94ba179521d8",
   "metadata": {},
   "outputs": [
    {
     "data": {
      "text/plain": [
       "channel    0\n",
       "Mileage    0\n",
       "dtype: int64"
      ]
     },
     "execution_count": 16,
     "metadata": {},
     "output_type": "execute_result"
    }
   ],
   "source": [
    "df_channel_Mileage.isnull().sum()"
   ]
  },
  {
   "cell_type": "code",
   "execution_count": 15,
   "id": "57f441e7-25b4-4b86-81fe-5156261971b1",
   "metadata": {},
   "outputs": [],
   "source": [
    "df_channel_Mileage = df_channel_Mileage.dropna()"
   ]
  },
  {
   "cell_type": "code",
   "execution_count": 17,
   "id": "75ddb9f0-6d33-46dd-881d-524ff8c2c488",
   "metadata": {},
   "outputs": [
    {
     "data": {
      "text/plain": [
       "서비스 방문    855\n",
       "홈쇼핑/방송    841\n",
       "Name: channel, dtype: int64"
      ]
     },
     "execution_count": 17,
     "metadata": {},
     "output_type": "execute_result"
    }
   ],
   "source": [
    "df_channel_Mileage['channel'].value_counts()"
   ]
  },
  {
   "cell_type": "markdown",
   "id": "bdf767db-1c52-4e57-b1b3-ff9fda3c637d",
   "metadata": {
    "tags": []
   },
   "source": [
    "##### 정규성 검증\n",
    "- row 갯수가 5천개를 기준으로 검증 방식 분리"
   ]
  },
  {
   "cell_type": "code",
   "execution_count": 18,
   "id": "c620bf93-e94c-46f0-9323-88b4ea1e1b02",
   "metadata": {},
   "outputs": [
    {
     "data": {
      "text/plain": [
       "ShapiroResult(statistic=0.9926883578300476, pvalue=1.8700838211316295e-07)"
      ]
     },
     "execution_count": 18,
     "metadata": {},
     "output_type": "execute_result"
    }
   ],
   "source": [
    "stats.shapiro(df_channel_Mileage['Mileage'])"
   ]
  },
  {
   "cell_type": "code",
   "execution_count": 25,
   "id": "a06abe39-c61a-453f-8440-69e24eeeb996",
   "metadata": {
    "collapsed": true,
    "jupyter": {
     "outputs_hidden": true
    },
    "tags": []
   },
   "outputs": [
    {
     "data": {
      "text/plain": [
       "<AxesSubplot:xlabel='Mileage', ylabel='Count'>"
      ]
     },
     "execution_count": 25,
     "metadata": {},
     "output_type": "execute_result"
    },
    {
     "data": {
      "image/png": "[encoded data removed]",
      "text/plain": [
       "<Figure size 640x480 with 1 Axes>"
      ]
     },
     "metadata": {},
     "output_type": "display_data"
    }
   ],
   "source": [
    "sns.histplot(data=df_channel_Mileage, x='Mileage', kde=True)"
   ]
  },
  {
   "cell_type": "markdown",
   "id": "970d7b41-e8a7-4b61-9cc9-873de91b0389",
   "metadata": {},
   "source": [
    "##### 등분산 검증\n",
    "- 신은 위대하다. 즉, 분산이 같다. \n",
    "- 결과 : pvalue=0.74로 등분산이다."
   ]
  },
  {
   "cell_type": "code",
   "execution_count": 8,
   "id": "c889477d-acbe-4cf7-8737-caae8beb6ade",
   "metadata": {
    "collapsed": true,
    "jupyter": {
     "outputs_hidden": true
    },
    "tags": []
   },
   "outputs": [
    {
     "data": {
      "text/plain": [
       "<AxesSubplot:xlabel='channel', ylabel='count'>"
      ]
     },
     "execution_count": 8,
     "metadata": {},
     "output_type": "execute_result"
    },
    {
     "data": {
      "image/png": "[encoded data removed]",
      "text/plain": [
       "<Figure size 640x480 with 1 Axes>"
      ]
     },
     "metadata": {},
     "output_type": "display_data"
    }
   ],
   "source": [
    "sns.countplot(data=df_channel_Mileage, x='channel')"
   ]
  },
  {
   "cell_type": "code",
   "execution_count": 21,
   "id": "723f6751-9cd9-4580-ac7f-9b85bc008146",
   "metadata": {
    "tags": []
   },
   "outputs": [
    {
     "data": {
      "text/html": [
       "<div>\n",
       "<style scoped>\n",
       "    .dataframe tbody tr th:only-of-type {\n",
       "        vertical-align: middle;\n",
       "    }\n",
       "\n",
       "    .dataframe tbody tr th {\n",
       "        vertical-align: top;\n",
       "    }\n",
       "\n",
       "    .dataframe thead th {\n",
       "        text-align: right;\n",
       "    }\n",
       "</style>\n",
       "<table border=\"1\" class=\"dataframe\">\n",
       "  <thead>\n",
       "    <tr style=\"text-align: right;\">\n",
       "      <th></th>\n",
       "      <th>channel</th>\n",
       "      <th>Mileage</th>\n",
       "    </tr>\n",
       "  </thead>\n",
       "  <tbody>\n",
       "    <tr>\n",
       "      <th>0</th>\n",
       "      <td>서비스 방문</td>\n",
       "      <td>1862.0</td>\n",
       "    </tr>\n",
       "    <tr>\n",
       "      <th>1</th>\n",
       "      <td>서비스 방문</td>\n",
       "      <td>2532.0</td>\n",
       "    </tr>\n",
       "  </tbody>\n",
       "</table>\n",
       "</div>"
      ],
      "text/plain": [
       "  channel  Mileage\n",
       "0  서비스 방문   1862.0\n",
       "1  서비스 방문   2532.0"
      ]
     },
     "execution_count": 21,
     "metadata": {},
     "output_type": "execute_result"
    }
   ],
   "source": [
    "df_service = df_channel_Mileage[df_channel_Mileage['channel'] == '서비스 방문']\n",
    "df_service[:2]"
   ]
  },
  {
   "cell_type": "code",
   "execution_count": 22,
   "id": "ee139143-b985-4860-8cdb-50e3079fbc4a",
   "metadata": {
    "tags": []
   },
   "outputs": [
    {
     "data": {
      "text/html": [
       "<div>\n",
       "<style scoped>\n",
       "    .dataframe tbody tr th:only-of-type {\n",
       "        vertical-align: middle;\n",
       "    }\n",
       "\n",
       "    .dataframe tbody tr th {\n",
       "        vertical-align: top;\n",
       "    }\n",
       "\n",
       "    .dataframe thead th {\n",
       "        text-align: right;\n",
       "    }\n",
       "</style>\n",
       "<table border=\"1\" class=\"dataframe\">\n",
       "  <thead>\n",
       "    <tr style=\"text-align: right;\">\n",
       "      <th></th>\n",
       "      <th>channel</th>\n",
       "      <th>Mileage</th>\n",
       "    </tr>\n",
       "  </thead>\n",
       "  <tbody>\n",
       "    <tr>\n",
       "      <th>2</th>\n",
       "      <td>홈쇼핑/방송</td>\n",
       "      <td>2363.0</td>\n",
       "    </tr>\n",
       "    <tr>\n",
       "      <th>6</th>\n",
       "      <td>홈쇼핑/방송</td>\n",
       "      <td>2348.0</td>\n",
       "    </tr>\n",
       "  </tbody>\n",
       "</table>\n",
       "</div>"
      ],
      "text/plain": [
       "  channel  Mileage\n",
       "2  홈쇼핑/방송   2363.0\n",
       "6  홈쇼핑/방송   2348.0"
      ]
     },
     "execution_count": 22,
     "metadata": {},
     "output_type": "execute_result"
    }
   ],
   "source": [
    "df_homeshopping = df_channel_Mileage[df_channel_Mileage['channel'] == '홈쇼핑/방송']\n",
    "df_homeshopping[:2]"
   ]
  },
  {
   "cell_type": "code",
   "execution_count": 23,
   "id": "3b416397-b309-41b0-a95d-cb8c1cd7b924",
   "metadata": {},
   "outputs": [
    {
     "data": {
      "text/plain": [
       "LeveneResult(statistic=0.10621828323889944, pvalue=0.7445315946688518)"
      ]
     },
     "execution_count": 23,
     "metadata": {},
     "output_type": "execute_result"
    }
   ],
   "source": [
    "stats.levene(df_service['Mileage'], df_homeshopping['Mileage'])"
   ]
  },
  {
   "cell_type": "code",
   "execution_count": 26,
   "id": "7baf6c55-01b1-4e54-a4c7-b998e30b7218",
   "metadata": {
    "collapsed": true,
    "jupyter": {
     "outputs_hidden": true
    },
    "tags": []
   },
   "outputs": [
    {
     "data": {
      "text/plain": [
       "<AxesSubplot:xlabel='Mileage', ylabel='Count'>"
      ]
     },
     "execution_count": 26,
     "metadata": {},
     "output_type": "execute_result"
    },
    {
     "data": {
      "image/png": "[encoded data removed]",
      "text/plain": [
       "<Figure size 640x480 with 1 Axes>"
      ]
     },
     "metadata": {},
     "output_type": "display_data"
    }
   ],
   "source": [
    "sns.histplot(data=df_channel_Mileage, x='Mileage', kde=True, hue='channel')"
   ]
  },
  {
   "cell_type": "code",
   "execution_count": 27,
   "id": "03d7f398-afee-4db7-83a4-f9de5bb2d896",
   "metadata": {},
   "outputs": [
    {
     "data": {
      "text/plain": [
       "Ttest_indResult(statistic=-0.08025301134894845, pvalue=0.9360455086241137)"
      ]
     },
     "execution_count": 27,
     "metadata": {},
     "output_type": "execute_result"
    }
   ],
   "source": [
    "stats.ttest_ind(df_service['Mileage'], df_homeshopping['Mileage'], equal_var=True )  # 등분산 일때"
   ]
  },
  {
   "cell_type": "code",
   "execution_count": null,
   "id": "03954259-4f53-4b9a-9c7b-436ba12ee8f1",
   "metadata": {},
   "outputs": [],
   "source": []
  }
 ],
 "metadata": {
  "kernelspec": {
   "display_name": "Python 3 (ipykernel)",
   "language": "python",
   "name": "python3"
  },
  "language_info": {
   "codemirror_mode": {
    "name": "ipython",
    "version": 3
   },
   "file_extension": ".py",
   "mimetype": "text/x-python",
   "name": "python",
   "nbconvert_exporter": "python",
   "pygments_lexer": "ipython3",
   "version": "3.9.13"
  }
 },
 "nbformat": 4,
 "nbformat_minor": 5
}
