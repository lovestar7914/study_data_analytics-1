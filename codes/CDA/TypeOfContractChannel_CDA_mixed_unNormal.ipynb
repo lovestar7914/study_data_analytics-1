{
 "cells": [
  {
   "cell_type": "code",
   "execution_count": 1,
   "id": "0d879fff-e7ee-498c-bc45-fb74f989f6bd",
   "metadata": {},
   "outputs": [],
   "source": [
    "import matplotlib.pyplot as plt\n",
    "import matplotlib as mpl\n",
    "mpl.rc('font',family='Malgun Gothic')\n",
    "import seaborn as sns\n",
    "import pandas as pd\n",
    "import scipy.stats as stats"
   ]
  },
  {
   "cell_type": "code",
   "execution_count": 2,
   "id": "d632f360-be23-46da-98bd-756513974049",
   "metadata": {
    "tags": []
   },
   "outputs": [
    {
     "data": {
      "text/html": [
       "<div>\n",
       "<style scoped>\n",
       "    .dataframe tbody tr th:only-of-type {\n",
       "        vertical-align: middle;\n",
       "    }\n",
       "\n",
       "    .dataframe tbody tr th {\n",
       "        vertical-align: top;\n",
       "    }\n",
       "\n",
       "    .dataframe thead th {\n",
       "        text-align: right;\n",
       "    }\n",
       "</style>\n",
       "<table border=\"1\" class=\"dataframe\">\n",
       "  <thead>\n",
       "    <tr style=\"text-align: right;\">\n",
       "      <th></th>\n",
       "      <th>id</th>\n",
       "      <th>type_of_contract</th>\n",
       "      <th>type_of_contract2</th>\n",
       "      <th>channel</th>\n",
       "      <th>datetime</th>\n",
       "      <th>Term</th>\n",
       "      <th>payment_type</th>\n",
       "      <th>product</th>\n",
       "      <th>amount</th>\n",
       "      <th>state</th>\n",
       "      <th>overdue_count</th>\n",
       "      <th>overdue</th>\n",
       "      <th>credit rating</th>\n",
       "      <th>bank</th>\n",
       "      <th>cancellation</th>\n",
       "      <th>age</th>\n",
       "      <th>Mileage</th>\n",
       "    </tr>\n",
       "  </thead>\n",
       "  <tbody>\n",
       "    <tr>\n",
       "      <th>0</th>\n",
       "      <td>66758234</td>\n",
       "      <td>렌탈</td>\n",
       "      <td>Normal</td>\n",
       "      <td>서비스 방문</td>\n",
       "      <td>2019-10-20</td>\n",
       "      <td>60</td>\n",
       "      <td>CMS</td>\n",
       "      <td>K1</td>\n",
       "      <td>96900</td>\n",
       "      <td>계약확정</td>\n",
       "      <td>0</td>\n",
       "      <td>없음</td>\n",
       "      <td>9.0</td>\n",
       "      <td>새마을금고</td>\n",
       "      <td>정상</td>\n",
       "      <td>43.0</td>\n",
       "      <td>1862.0</td>\n",
       "    </tr>\n",
       "    <tr>\n",
       "      <th>1</th>\n",
       "      <td>66755948</td>\n",
       "      <td>렌탈</td>\n",
       "      <td>Extension_Rental</td>\n",
       "      <td>서비스 방문</td>\n",
       "      <td>2019-10-20</td>\n",
       "      <td>60</td>\n",
       "      <td>카드이체</td>\n",
       "      <td>K1</td>\n",
       "      <td>102900</td>\n",
       "      <td>계약확정</td>\n",
       "      <td>0</td>\n",
       "      <td>없음</td>\n",
       "      <td>2.0</td>\n",
       "      <td>현대카드</td>\n",
       "      <td>정상</td>\n",
       "      <td>62.0</td>\n",
       "      <td>2532.0</td>\n",
       "    </tr>\n",
       "  </tbody>\n",
       "</table>\n",
       "</div>"
      ],
      "text/plain": [
       "         id type_of_contract type_of_contract2 channel    datetime  Term  \\\n",
       "0  66758234               렌탈            Normal  서비스 방문  2019-10-20    60   \n",
       "1  66755948               렌탈  Extension_Rental  서비스 방문  2019-10-20    60   \n",
       "\n",
       "  payment_type product  amount state  overdue_count overdue  credit rating  \\\n",
       "0          CMS      K1   96900  계약확정              0      없음            9.0   \n",
       "1         카드이체      K1  102900  계약확정              0      없음            2.0   \n",
       "\n",
       "    bank cancellation   age  Mileage  \n",
       "0  새마을금고           정상  43.0   1862.0  \n",
       "1   현대카드           정상  62.0   2532.0  "
      ]
     },
     "execution_count": 2,
     "metadata": {},
     "output_type": "execute_result"
    }
   ],
   "source": [
    "df_TOCC = pd.read_csv('../../datasets/TypeOfContractChannel.csv')\n",
    "df_TOCC[:2]"
   ]
  },
  {
   "cell_type": "markdown",
   "id": "b0d31759-0aa8-477e-b085-59f228c5cc75",
   "metadata": {
    "tags": []
   },
   "source": [
    "### X:범주형 / Y:연속형 : 범주형 따른 상관관계 확인"
   ]
  },
  {
   "cell_type": "markdown",
   "id": "263fdf52-cfc5-4dca-b101-2947e0b847bb",
   "metadata": {
    "tags": []
   },
   "source": [
    "#### 선정 변수 : channel(항목 2), amount(비정규분포) - Wilcoxon Test\n",
    "- 분석 내용 : channel 중 서비스방문과 홈쇼핑에 따른 월 렌탈 비용 평균이 차이가 있는가 ?\n",
    "    - 귀무가설 : 비용 평균에 차이 없다.\n",
    "    - 대립가설 : 비용 평균에 차이 있다.\n",
    "- 분석 결론 (기준 : p-value 0.05)\n",
    "    - 통계 결론 : pvalue=0.0, 대립가설이 참.\n",
    "    - 사실 결론 : 비용 평균에 차이 있다."
   ]
  },
  {
   "cell_type": "code",
   "execution_count": 3,
   "id": "c889477d-acbe-4cf7-8737-caae8beb6ade",
   "metadata": {
    "collapsed": true,
    "jupyter": {
     "outputs_hidden": true
    },
    "tags": []
   },
   "outputs": [
    {
     "data": {
      "text/plain": [
       "<AxesSubplot:xlabel='channel', ylabel='count'>"
      ]
     },
     "execution_count": 3,
     "metadata": {},
     "output_type": "execute_result"
    },
    {
     "data": {
      "image/png": "[encoded data removed]",
      "text/plain": [
       "<Figure size 640x480 with 1 Axes>"
      ]
     },
     "metadata": {},
     "output_type": "display_data"
    }
   ],
   "source": [
    "sns.countplot(data=df_TOCC, x='channel')"
   ]
  },
  {
   "cell_type": "code",
   "execution_count": 4,
   "id": "8a84555d-8cdf-417a-9e34-f4818ae888a4",
   "metadata": {
    "collapsed": true,
    "jupyter": {
     "outputs_hidden": true
    },
    "tags": []
   },
   "outputs": [
    {
     "data": {
      "text/plain": [
       "서비스 방문     15186\n",
       "홈쇼핑/방송     12977\n",
       "렌탈총판        5544\n",
       "R관리방판       4727\n",
       "하이마트        3227\n",
       "영업방판        3039\n",
       "렌탈재계약       2193\n",
       "일반          1232\n",
       "전자랜드        1205\n",
       "R빌리미         560\n",
       "이마트          265\n",
       "홈플러스         225\n",
       "R인터넷         198\n",
       "R유통사         188\n",
       "홈쇼핑/인터넷      177\n",
       "R렌탈운영        120\n",
       "R농협          119\n",
       "R농협인터넷몰       83\n",
       "R법인그룹         20\n",
       "R법인           19\n",
       "Name: channel, dtype: int64"
      ]
     },
     "execution_count": 4,
     "metadata": {},
     "output_type": "execute_result"
    }
   ],
   "source": [
    "df_TOCC['channel'].value_counts()"
   ]
  },
  {
   "cell_type": "code",
   "execution_count": 11,
   "id": "31c771a0-db82-4a4c-b228-48333ac67d83",
   "metadata": {
    "collapsed": true,
    "jupyter": {
     "outputs_hidden": true
    },
    "tags": []
   },
   "outputs": [
    {
     "data": {
      "text/html": [
       "<div>\n",
       "<style scoped>\n",
       "    .dataframe tbody tr th:only-of-type {\n",
       "        vertical-align: middle;\n",
       "    }\n",
       "\n",
       "    .dataframe tbody tr th {\n",
       "        vertical-align: top;\n",
       "    }\n",
       "\n",
       "    .dataframe thead th {\n",
       "        text-align: right;\n",
       "    }\n",
       "</style>\n",
       "<table border=\"1\" class=\"dataframe\">\n",
       "  <thead>\n",
       "    <tr style=\"text-align: right;\">\n",
       "      <th></th>\n",
       "      <th>channel</th>\n",
       "      <th>amount</th>\n",
       "    </tr>\n",
       "  </thead>\n",
       "  <tbody>\n",
       "    <tr>\n",
       "      <th>0</th>\n",
       "      <td>서비스 방문</td>\n",
       "      <td>96900</td>\n",
       "    </tr>\n",
       "    <tr>\n",
       "      <th>1</th>\n",
       "      <td>서비스 방문</td>\n",
       "      <td>102900</td>\n",
       "    </tr>\n",
       "  </tbody>\n",
       "</table>\n",
       "</div>"
      ],
      "text/plain": [
       "  channel  amount\n",
       "0  서비스 방문   96900\n",
       "1  서비스 방문  102900"
      ]
     },
     "execution_count": 11,
     "metadata": {},
     "output_type": "execute_result"
    }
   ],
   "source": [
    "## 검증 대상 항목만 필터링 and 추출\n",
    "condition = (df_TOCC['channel'] == '서비스 방문') | (df_TOCC['channel'] == '홈쇼핑/방송')\n",
    "df_channel_amount = df_TOCC[condition][['channel','amount']]\n",
    "df_channel_amount[:2]"
   ]
  },
  {
   "cell_type": "code",
   "execution_count": 12,
   "id": "e6900844-17d4-430a-b58d-cd93e5b9714a",
   "metadata": {
    "collapsed": true,
    "jupyter": {
     "outputs_hidden": true
    },
    "tags": []
   },
   "outputs": [
    {
     "name": "stdout",
     "output_type": "stream",
     "text": [
      "<class 'pandas.core.frame.DataFrame'>\n",
      "Int64Index: 28163 entries, 0 to 51301\n",
      "Data columns (total 2 columns):\n",
      " #   Column   Non-Null Count  Dtype \n",
      "---  ------   --------------  ----- \n",
      " 0   channel  28163 non-null  object\n",
      " 1   amount   28163 non-null  int64 \n",
      "dtypes: int64(1), object(1)\n",
      "memory usage: 660.1+ KB\n"
     ]
    }
   ],
   "source": [
    "## check null\n",
    "df_channel_amount.info()"
   ]
  },
  {
   "cell_type": "markdown",
   "id": "2942d1fc-7395-4f30-bcd2-f008587cddc1",
   "metadata": {
    "tags": []
   },
   "source": [
    "##### 5천 건 이상 anderson test : 정규 분포 검증"
   ]
  },
  {
   "cell_type": "code",
   "execution_count": 16,
   "id": "efc0a54e-d1e5-40ef-9ee3-358241ecf6f0",
   "metadata": {},
   "outputs": [
    {
     "data": {
      "text/plain": [
       "(1292.5765966678264,\n",
       " array([0.576, 0.656, 0.787, 0.918, 1.092]),\n",
       " array([15. , 10. ,  5. ,  2.5,  1. ]))"
      ]
     },
     "execution_count": 16,
     "metadata": {},
     "output_type": "execute_result"
    }
   ],
   "source": [
    "## statistic < cv : 정규분포, statistic > cv : 비정규분포\n",
    "statistic, cv, sl = stats.anderson(df_channel_amount['amount'])\n",
    "statistic, cv, sl  # 비정규분포"
   ]
  },
  {
   "cell_type": "code",
   "execution_count": 17,
   "id": "b2363cf9-2bf3-403a-9769-5d8f8a61b90e",
   "metadata": {
    "collapsed": true,
    "jupyter": {
     "outputs_hidden": true
    },
    "tags": []
   },
   "outputs": [
    {
     "data": {
      "text/plain": [
       "<AxesSubplot:xlabel='amount', ylabel='Count'>"
      ]
     },
     "execution_count": 17,
     "metadata": {},
     "output_type": "execute_result"
    },
    {
     "data": {
      "image/png": "[encoded data removed]",
      "text/plain": [
       "<Figure size 640x480 with 1 Axes>"
      ]
     },
     "metadata": {},
     "output_type": "display_data"
    }
   ],
   "source": [
    "sns.histplot(df_channel_amount, x='amount', kde=True)"
   ]
  },
  {
   "cell_type": "markdown",
   "id": "ddcd34b7-3969-4d64-983e-d7cb693693e7",
   "metadata": {
    "tags": []
   },
   "source": [
    "##### 범주형 항목 따라 검증 : 2개 항목"
   ]
  },
  {
   "cell_type": "code",
   "execution_count": 21,
   "id": "93534e75-7998-4c95-b240-f5273d0a49f2",
   "metadata": {},
   "outputs": [
    {
     "data": {
      "text/plain": [
       "서비스 방문    15186\n",
       "홈쇼핑/방송    12977\n",
       "Name: channel, dtype: int64"
      ]
     },
     "execution_count": 21,
     "metadata": {},
     "output_type": "execute_result"
    }
   ],
   "source": [
    "df_channel_amount['channel'].value_counts()"
   ]
  },
  {
   "cell_type": "code",
   "execution_count": 31,
   "id": "efdeceec-8eae-45ad-9b61-1b02519e7f0f",
   "metadata": {
    "collapsed": true,
    "jupyter": {
     "outputs_hidden": true
    },
    "tags": []
   },
   "outputs": [
    {
     "data": {
      "text/html": [
       "<div>\n",
       "<style scoped>\n",
       "    .dataframe tbody tr th:only-of-type {\n",
       "        vertical-align: middle;\n",
       "    }\n",
       "\n",
       "    .dataframe tbody tr th {\n",
       "        vertical-align: top;\n",
       "    }\n",
       "\n",
       "    .dataframe thead th {\n",
       "        text-align: right;\n",
       "    }\n",
       "</style>\n",
       "<table border=\"1\" class=\"dataframe\">\n",
       "  <thead>\n",
       "    <tr style=\"text-align: right;\">\n",
       "      <th></th>\n",
       "      <th>channel</th>\n",
       "      <th>amount</th>\n",
       "    </tr>\n",
       "  </thead>\n",
       "  <tbody>\n",
       "    <tr>\n",
       "      <th>0</th>\n",
       "      <td>서비스 방문</td>\n",
       "      <td>96900</td>\n",
       "    </tr>\n",
       "    <tr>\n",
       "      <th>1</th>\n",
       "      <td>서비스 방문</td>\n",
       "      <td>102900</td>\n",
       "    </tr>\n",
       "  </tbody>\n",
       "</table>\n",
       "</div>"
      ],
      "text/plain": [
       "  channel  amount\n",
       "0  서비스 방문   96900\n",
       "1  서비스 방문  102900"
      ]
     },
     "execution_count": 31,
     "metadata": {},
     "output_type": "execute_result"
    }
   ],
   "source": [
    "df_service = df_channel_amount[df_channel_amount['channel'] == '서비스 방문']\n",
    "df_service[:2]"
   ]
  },
  {
   "cell_type": "code",
   "execution_count": 32,
   "id": "2db4f0e1-993d-47d9-ab88-72a28840c5d6",
   "metadata": {
    "collapsed": true,
    "jupyter": {
     "outputs_hidden": true
    },
    "tags": []
   },
   "outputs": [
    {
     "data": {
      "text/html": [
       "<div>\n",
       "<style scoped>\n",
       "    .dataframe tbody tr th:only-of-type {\n",
       "        vertical-align: middle;\n",
       "    }\n",
       "\n",
       "    .dataframe tbody tr th {\n",
       "        vertical-align: top;\n",
       "    }\n",
       "\n",
       "    .dataframe thead th {\n",
       "        text-align: right;\n",
       "    }\n",
       "</style>\n",
       "<table border=\"1\" class=\"dataframe\">\n",
       "  <thead>\n",
       "    <tr style=\"text-align: right;\">\n",
       "      <th></th>\n",
       "      <th>channel</th>\n",
       "      <th>amount</th>\n",
       "    </tr>\n",
       "  </thead>\n",
       "  <tbody>\n",
       "    <tr>\n",
       "      <th>2</th>\n",
       "      <td>홈쇼핑/방송</td>\n",
       "      <td>96900</td>\n",
       "    </tr>\n",
       "    <tr>\n",
       "      <th>6</th>\n",
       "      <td>홈쇼핑/방송</td>\n",
       "      <td>98400</td>\n",
       "    </tr>\n",
       "  </tbody>\n",
       "</table>\n",
       "</div>"
      ],
      "text/plain": [
       "  channel  amount\n",
       "2  홈쇼핑/방송   96900\n",
       "6  홈쇼핑/방송   98400"
      ]
     },
     "execution_count": 32,
     "metadata": {},
     "output_type": "execute_result"
    }
   ],
   "source": [
    "df_homeshopping = df_channel_amount[df_channel_amount['channel'] == '홈쇼핑/방송']\n",
    "df_homeshopping[:2]"
   ]
  },
  {
   "cell_type": "code",
   "execution_count": 33,
   "id": "08dd4c1a-7c17-4d06-9588-2d023824c2bc",
   "metadata": {},
   "outputs": [
    {
     "data": {
      "text/plain": [
       "RanksumsResult(statistic=74.731078009603, pvalue=0.0)"
      ]
     },
     "execution_count": 33,
     "metadata": {},
     "output_type": "execute_result"
    }
   ],
   "source": [
    "# 검증\n",
    "stats.ranksums(df_service['amount'], df_homeshopping['amount'])"
   ]
  },
  {
   "cell_type": "code",
   "execution_count": null,
   "id": "c5d2036b-be78-4b5b-9a06-2a79f0403360",
   "metadata": {},
   "outputs": [],
   "source": []
  }
 ],
 "metadata": {
  "kernelspec": {
   "display_name": "Python 3 (ipykernel)",
   "language": "python",
   "name": "python3"
  },
  "language_info": {
   "codemirror_mode": {
    "name": "ipython",
    "version": 3
   },
   "file_extension": ".py",
   "mimetype": "text/x-python",
   "name": "python",
   "nbconvert_exporter": "python",
   "pygments_lexer": "ipython3",
   "version": "3.9.13"
  }
 },
 "nbformat": 4,
 "nbformat_minor": 5
}
