{
 "cells": [
  {
   "cell_type": "code",
   "execution_count": 1,
   "id": "244a2013-bddd-43aa-88f9-901caf567e4e",
   "metadata": {},
   "outputs": [],
   "source": [
    "import matplotlib.pyplot as plt\n",
    "import matplotlib as mpl\n",
    "mpl.rc('font',family='Malgun Gothic')\n",
    "import seaborn as sns"
   ]
  },
  {
   "cell_type": "markdown",
   "id": "7e371155-68ba-4ae4-a25c-3e6d6291d2c2",
   "metadata": {
    "tags": []
   },
   "source": [
    "### load datasets"
   ]
  },
  {
   "cell_type": "code",
   "execution_count": 2,
   "id": "8fff8bea-3ad2-4833-b932-f1f8acb7d8dd",
   "metadata": {},
   "outputs": [],
   "source": [
    "import pandas as pd"
   ]
  },
  {
   "cell_type": "code",
   "execution_count": 3,
   "id": "8a15a902-90ae-4010-952b-d4a40dba74d8",
   "metadata": {},
   "outputs": [
    {
     "data": {
      "text/html": [
       "<div>\n",
       "<style scoped>\n",
       "    .dataframe tbody tr th:only-of-type {\n",
       "        vertical-align: middle;\n",
       "    }\n",
       "\n",
       "    .dataframe tbody tr th {\n",
       "        vertical-align: top;\n",
       "    }\n",
       "\n",
       "    .dataframe thead th {\n",
       "        text-align: right;\n",
       "    }\n",
       "</style>\n",
       "<table border=\"1\" class=\"dataframe\">\n",
       "  <thead>\n",
       "    <tr style=\"text-align: right;\">\n",
       "      <th></th>\n",
       "      <th>id</th>\n",
       "      <th>type_of_contract</th>\n",
       "      <th>type_of_contract2</th>\n",
       "      <th>channel</th>\n",
       "      <th>datetime</th>\n",
       "      <th>Term</th>\n",
       "      <th>payment_type</th>\n",
       "      <th>product</th>\n",
       "      <th>amount</th>\n",
       "      <th>state</th>\n",
       "      <th>overdue_count</th>\n",
       "      <th>overdue</th>\n",
       "      <th>credit rating</th>\n",
       "      <th>bank</th>\n",
       "      <th>cancellation</th>\n",
       "      <th>age</th>\n",
       "      <th>Mileage</th>\n",
       "    </tr>\n",
       "  </thead>\n",
       "  <tbody>\n",
       "    <tr>\n",
       "      <th>0</th>\n",
       "      <td>66758234</td>\n",
       "      <td>렌탈</td>\n",
       "      <td>Normal</td>\n",
       "      <td>서비스 방문</td>\n",
       "      <td>2019-10-20</td>\n",
       "      <td>60</td>\n",
       "      <td>CMS</td>\n",
       "      <td>K1</td>\n",
       "      <td>96900</td>\n",
       "      <td>계약확정</td>\n",
       "      <td>0</td>\n",
       "      <td>없음</td>\n",
       "      <td>9.0</td>\n",
       "      <td>새마을금고</td>\n",
       "      <td>정상</td>\n",
       "      <td>43.0</td>\n",
       "      <td>1862.0</td>\n",
       "    </tr>\n",
       "    <tr>\n",
       "      <th>1</th>\n",
       "      <td>66755948</td>\n",
       "      <td>렌탈</td>\n",
       "      <td>Extension_Rental</td>\n",
       "      <td>서비스 방문</td>\n",
       "      <td>2019-10-20</td>\n",
       "      <td>60</td>\n",
       "      <td>카드이체</td>\n",
       "      <td>K1</td>\n",
       "      <td>102900</td>\n",
       "      <td>계약확정</td>\n",
       "      <td>0</td>\n",
       "      <td>없음</td>\n",
       "      <td>2.0</td>\n",
       "      <td>현대카드</td>\n",
       "      <td>정상</td>\n",
       "      <td>62.0</td>\n",
       "      <td>2532.0</td>\n",
       "    </tr>\n",
       "  </tbody>\n",
       "</table>\n",
       "</div>"
      ],
      "text/plain": [
       "         id type_of_contract type_of_contract2 channel    datetime  Term  \\\n",
       "0  66758234               렌탈            Normal  서비스 방문  2019-10-20    60   \n",
       "1  66755948               렌탈  Extension_Rental  서비스 방문  2019-10-20    60   \n",
       "\n",
       "  payment_type product  amount state  overdue_count overdue  credit rating  \\\n",
       "0          CMS      K1   96900  계약확정              0      없음            9.0   \n",
       "1         카드이체      K1  102900  계약확정              0      없음            2.0   \n",
       "\n",
       "    bank cancellation   age  Mileage  \n",
       "0  새마을금고           정상  43.0   1862.0  \n",
       "1   현대카드           정상  62.0   2532.0  "
      ]
     },
     "execution_count": 3,
     "metadata": {},
     "output_type": "execute_result"
    }
   ],
   "source": [
    "df_TOCC = pd.read_csv('../../datasets/TypeOfContractChannel.csv')\n",
    "df_TOCC[:2]"
   ]
  },
  {
   "cell_type": "code",
   "execution_count": 6,
   "id": "fa922c90-9f74-42dc-80cf-4feaec98e8f1",
   "metadata": {
    "collapsed": true,
    "jupyter": {
     "outputs_hidden": true
    },
    "tags": []
   },
   "outputs": [
    {
     "name": "stdout",
     "output_type": "stream",
     "text": [
      "<class 'pandas.core.frame.DataFrame'>\n",
      "RangeIndex: 51304 entries, 0 to 51303\n",
      "Data columns (total 17 columns):\n",
      " #   Column             Non-Null Count  Dtype  \n",
      "---  ------             --------------  -----  \n",
      " 0   id                 51304 non-null  int64  \n",
      " 1   type_of_contract   51300 non-null  object \n",
      " 2   type_of_contract2  51303 non-null  object \n",
      " 3   channel            51304 non-null  object \n",
      " 4   datetime           51304 non-null  object \n",
      " 5   Term               51304 non-null  int64  \n",
      " 6   payment_type       51304 non-null  object \n",
      " 7   product            51303 non-null  object \n",
      " 8   amount             51304 non-null  int64  \n",
      " 9   state              51304 non-null  object \n",
      " 10  overdue_count      51304 non-null  int64  \n",
      " 11  overdue            51302 non-null  object \n",
      " 12  credit rating      42521 non-null  float64\n",
      " 13  bank               48544 non-null  object \n",
      " 14  cancellation       51279 non-null  object \n",
      " 15  age                40509 non-null  float64\n",
      " 16  Mileage            40509 non-null  float64\n",
      "dtypes: float64(3), int64(4), object(10)\n",
      "memory usage: 6.7+ MB\n"
     ]
    }
   ],
   "source": [
    "df_TOCC.info()"
   ]
  },
  {
   "cell_type": "markdown",
   "id": "cbf08acc-dc2c-4acc-ace9-f0c4dc1dedfa",
   "metadata": {
    "tags": []
   },
   "source": [
    "### 단일 변수"
   ]
  },
  {
   "cell_type": "code",
   "execution_count": 7,
   "id": "6610e055-823d-4b79-8d97-463b9f3862b5",
   "metadata": {},
   "outputs": [
    {
     "data": {
      "text/html": [
       "<div>\n",
       "<style scoped>\n",
       "    .dataframe tbody tr th:only-of-type {\n",
       "        vertical-align: middle;\n",
       "    }\n",
       "\n",
       "    .dataframe tbody tr th {\n",
       "        vertical-align: top;\n",
       "    }\n",
       "\n",
       "    .dataframe thead th {\n",
       "        text-align: right;\n",
       "    }\n",
       "</style>\n",
       "<table border=\"1\" class=\"dataframe\">\n",
       "  <thead>\n",
       "    <tr style=\"text-align: right;\">\n",
       "      <th></th>\n",
       "      <th>type_of_contract</th>\n",
       "      <th>type_of_contract2</th>\n",
       "      <th>channel</th>\n",
       "      <th>datetime</th>\n",
       "      <th>payment_type</th>\n",
       "      <th>product</th>\n",
       "      <th>state</th>\n",
       "      <th>overdue</th>\n",
       "      <th>bank</th>\n",
       "      <th>cancellation</th>\n",
       "    </tr>\n",
       "  </thead>\n",
       "  <tbody>\n",
       "    <tr>\n",
       "      <th>count</th>\n",
       "      <td>51300</td>\n",
       "      <td>51303</td>\n",
       "      <td>51304</td>\n",
       "      <td>51304</td>\n",
       "      <td>51304</td>\n",
       "      <td>51303</td>\n",
       "      <td>51304</td>\n",
       "      <td>51302</td>\n",
       "      <td>48544</td>\n",
       "      <td>51279</td>\n",
       "    </tr>\n",
       "    <tr>\n",
       "      <th>unique</th>\n",
       "      <td>2</td>\n",
       "      <td>9</td>\n",
       "      <td>20</td>\n",
       "      <td>101</td>\n",
       "      <td>5</td>\n",
       "      <td>6</td>\n",
       "      <td>4</td>\n",
       "      <td>2</td>\n",
       "      <td>46</td>\n",
       "      <td>2</td>\n",
       "    </tr>\n",
       "    <tr>\n",
       "      <th>top</th>\n",
       "      <td>렌탈</td>\n",
       "      <td>Promotion</td>\n",
       "      <td>서비스 방문</td>\n",
       "      <td>2019-10-29</td>\n",
       "      <td>CMS</td>\n",
       "      <td>K1</td>\n",
       "      <td>계약확정</td>\n",
       "      <td>없음</td>\n",
       "      <td>국민은행</td>\n",
       "      <td>정상</td>\n",
       "    </tr>\n",
       "    <tr>\n",
       "      <th>freq</th>\n",
       "      <td>46481</td>\n",
       "      <td>15811</td>\n",
       "      <td>15186</td>\n",
       "      <td>817</td>\n",
       "      <td>32825</td>\n",
       "      <td>39134</td>\n",
       "      <td>50350</td>\n",
       "      <td>49112</td>\n",
       "      <td>9901</td>\n",
       "      <td>50372</td>\n",
       "    </tr>\n",
       "  </tbody>\n",
       "</table>\n",
       "</div>"
      ],
      "text/plain": [
       "       type_of_contract type_of_contract2 channel    datetime payment_type  \\\n",
       "count             51300             51303   51304       51304        51304   \n",
       "unique                2                 9      20         101            5   \n",
       "top                  렌탈         Promotion  서비스 방문  2019-10-29          CMS   \n",
       "freq              46481             15811   15186         817        32825   \n",
       "\n",
       "       product  state overdue   bank cancellation  \n",
       "count    51303  51304   51302  48544        51279  \n",
       "unique       6      4       2     46            2  \n",
       "top         K1   계약확정      없음   국민은행           정상  \n",
       "freq     39134  50350   49112   9901        50372  "
      ]
     },
     "execution_count": 7,
     "metadata": {},
     "output_type": "execute_result"
    }
   ],
   "source": [
    "df_TOCC.describe(include=object)"
   ]
  },
  {
   "cell_type": "code",
   "execution_count": 8,
   "id": "41094d15-b02b-47ad-98fb-b627275ef043",
   "metadata": {},
   "outputs": [
    {
     "data": {
      "text/plain": [
       "Index(['type_of_contract', 'type_of_contract2', 'channel', 'datetime',\n",
       "       'payment_type', 'product', 'state', 'overdue', 'bank', 'cancellation'],\n",
       "      dtype='object')"
      ]
     },
     "execution_count": 8,
     "metadata": {},
     "output_type": "execute_result"
    }
   ],
   "source": [
    "df_TOCC.describe(include=object).columns"
   ]
  },
  {
   "cell_type": "markdown",
   "id": "b65f931e-7c02-431f-a35c-80513b817961",
   "metadata": {},
   "source": [
    "#### 범주형 : 주로 문자, 항목으로 구성"
   ]
  },
  {
   "cell_type": "code",
   "execution_count": 9,
   "id": "6bf08655-5c6e-4220-a618-80711b038b98",
   "metadata": {
    "collapsed": true,
    "jupyter": {
     "outputs_hidden": true
    },
    "tags": []
   },
   "outputs": [
    {
     "data": {
      "text/plain": [
       "렌탈     46481\n",
       "멤버십     4819\n",
       "Name: type_of_contract, dtype: int64"
      ]
     },
     "execution_count": 9,
     "metadata": {},
     "output_type": "execute_result"
    }
   ],
   "source": [
    "df_TOCC['type_of_contract'].value_counts()"
   ]
  },
  {
   "cell_type": "code",
   "execution_count": 12,
   "id": "2cbd3dd6-9bed-43d3-90f0-5bdd15372b40",
   "metadata": {
    "collapsed": true,
    "jupyter": {
     "outputs_hidden": true
    },
    "tags": []
   },
   "outputs": [
    {
     "data": {
      "image/png": "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\n",
      "text/plain": [
       "<Figure size 640x480 with 1 Axes>"
      ]
     },
     "metadata": {},
     "output_type": "display_data"
    }
   ],
   "source": [
    "sns.countplot(data=df_TOCC, x='type_of_contract')\n",
    "plt.title(\"계약 종류\")\n",
    "plt.show()"
   ]
  },
  {
   "cell_type": "code",
   "execution_count": 26,
   "id": "7e510230-4db8-4974-be2b-818df5ba221d",
   "metadata": {
    "tags": []
   },
   "outputs": [
    {
     "data": {
      "text/plain": [
       "['국민은행', '롯데카드', '농협은행', '신한은행', '우리은행', '기업은행', '신한카드']"
      ]
     },
     "execution_count": 26,
     "metadata": {},
     "output_type": "execute_result"
    }
   ],
   "source": [
    "# 거래 은행 중 상위 7개 확인 (bacnk column -> 항목 serise -> index 축출 -> list 변환 -> slicing 7\n",
    "order_list = df_TOCC['bank'].value_counts().index.to_list()[:7]\n",
    "order_list"
   ]
  },
  {
   "cell_type": "code",
   "execution_count": 27,
   "id": "aeeb7185-9507-4d3e-b505-07c25c9b78eb",
   "metadata": {
    "collapsed": true,
    "jupyter": {
     "outputs_hidden": true
    },
    "tags": []
   },
   "outputs": [
    {
     "data": {
      "image/png": "iVBORw0KGgoAAAANSUhEUgAAAlcAAAGuCAYAAAC9TiPIAAAAOXRFWHRTb2Z0d2FyZQBNYXRwbG90bGliIHZlcnNpb24zLjUuMiwgaHR0cHM6Ly9tYXRwbG90bGliLm9yZy8qNh9FAAAACXBIWXMAAA9hAAAPYQGoP6dpAAA2lklEQVR4nO3de1RVdf7/8RdwEAUFL4hXEDOMJp00+3qZzLTmomnO2IiIQ0GWZamFZl5GM7VENCpT1pija2Qs0/Eyl0a+aJlRhoyXqfGamhcQSlK8cMALctm/P/p5vp0BFOgDB/D5WOus1fl89mfv9/6clbzW3p+zj5tlWZYAAABghLurCwAAAKhPCFcAAAAGEa4AAAAMIlwBAAAYRLgCAAAwiHAFAABgEOEKAADAIJurC7gVlZSU6Ntvv1WTJk3k5ubm6nIAAEAFWJalvLw8tW3bVu7u5V+fIly5wLfffqvAwEBXlwEAAKogMzNT7du3L7efcOUCTZo0kfT9h+Pr6+viagAAQEXY7XYFBgY6/o6Xh3DlAtdvBfr6+hKuAACoY262pIcF7QAAAAYRrgAAAAzitqAL9Zu5Rh5ejVxdBgAA9ca/X3/c1SVw5QoAAMAkwhUAAIBBhCsAAACDCFcAAAAGEa4AAAAMIlwBAAAYRLgCAAAwiHAFAABgEOEKAADAIMIVAACAQYQrAAAAgwhXAAAABhGuAAAADCJcAQAAGFTvwtWKFSsUHR1tdJ85OTnKyckps+/06dM6dOiQ0eMBAIC6y+bKg589e1Zdu3Ytt//MmTPKy8uTj4+Poy04OFgFBQXy8PBwtGVnZ+vYsWMKDg6+4fH27dun119/Xbt371ZxcbE8PDzk7++vp556SlFRUXJzcytzXEJCgiRp9uzZTnWkpKQ4XomJiTc/YQAAUO+5NFy1bNlS2dnZ5fb7+fmpUaNGpdrT0tKcgtTNQpUkpaen66GHHlJCQoJWrlwpm+37Uz98+LCio6OVlZWlmTNnOrZfv369Jk6c6LSPFStWSJKWLFly0+MBAIBbU62+Lejm5iZ3dzMl7ty5U6GhoQoPD3cEK0kKDQ3V2LFjtW3bNqftw8LClJWVpY0bNyo6OlpRUVFat26dsrKyNGzYMCM1AQCA+qfWhquioqJyb9NVxYABA3Ty5EnFxcXp1KlTKiws1MWLF5WcnKzY2FhFRESUGrNmzRpNnTpVgwYN0pAhQzRr1iyn2399+vTRpEmTjNUIAADqPpfcFszMzNT//M//lGrPy8uTl5eXGjRoIEmy2Wxq3bq1JOmbb75xWmdVWQEBAdq9e7eWLl2qyMhInTlzRo0bN1ZoaKiWLVumAQMGlBqzdOlSLV68WN26dXO8j4yMdCyYT0tLc6y5AgAAkFwUrgIDA8tcazV8+HCNHDlSw4cPv+H4N954Q35+fo73Fy9erNBx27Rpo7lz51a4zoCAACUnJzvCVVJSklq2bFnh8dcVFBSooKDA8d5ut1d6HwAAoG5w6YL2qpg3b57y8vKc2uLi4tSiRYsyt1+7dq3Gjx9f4f337t1bmzZtkiTNnz9fgwcP1vLly+Xu7i7Lshx9lTF//nzNmTOn0uMAAEDd42ZZluWqg2/evNnpmVQXL15Uo0aN5OXl5Wgr6wrXhQsXdPnyZbVr165U34oVK/T5558bezRCUVGR9u7dq/fff19Hjx7Vd999J7vdriNHjmjEiBEKDw9X165dFRISUu4+yrpyFRgYqLsnvCMPr9LfhgQAAFXz79cfr7Z92+12+fn5KTc3V76+vuVu59IrVwMHDiz3UQxFRUXy9PQss2/jxo3lBqif/vSnatKkSan21NRUpaamasqUKZWq0Waz6eWXX5aPj49mzZqlzp07y9vbW+fPn9eOHTs0adIkxcXF3TBceXl5OQVGAABQf9W524I307NnT/Xs2bNUe2Zmpnbs2FHp/V26dEnJycnKyclxuvXYqlUrDRs2TBkZGdqwYYPCw8N/VN0AAKB+qLWPYqgtfHx81KNHDy1YsEDnz5936jt48KDeffdd9e/f3zXFAQCAWqfWXrlyc3Nz+tmb/7Z27dpyF5c3bNhQWVlZpdo3b97seLRDWU6cOCFvb+9S7Vu2bFFsbKz69eun/Px8ubu7q6SkREFBQXr++ecVFRVVgTMCAAC3ApcuaL9VXV8Qx4J2AADMqg0L2rktCAAAYBDhCgAAwCDCFQAAgEGEKwAAAIMIVwAAAAYRrgAAAAwiXAEAABhEuAIAADCIcAUAAGAQ4QoAAMAgwhUAAIBBhCsAAACDCFcAAAAGEa4AAAAMsrm6gFvZZ69FyNfX19VlAAAAg7hyBQAAYBDhCgAAwCDCFQAAgEGEKwAAAIMIVwAAAAYRrgAAAAwiXAEAABhEuAIAADCIcAUAAGAQT2h3ocy43mrS0MPVZQAA4HJBs/a7ugRjuHIFAABgEOEKAADAIMIVAACAQYQrAAAAgwhXAAAABhGuAAAADCJcAQAAGES4AgAAMIhwBQAAYBDhCgAAwCDCFQAAgEGEKwAAAIMIVwAAAAYRrgAAAAyqd+Hq2LFjCg4OrtSYlJQU9e3bt3oKAgAAtxSXhqsLFy6offv25b4aNmzotH16ero8PDzUunVrx2vUqFGSpOjoaCUmJpZ5nHnz5jmNad26tRo3bqxp06bdtMZFixbJx8en1Pjrr9///vc/eh4AAED9YXN1AZUVGBio9PT0So2ZMWOGZsyY4dQ2ZswYBQYGVmj8E088oYSEhEodEwAA3JpcGq6Ki4t19epV5eTk1PixP/nkEz333HM1flwAAFC/1bkrVz904cIFHT9+XJJ07ty5MrcpKipSZGSkzpw5o4sXLyovL0+XL1+Wr6+vunfvXpPlAgCAW4BLw5W7u7tsNptat24tScrLy5OHh4e8vb0d26xZs0YDBgwoc/zBgwf12muvSZL279+v3/72t6W2sdlsGjdunBo1aqS2bduqefPm6tWrl6ZOnVpqXwMHDpQkvffee/L39zdyjpJUUFCggoICx3u73W5s3wAAoHZxabhq3ry5srOzHe9jYmLUvn17TZ48uULj+/btq82bN0v6fkF7ee6//37Hfz/77LPq0KGDIiIinLYJDg5WXFycJMnPz8+pb+XKldqwYUOZ++7WrZujhvLMnz9fc+bMueE2AACgfnBJuMrKylLv3r3L7V+0aFGptoyMjB91zMLCQsXExGjPnj3aunWr3NzcnPp9fHzUrVu3UuNiYmIUExPzo449ffp0TZo0yfHebrdXeDE9AACoW1wSrtq3b6+srKxS7UlJSfLz87vhM6csy1J+fr5KSkp07do15eXlqV27djc83p49ezR+/Hi1aNFCW7duLXVlqrp5eXnJy8urRo8JAABco1YtaI+Pj1fHjh3LDVc2m03u7u766U9/KpvNJi8vLzVp0kSrV68ud58lJSWKi4tTRESEJkyYIHf3evfcVAAAUIvUmnAVGxurK1euKC0tTatXr9bvfve7Utu0b99eJ0+erNR+3d3dy10vdSPx8fGKj4+v8PbDhw/nWVgAAMC14So/P1/btm3TvHnz1KpVK/3v//6v8vPzFRERoVWrVmny5Mnq27evGjVqVOO1TZ48ucIL6wEAAK5z2T2yK1euqHfv3vrTn/6k1157TR988IGaN2+uoKAgbd++XWPGjFF8fLweeughlZSUuKpMAACASnGzLMtydREmlZSUKDc3V82aNavwmMLCQl2+fLnGFrrb7Xb5+fnpwPQ71aShR40cEwCA2ixo1n5Xl3BT1/9+5+bmytfXt9zt6t3qbnd390oFK0ny9PSs8W8QAgCA+qnehSsAAABXIlwBAAAYRLgCAAAwiHAFAABgEOEKAADAIMIVAACAQYQrAAAAgwhXAAAABhGuAAAADCJcAQAAGES4AgAAMIhwBQAAYJDN1QXcygKn/euGv6oNAADqHq5cAQAAGES4AgAAMIhwBQAAYBDhCgAAwCDCFQAAgEGEKwAAAIMIVwAAAAYRrgAAAAwiXAEAABhEuAIAADCIn79xoV+88wvZGvERAKi9UiekuroEoM7hyhUAAIBBhCsAAACDCFcAAAAGEa4AAAAMIlwBAAAYRLgCAAAwiHAFAABgEOEKAADAIMIVAACAQYQrAAAAgwhXAAAABhGuAAAADCJcAQAAGFRnw5XdbldhYaGrywAAAHBSZ8PVqFGjtGXLllLtiYmJioyMNHqsnJwc5eTklNl3+vRpHTp0yOjxAABA3WVz5cGLiork6ekpy7Juum1xcbHeeustx/sTJ07ob3/7mw4fPixJ6tKliwYOHHjDfezbt0+vv/66du/ereLiYnl4eMjf319PPfWUoqKi5ObmVua4hIQESdLs2bMdbcHBwUpJSXG8EhMTb3oOAACg/nNpuKosm+3/yn366aed+tzdb3wRLj09XQ899JASEhK0cuVKx74OHz6s6OhoZWVlaebMmY7t169fr4kTJzrtY8WKFZKkJUuW/KjzAAAA9VetuC3YunXrcl+7du2SJHl4eCgmJkZdunTRX/7yF/3hD3/QH/7wB+3fv1+PP/649u3bp9tvv11Tp04t8xg7d+5UaGiowsPDnUJaaGioxo4dq23btjltHxYWpqysLG3cuFHR0dGKiorSunXrlJWVpWHDhlXfZAAAgDrNpeHKZrPJsixlZ2crOztbI0eO1OTJkx3vs7Oz1bNnT8f2J06cUHR0tP74xz/q6NGjOnTokNq0aaMxY8Zo8uTJOnbsmBYsWFDmsQYMGKCTJ08qLi5Op06dUmFhoS5evKjk5GTFxsYqIiKi1Jg1a9Zo6tSpGjRokIYMGaJZs2Y53f7r06ePJk2aZHxeAABA3VWnbgvu3btX99xzj7p27Srp+3D29NNPq0+fPkpLS9O///1v7dy5s8yxAQEB2r17t5YuXarIyEidOXNGjRs3VmhoqJYtW6YBAwaUGrN06VItXrxY3bp1c7yPjIxUdHS0JCktLc2x5upGCgoKVFBQ4Hhvt9srf/IAAKBOcEm4yszM1P/8z/+Uas/Ly5OHh4fi4+NL9X3zzTfq06ePJkyYoL///e/65S9/qdzcXL3yyisaMmSILly4oPT0dOXk5KhFixZlHrdNmzaaO3duhesMCAhQcnKyI1wlJSWpZcuWFR5/3fz58zVnzpxKjwMAAHWPS8JVYGCgsrOzKz2udevWSk5OVlxcnF555RU1adJEDz/8sF588UV5eXnp4YcfVnJysvbs2eMYs3btWo0fP77Cx+jdu7c2bdok6ftQNHjwYC1fvlzu7u6yLMvRVxnTp093un1ot9sVGBhY6f0AAIDaz82qyHMQqtGZM2e0YsUKffzxx8rOzpaHh4fatGmjhx9+WKNHj1aTJk1KjVm3bp1KSko0cuTIUn3bt2/Xl19+qeeff95IfUVFRdq7d6/ef/99HT16VN99953sdruOHDmiESNGKDw8XF27dlVISEiF92m32+Xn56eeC3rK1qhO3ZkFcItJnZDq6hKAWuP63+/c3Fz5+vqWu51LF7Tn5ubq3nvv1aVLl7R06VLt2bNHaWlpeuONN3TkyBH17dtXRUVFpcYdOnRIBw4cKHOfGRkZjm8Y/lBqaqoWLlxY6RptNptefvllnTp1SrNmzdJHH32k/fv3Oxbgv/jii/riiy8qvV8AAFA/ufSySVpamnx9fTVv3jyn9i5duugPf/iDmjZtqiNHjuiuu+4qNXbRokWO50790NWrVzVkyJBS7ZmZmdqxY0ela7x06ZKSk5NLreVq1aqVhg0bpoyMDG3YsEHh4eGV3jcAAKh/XHrlqnv37srOztaf//xnp2/T5efnKz4+Xr6+vurUqVOZY2NiYpwe2XD9df1p6qb4+PioR48eWrBggc6fP+/Ud/DgQb377rvq37+/0WMCAIC6y6VXrlq1aqXPPvtMb731luLi4lRcXCw3NzfZbDb94he/UGpqqho2bFjm2MpeuZKkzZs3q3Xr1uXWc+LECXl7e5dq37Jli2JjY9WvXz/l5+fL3d1dJSUlCgoK0vPPP6+oqKgKnjEAAKjvXL6g/VbEgnYAdQUL2oH/UycWtAMAANQ3hCsAAACDCFcAAAAGEa4AAAAMIlwBAAAYRLgCAAAwiHAFAABgEOEKAADAIMIVAACAQYQrAAAAgwhXAAAABhGuAAAADCJcAQAAGGRzdQG3so/GfnTDX9UGAAB1D1euAAAADCJcAQAAGES4AgAAMIhwBQAAYBDhCgAAwCDCFQAAgEGEKwAAAIMIVwAAAAYRrgAAAAwiXAEAABjEz9+40OcDB8nHxkeA2ueBzz51dQkAUGdx5QoAAMAgwhUAAIBBhCsAAACDCFcAAAAGEa4AAAAMIlwBAAAYRLgCAAAwiHAFAABgkNFwVVRUZHJ3AAAAdU6VwtUbb7xRqq2oqEgjRoz40QUBAADUZVUKV8uXL1d8fLzjfXFxsUaMGKELFy4YKwwAAKAuqtIP23366af61a9+peLiYk2ePFlhYWG6fPmykpOTTdcHAABQp1TpylWrVq2UkpKiv//97+rWrZsk6Z///KcaNmxosjYAAIA6p8JXrhYuXFiq7ec//7mWL1+uiIgIvfXWW5KkKVOmmKsOAACgjqlwuPrqq6/KbB80aJC+/vprSZKbm5uZqv6/2bNnq6ioSK+99lqZ/VOnTtVjjz2mLl26ONpKSkr0y1/+Ulu3bjVaS05OjiTJ39+/VN/p06d14cIF/eQnPzF6TAAAUPdUOFytXLmy2ooYOXKkhg8fruHDh1dq3KeffqpBgwY5tZWUlOjjjz8ud8y+ffv0+uuva/fu3SouLpaHh4f8/f311FNPKSoqqtyAmJCQIOn7wHddcHCwUlJSHK/ExMRK1Q8AAOqfKi1ol6RLly7pyJEjys/Pd2rv169fpfdVXFys4uLim253/PhxPfDAA05tkZGRjv8eMWJEmbcvr0tPT9dDDz2khIQErVy5Ujbb96d/+PBhRUdHKysrSzNnznRsv379ek2cONFpHytWrJAkLVmy5OYnBgAAbjlVCld//etf9cQTT6hRo0Zq1qyZo93NzU2HDh2q9P6OHTtW7m3HH+rUqZOysrIkSWlpaTp8+LD8/Pz0wAMPqEWLFpJu/CDTnTt3KjQ0VOHh4U7toaGhGjt2rFatWuUUrsLCwhQWFqadO3fqn//8pyzL0uDBg/Wzn/1MkkoFLwAAgCp9W/Cll17Se++9p+zsbH311VeOV1WC1YEDB5Sdna3ExERdunTppttfu3ZNAwcO1Lx583T27Fnt2rVLvXr1qtBjIAYMGKCTJ08qLi5Op06dUmFhoS5evKjk5GTFxsYqIiKi1Jg1a9Zo6tSpGjRokIYMGaJZs2Y53f7r06ePJk2aVKlzBgAA9VeVrlwVFxfrkUce+dEHv3btmsaPH69FixZp3759euaZZ7Rq1Sq5u5ef+TZs2KAGDRrogw8+cLRFRERoxIgRTuuv+vfvrwYNGujDDz90tAUEBGj37t1aunSpIiMjdebMGTVu3FihoaFatmyZBgwYUOp4S5cu1eLFix2PnLg+Njo6WtL3V9Cur7kqT0FBgQoKChzv7Xb7zaYGAADUUVUKV/369dN//vMfR+Coivz8fEVHR6t79+4KDw9XWFiYRo8erbCwMC1dulQBAQFljrMsSx4eHk5tZYWxhISEMtvbtGmjuXPnVrjOgIAAJScnO841KSlJLVu2rPB4SZo/f77mzJlTqTEAAKBuqlK4Cg4O1pAhQ/Tb3/5W7dq1c+qr6HOuoqKiFBISovnz50v6PiCtXLlS8fHxyszMLDdchYWFKTExUY8++qjuv/9+nT9/XuvXr9fbb7/ttN0PH8+wdu1ajR8/vsLn17t3b23atEnS98Fo8ODBWr58udzd3WVZlqOvoqZPn+5069ButyswMLBS+wAAAHWDm2VZVmUHPfHEE2XvzM1Nf/rTnyq0D8uy5ObmdsPnR93oOVfbt293LGh/8MEHHeOLiork6empKpxWuYqKirR37169//77Onr0qL777jvZ7XYdOXJEI0aMUHh4uLp27aqQkJAK7c9ut8vPz09JfX4mH1uVv7AJVJsHPvvU1SUAQK1z/e93bm6ufH19y92uSn/ZTTzz6vrzpBISEsoNUKNGjSo3JK1evVpvv/22vLy8KnzM1NRUpaamVvop8jabTS+//LJ8fHw0a9Ysde7cWd7e3jp//rx27NihSZMmKS4ursLhCgAA1F9VvmySl5en48eP69q1a07tPXv2/NFFXde5c+dy+9577z3Fx8eXClc2m63cQJaZmakdO3ZUuo5Lly4pOTlZOTk5jkc+SN//xuKwYcOUkZGhDRs2lHrEAwAAuPVUKVytXr1aTz/9tDw9PWWz2VRUVKSrV6+qbdu2OnHihOkaXc7Hx0c9evTQggULNG3aNDVv3tzRd/DgQb377rsaPXq0CysEAAC1RZXC1ezZs/XZZ5/p9OnT+vzzzxUXF6d58+Y5PVC0MhYvXlzuT8d07NhR27dvL7OvU6dO5f5czcKFC/X444+Xat+8ebNat25dbi0nTpyQt7d3qfYtW7YoNjZW/fr1U35+vtzd3VVSUqKgoCA9//zzioqKKnefAADg1lGlBe3BwcFKT0/XV199pblz52rNmjWyLEt33nmnDh8+XB111issaEdtx4J2ACitogvaq/SE9qZNm+rMmTMKCQnRvn37ZFmW8vLylJubW+WCAQAA6oMqhatp06bpk08+kc1m08CBA/WTn/xE3bt319ChQ03XBwAAUKdU6Z7UyJEjtX//fs2ZM0eFhYUaM2aMWrVqpVGjRpmuDwAAoE6p0pWrdevW6f7771d2draaNWumtLQ0TZw4Ufv27TNdHwAAQJ1S5W8Lbt26Vffee6+jLSkpSRMmTNBnn31mrDgAAIC6pkpXri5duuQUrCRp8ODBysjIMFIUAABAXVWlcHXnnXeWClI5OTlVfs4VAABAfVHh24K7du1y/PeTTz6pkSNHKiYmRh07dtS5c+c0f/58Pfnkk9VSJAAAQF1R4YeIduzY8eY7c3Orlz9/YxoPEUVtx0NEAaC0ij5EtMJ/2U+ePGmkMAAAgPqsSmuuAAAAUDbCFQAAgEGEKwAAAINYTe1CfTcn33BBHAAAqHu4cgUAAGAQ4QoAAMAgwhUAAIBBhCsAAACDCFcAAAAGEa4AAAAMIlwBAAAYRLgCAAAwiHAFAABgEOEKAADAIH7+xoWW/T5Zjby8XV0GblHj33jE1SUAQL3ElSsAAACDCFcAAAAGEa4AAAAMIlwBAAAYRLgCAAAwiHAFAABgEOEKAADAIMIVAACAQYQrAAAAgwhXAAAABhGuAAAADCJcAQAAGES4AgAAMIhwBQAAYFC9C1czZ87U7Nmzje4zJydHOTk5ZfadPn1ahw4dMno8AABQd7k8XGVkZOiFF17QXXfdpc6dO6tz587q0qWLpk2bpu+++85p288//1zt27d3erVs2VL9+/ev0LH27dunxx57TKGhoQoJCVFoaKj69u2rxMREWZZV7riEhAQlJCQ4tQUHBys9PV1btmzRwoULK33eAACgfnJpuMrNzVWfPn10++23a9euXTp69KiOHj2q7du3y9PTU/fdd5+uXbvm2L5v377Kyspyeq1Zs6ZCx0pPT9dDDz2kIUOG6MCBA/r66691+PBhrVixQu+8847mzZvntP369esdAW7FihVasWKF4/3f/vY3o/MAAADqD5eGqy+//FI+Pj6aMGGCfHx8HO3NmjXT3Llz9e233+rrr782cqydO3cqNDRU4eHhstlsjvbQ0FCNHTtW27Ztc9o+LCxMWVlZ2rhxo6KjoxUVFaV169YpKytLw4YNM1ITAACof1waru655x5duXJF8fHxys3NdbSfOXNGU6ZMUVBQkDp37uxoLy4uVn5+vtPr6tWrFTrWgAEDdPLkScXFxenUqVMqLCzUxYsXlZycrNjYWEVERJQas2bNGk2dOlWDBg3SkCFDNGvWLCUmJjr6+/Tpo0mTJlV9AgAAQL1ju/km1cfX11c7d+7U4sWLNWDAAEdQ8vHx0eDBg5WamipPT0/H9p988omGDh2qoKAgp/307NnzpscKCAjQ7t27tXTpUkVGRurMmTNq3LixQkNDtWzZMg0YMKDUmKVLl2rx4sXq1q2b431kZKSio6MlSWlpaUpJSVFKSsoNj11QUKCCggLHe7vdftN6AQBA3eTScCVJ7dq104IFC7RgwYIKbd+zZ8+bhpnytGnTRnPnzq3w9gEBAUpOTnaEq6SkJLVs2bLSx50/f77mzJlT6XEAAKDucUm4ysrKUu/evSs1JiMjo0rHWrt2rcaPH1/h7Xv37q1NmzZJ+j4UDR48WMuXL5e7u7ssy3L0Vcb06dOdbh/a7XYFBgZWej8AAKD2c0m4at++vbKyskq1x8TEqH379po8ebKxY40cOVIjR46s0tiQkBAdOnRIe/fu1fvvv6+jR48qKipKdrtdGRkZmjp1qsLDwzVjxowb7sfLy0teXl5VqgEAANQtLr8tWFn79+/X4MGDVVJSoqKiIl29elV2u13nzp274cM8U1NTlZqaqilTplTqeDabTS+//LJ8fHw0a9Ysde7cWd7e3jp//rx27NihSZMmKS4uTiEhIT/21AAAQD1Qp8JVz549lZSUJHd3d9lsNjVo0ECNGjWSr6+vWrRoIXf38r/8mJmZqR07dlT6mJcuXVJycrJycnLUokULR3urVq00bNgwZWRkaMOGDQoPD6/SOQEAgPqlToUrX1/fSq/V+rF8fHzUo0cPLViwQNOmTVPz5s0dfQcPHtS7776r0aNH12hNAACg9qpV4apx48by9vautv1v3rxZrVu3Lrf/xIkTZR5/y5Ytio2NVb9+/ZSfny93d3eVlJQoKChIzz//vKKioqqtZgAAULe4WTf6Ub066PLly5JUrSHtx7Lb7fLz89PCcWvVyKv21on6bfwbj7i6BACoU67//c7NzZWvr2+529WqK1cm1OZQBQAA6j+X/vwNAABAfUO4AgAAMIhwBQAAYBDhCgAAwCDCFQAAgEGEKwAAAIMIVwAAAAYRrgAAAAwiXAEAABhEuAIAADCIcAUAAGAQ4QoAAMCgevfDzXXJM7GDbvir2gAAoO7hyhUAAIBBhCsAAACDCFcAAAAGEa4AAAAMIlwBAAAYRLgCAAAwiHAFAABgEOEKAADAIMIVAACAQTyh3YVeH/OYGnp6urqMW8aM9za4ugQAwC2AK1cAAAAGEa4AAAAMIlwBAAAYRLgCAAAwiHAFAABgEOEKAADAIMIVAACAQYQrAAAAgwhXAAAABhGuAAAADCJcAQAAGES4AgAAMIhwBQAAYBDhCgAAwCDCFQAAgEG1OlwlJiYqMjLSqa2wsFBxcXG6//771atXL82YMUN5eXmO/hUrVig6OtpoHTk5OcrJySmz7/Tp0zp06JDR4wEAgLrLZeEqMzNTrVu3dnoFBASocePGNxw3evRoHT58WO+//77+8Y9/6MqVKxo8eLBKSkpuesx9+/bpscceU2hoqEJCQhQaGqq+ffsqMTFRlmWVOy4hIUEJCQlObcHBwUpPT9eWLVu0cOHCip00AACo92yuOnBgYKCys7Od2r744otSV6p+6JtvvtHHH3+sU6dOyWb7vvQ333xTXbt21Zo1a3TXXXcpMzOzzLHp6el66KGHlJCQoJUrVzrGHz58WNHR0crKytLMmTMd269fv14TJ0502seKFSskSUuWLKn8CQMAgFtCrbot+Omnn+pnP/tZuf1nzpxR27ZtHcHouqCgIL3xxhuaNm2aNm7cWObYnTt3KjQ0VOHh4U7jQ0NDNXbsWG3bts1p+7CwMGVlZWnjxo2Kjo5WVFSU1q1bp6ysLA0bNuxHnCUAAKjPak24siyrzDVWP3TnnXfq9OnTOnbsmKPtzJkz2r17tzZt2qTNmzcrJiamzLEDBgzQyZMnFRcXp1OnTqmwsFAXL15UcnKyYmNjFRERUWrMmjVrNHXqVA0aNEhDhgzRrFmzlJiY6Ojv06ePJk2aVOVzBgAA9Y/Lbgv+t8TERPn5+al///7lbtOwYUP98Y9/1KBBg/TrX/9anp6e2rhxoxYsWKC2bdvecP8BAQHavXu3li5dqsjISJ05c0aNGzdWaGioli1bpgEDBpQas3TpUi1evFjdunVzvI+MjHQsmE9LS1NKSopSUlJueOyCggIVFBQ43tvt9htuDwAA6q5aEa727dun3//+96VuzZVl8ODB6tWrlz7//HNdu3ZNEyZMcApWXbp0kbe3d5lj27Rpo7lz51a4roCAACUnJzvCVVJSklq2bFnh8dfNnz9fc+bMqfQ4AABQ97g8XO3evVvDhg3TO++8ozvvvLNCYw4dOqTmzZurX79+pfq8vb3VpEkTx/u1a9dq/PjxFa6nd+/e2rRpk6TvQ9HgwYO1fPlyubu7y7IsR19lTJ8+3en2od1uV2BgYKX3AwAAaj+XhavLly/rrbfe0pIlS7Ry5UoNGjSowmOvX+EqK1x98cUXSklJ0SOPPCJJGjlypEaOHFmlGkNCQnTo0CHt3btX77//vo4ePaqoqCjZ7XZlZGRo6tSpCg8P14wZM264Hy8vL3l5eVWpBgAAULe4LFxt3bpVqamp+te//qXg4OBKj3/zzTcdj0b4ocuXL2vo0KGl2lNTU5WamqopU6ZU6jg2m00vv/yyfHx8NGvWLHXu3Fne3t46f/68duzYoUmTJikuLk4hISGVPgcAAFD/uCxcDR06tMwQVFGTJk3S7NmzS7UnJiaWucA8MzNTO3bsqPRxLl26pOTkZOXk5KhFixaO9latWmnYsGHKyMjQhg0bFB4eXul9AwCA+qfWPIqhtvLx8VGPHj20YMECnT9/3qnv4MGDevfdd2/4DUcAAHBrcfmC9qqKj4/XO++8U6r9ypUr5T7kc/PmzWrdunW5+zxx4kSZ3zTcsmWLYmNj1a9fP+Xn58vd3V0lJSUKCgrS888/r6ioqKqfCAAAqFfcrBv9qJ6LFRQUqLCw8Ka/N1jX2O12+fn5aeaIoWro6enqcm4ZM97b4OoSAAB12PW/37m5ufL19S13u1p95Ypv2QEAgLqGNVcAAAAGEa4AAAAMIlwBAAAYRLgCAAAwiHAFAABgEOEKAADAIMIVAACAQYQrAAAAgwhXAAAABhGuAAAADCJcAQAAGES4AgAAMMjNsizL1UXcair6q9oAAKD2qOjfb65cAQAAGES4AgAAMIhwBQAAYBDhCgAAwCDCFQAAgEGEKwAAAIMIVwAAAAYRrgAAAAwiXAEAABhkc3UBt7Ijr3+qxg19XF1GrXXnjAddXQIAAJXGlSsAAACDCFcAAAAGEa4AAAAMIlwBAAAYRLgCAAAwiHAFAABgEOEKAADAIMIVAACAQYQrAAAAgwhXAAAABhGuAAAADCJcAQAAGES4AgAAMIhwBQAAYFCtDlezZ8/WzJkzy+2fOnWqDhw44NRWUlKin//855U+VkpKivr27VvpcQAAAD9UK8LVyJEjtWHDhkqP+/TTT5WTk+PUVlJSoo8//rjUtvPmzVPr1q2dXo0bN9a0adNuepxFixbJx8en1Pjrr9///veVrh0AANRPNlcXIEnFxcUqLi6+6XbHjx/XAw884NQWGRnp+O8RI0Zo4cKFZY6dMWOGZsyY4dQ2ZswYBQYGVqjGJ554QgkJCRXaFgAA3LpqRbg6duyYvvrqq5tu16lTJ2VlZUmS0tLSdPjwYfn5+emBBx5QixYtJElFRUUVPu4nn3yi5557rmpFAwAAlMHltwUPHDig7OxsJSYm6tKlSzfd/tq1axo4cKDmzZuns2fPateuXerVq5eSk5PLHVNUVKSRI0fqwQcf1D333KOQkBC1a9dOnp6e6t69u8nTAQAAtziXXrm6du2axo8fr0WLFmnfvn165plntGrVKrm7l5/5NmzYoAYNGuiDDz5wtEVERGjEiBEaNGiQo61///5q0KCBPvzwQ9lsNo0bN06NGjVS27Zt1bx5c/Xq1UtTp0512vfBgwc1cOBASdJ7770nf39/I+dZUFCggoICx3u73W5kvwAAoPZxWbjKz89XdHS0unfvrvDwcIWFhWn06NEKCwvT0qVLFRAQUOY4y7Lk4eHh1FZWGEtISHBqv//++x3//eyzz6pDhw6KiIhwGhMcHKy4uDhJkp+fn1PfypUry110361bN23evLncc50/f77mzJlTbj8AAKg/XBauoqKiFBISovnz50v6PiCtXLlS8fHxyszMLDdchYWFKTExUY8++qjuv/9+nT9/XuvXr9fbb7/ttF2XLl1KjS0sLFRMTIz27NmjrVu3ys3Nzanfx8dH3bp1KzUuJiZGMTExVTtRSdOnT9ekSZMc7+12e4UX0gMAgLrFZeFqw4YNcnNzczxKwd/fX25ubnrppZduOK5Bgwb66KOPtH37dh0+fFjt2rXTCy+8cNNbeHv27NH48ePVokULbd26tdSVqerk5eUlLy+vGjseAABwHZeFq+tXjRISElRUVKTXXnut1DajRo2SZVlljl+9erXefvvtCoWWkpISxcXFKSIiQhMmTLjhmi4AAIAfo1Y8iqE8nTt3LrfvvffeU3x8fKlwZbPZSgUyd3f3Kj2kND4+XvHx8RXefvjw4TwLCwCAW1ytDleuNnnyZE2ePNnVZQAAgDqkVoSrxYsXKzExscy+jh07avv27WX2derUqdSi9OsWLlyoxx9/3FSJAAAAFeJmlbeo6RZTWFioy5cv18hCd7vdLj8/P+2a+YEaN/Sp9uPVVXfOeNDVJQAA4HD973dubq58fX3L3Y6V3f+fp6dnjX6DEAAA1E+EKwAAAIMIVwAAAAYRrgAAAAwiXAEAABhEuAIAADCIcAUAAGAQ4QoAAMAgwhUAAIBBhCsAAACDCFcAAAAGEa4AAAAMIlwBAAAYZHN1AbeyO1564Ia/qg0AAOoerlwBAAAYRLgCAAAwiHAFAABgEOEKAADAIBa0u4BlWZIku93u4koAAEBFXf+7ff3veHkIVy5w7tw5SVJgYKCLKwEAAJWVl5cnPz+/cvsJVy7QvHlzSdKpU6du+OHAPLvdrsDAQGVmZvIYDBdg/l2HuXcd5t61TM6/ZVnKy8tT27Ztb7gd4coF3N2/X+rm5+fH/2gu4uvry9y7EPPvOsy96zD3rmVq/ityUYQF7QAAAAYRrgAAAAwiXLmAl5eXXnnlFXl5ebm6lFsOc+9azL/rMPeuw9y7livm38262fcJAQAAUGFcuQIAADCIcAUAAGAQ4QoAAMAgwlUNu3Llip5++ml16NBB7du310svvaSSkhJXl1Vnbdu2Tffdd59uv/12derUSUuWLHH0ffnll+rdu7c6dOign/zkJ/rwww+dxi5atEi333672rVrp9/85jfKyclx9J07d05hYWEKCgpShw4dFB8fX2PnVNeMHTtWoaGhjvfMe83ZtWuX+vXrpw4dOqht27b661//KonPoLp98803euSRR9SuXTvddtttevXVVx19zL15lmVp1apV6t27t1N7dc711q1bdffddysoKEj33nuvvvjii0oXjRr07LPPWk8++aRVWFhoXbx40br33nutt99+29Vl1VlPPfWUdejQIcuyLOv48eNW27ZtreTkZMtut1vt2rWzPvroI8uyLCslJcXy8/OzTp8+bVmWZf3lL3+xunfvbp07d84qKiqyxo4daw0bNsyx30GDBlmzZ8+2SkpKrG+++cbq0KGD9cEHH9T8CdZyGRkZlre3t3XHHXdYlmUx7zXoq6++stq0aeOY64KCAuu7777jM6gBDz74oDV9+nSrpKTEOnfunHX33XdbK1euZO6rQXJystWlSxfrtttuc/w7Y1nV+2/NyZMnrVatWll79+61LMuyVq9ebbVt29a6cuVKhesmXNWgvLw8y9vb28rJyXG0bdy40erWrZsLq6pfJk6caL300kvWsmXLrN/85jdOfY888oi1aNEiy7Isq0+fPtbf//53R9/Zs2ctm81mnTt3zjpy5Ijl7+9vFRYWOvrfeOONUvuDZT366KPWuHHjHP/oMe8159FHH7ViY2NLtfMZVL9mzZpZ+/fvd7yfMWOGNW7cOOa+Gqxfv9764IMPrE8++cQpXFXnXE+fPt2KiYlx2nfXrl2d9ncz3BasQf/+97/VsWNHtWjRwtHWq1cvHThwQEVFRS6srP44e/as/Pz8lJaWpvvuu8+pr1evXvrPf/6joqIi7dmzx6nf399fwcHB2r9/v9LS0tSrVy/ZbLZSY/F/Nm3apPPnz2v48OGONua9ZhQUFGjTpk0aPXp0qT4+g+o3atQoJSQk6Nq1a8rIyNA//vEPDR8+nLmvBsOHD9cjjzxSqr065/pG+64owlUN+vbbb9WqVSuntoCAABUVFclut7uoqvpj165d2rRpk0aNGlXuXJ87d05nz55VcXGx/P39y+y/0Vh879tvv9W4ceP0zjvvlGpn3qvfkSNH1KhRI23btk0//elPddttt+mZZ56R3W7nM6gBr776qj7++GM1bdpUHTt21IABA9S/f3/mvgZV51yb+CwIVzWouLhY1n89s7W4uFiS5Obm5oqS6o3169fr17/+tVatWqWOHTuWO9dubm6OOb9Rf3l9kEpKSjRq1Ci99NJLuuOOO5z6mPeakZeXp6KiIu3cuVM7d+7U3r17dfbsWb3wwgt8BtWsuLhYv/zlL/Xss88qNzdX33zzjfbu3au3336bua9B1TnXJj4LwlUNat68udO3FaTvb2M1atSoQr+yjdKKi4s1btw4vfLKK/rwww8dl4/Lm+vWrVurWbNmsixLFy5cKLP/RmMhzZ07V02aNNG4ceNK9THvNcPf318FBQVauHChGjVqpCZNmmjOnDn64IMP+Ayq2bZt23Tt2jVNmjRJnp6eatOmjd566y0tXLiQua9B1TnXJj4LwlUNuueee3TkyBGnDzw1NVU9e/aUuzsfRVW88MILOn78uHbt2qWuXbs62nv06KEdO3Y4bZuamqo+ffrIx8dHd9xxh1P/6dOn9d133+nuu+9Wjx49tHPnTqdHZFwfC2nZsmX69NNP1axZMzVt2lRDhgzR119/raZNmzLvNaRDhw5q2LChLl++7Ghzc3NTw4YN+Qyq2bVr15zW6kiSu7u7rl27xtzXoOqc6xvtu8IqvPQdRgwdOtQaO3asVVhYaJ09e9bq2rWr9be//c3VZdVJly9ftjw8PKzs7OxSfZmZmVbTpk2tjz/+2LIsy0pKSrI6dOhg5efnW5ZlWW+++aZ17733WhcuXLAKCgqsqKgox7dDSkpKrLvvvtuKjY21iouLrePHj1tBQUHWnj17au7k6pAffouHea8548ePt5566imrsLDQunr1qvXoo49aU6ZM4TOoZhcvXrTatm1rrV692rKs7x8J8PDDD1vPPfccc1+N/vvbgtU517t377b8/f2tffv2WZZlWX/84x+t7t27W8XFxRWul3BVw86ePWsNHTrU8vf3tzp06GAtWbLE1SXVWQcPHrTc3NysDh06OL0efPBBy7Isa/PmzdYdd9xhtWzZ0urTp4/jfxTLsqzi4mLrxRdftFq2bGm1adPGGjt2rHX16lVH//Hjx60HHnjA8vf3t0JCQqx169bV+PnVFf/9jx7zXjPy8/Otxx57zAoICLA6depkTZkyxSooKLAsi8+guu3fv9/6xS9+YXXo0MHq2LGj9eKLL1qXL1+2LIu5ry7//e+MZVXvXK9atcoKCgqyAgICrF/96ldWRkZGpep1s6z/WrUFAACAKmOhDwAAgEGEKwAAAIMIVwAAAAYRrgAAAAwiXAEAABhEuAIAADCIcAUAAGAQ4QoAAMAgwhUAAIBBhCsAqCWee+45bdy40dVlAPiRCFcAUEscOnRIhYWFri4DwI9EuAKA/3Lp0iVNnjxZd9xxh9q3b6++fftKkpKTk9WrVy917NhRt99+u2bMmKGCggJJUkpKikJDQ532ExcXp+joaElSenq6GjZsqKSkJHXr1k0BAQF69NFHZbfbJUm33367/vWvf2nChAkKDg5WRkZGzZ0wAKMIVwDwXyIiInThwgV9+eWXysrK0rJly5SSkqIxY8Zo2bJlOnnypPbs2aM9e/Zo5syZFd5vYWGhkpKStHv3bmVkZOjMmTN68803JUnHjh1T7969tWTJEqWnp6tDhw7VdXoAqpnN1QUAQG1y4MAB7dy5U5mZmWrQoIEk6a677tLQoUM1Y8YMdevWTZLUtGlTvfnmm7rvvvv0+uuvV2jfJSUlevXVV+Xp6SlPT0/97ne/U1JSUnWdCgAX4coVAPzA4cOHdccddziC1XXHjx8vdduvU6dOys3NVV5eXoX27eXlpRYtWjjeN2vWTPn5+T++aAC1CuEKAH6gTZs2Sk9PV0lJiVN7YGCgvv76a6e2kydPyt/fX02aNJGvr2+poHT+/PlqrxdA7UO4AoAf6NWrl1q0aKHp06c7vrm3Z88ejRs3Tq+++qr27t0rSbp48aJefPFFTZw4UZLUuXNn5efna9euXZKks2fP6i9/+Uuljt2sWTMdP35clmWpuLjY4FkBqEmsuQKAH7DZbEpKStKLL76o2267TTabTb169dLatWt1+fJlRUVF6cKFC2rcuLGefPJJxcTESJIaN26sxMREjRkzRi1btlTz5s3161//2vFtwIqYOHGiHnvsMf35z3/Wtm3b1L59+2o6SwDVyc2yLMvVRQAAANQX3BYEAAAwiHAFAABgEOEKAADAIMIVAACAQYQrAAAAgwhXAAAABhGuAAAADCJcAQAAGES4AgAAMIhwBQAAYBDhCgAAwKD/B5wpQOGJWG6uAAAAAElFTkSuQmCC\n",
      "text/plain": [
       "<Figure size 640x480 with 1 Axes>"
      ]
     },
     "metadata": {},
     "output_type": "display_data"
    }
   ],
   "source": [
    "# sns.countplot(data=df_TOCC, y='bank', order=['국민은행', '롯데카드', 'BC카드'])\n",
    "sns.countplot(data=df_TOCC, y='bank', order=order_list)\n",
    "plt.show()"
   ]
  },
  {
   "cell_type": "markdown",
   "id": "2cab0237-1c94-4d6c-826c-6fa466643471",
   "metadata": {},
   "source": [
    "#### 연속형 : 범주형 아닌 것"
   ]
  },
  {
   "cell_type": "code",
   "execution_count": 28,
   "id": "7601a9ff-65e5-47e4-bdfe-d92d813e2136",
   "metadata": {
    "collapsed": true,
    "jupyter": {
     "outputs_hidden": true
    },
    "tags": []
   },
   "outputs": [
    {
     "data": {
      "text/html": [
       "<div>\n",
       "<style scoped>\n",
       "    .dataframe tbody tr th:only-of-type {\n",
       "        vertical-align: middle;\n",
       "    }\n",
       "\n",
       "    .dataframe tbody tr th {\n",
       "        vertical-align: top;\n",
       "    }\n",
       "\n",
       "    .dataframe thead th {\n",
       "        text-align: right;\n",
       "    }\n",
       "</style>\n",
       "<table border=\"1\" class=\"dataframe\">\n",
       "  <thead>\n",
       "    <tr style=\"text-align: right;\">\n",
       "      <th></th>\n",
       "      <th>id</th>\n",
       "      <th>Term</th>\n",
       "      <th>amount</th>\n",
       "      <th>overdue_count</th>\n",
       "      <th>credit rating</th>\n",
       "      <th>age</th>\n",
       "      <th>Mileage</th>\n",
       "    </tr>\n",
       "  </thead>\n",
       "  <tbody>\n",
       "    <tr>\n",
       "      <th>count</th>\n",
       "      <td>5.130400e+04</td>\n",
       "      <td>51304.000000</td>\n",
       "      <td>51304.000000</td>\n",
       "      <td>51304.000000</td>\n",
       "      <td>42521.000000</td>\n",
       "      <td>40509.000000</td>\n",
       "      <td>40509.000000</td>\n",
       "    </tr>\n",
       "    <tr>\n",
       "      <th>mean</th>\n",
       "      <td>6.266457e+07</td>\n",
       "      <td>55.638527</td>\n",
       "      <td>93994.980021</td>\n",
       "      <td>0.161040</td>\n",
       "      <td>3.428894</td>\n",
       "      <td>46.608285</td>\n",
       "      <td>1967.922412</td>\n",
       "    </tr>\n",
       "    <tr>\n",
       "      <th>std</th>\n",
       "      <td>1.216115e+07</td>\n",
       "      <td>12.010117</td>\n",
       "      <td>15305.147334</td>\n",
       "      <td>1.122356</td>\n",
       "      <td>2.213590</td>\n",
       "      <td>13.465977</td>\n",
       "      <td>436.707329</td>\n",
       "    </tr>\n",
       "    <tr>\n",
       "      <th>min</th>\n",
       "      <td>2.568798e+07</td>\n",
       "      <td>12.000000</td>\n",
       "      <td>54603.000000</td>\n",
       "      <td>-1.000000</td>\n",
       "      <td>0.000000</td>\n",
       "      <td>20.000000</td>\n",
       "      <td>872.000000</td>\n",
       "    </tr>\n",
       "    <tr>\n",
       "      <th>25%</th>\n",
       "      <td>6.643149e+07</td>\n",
       "      <td>60.000000</td>\n",
       "      <td>81900.000000</td>\n",
       "      <td>0.000000</td>\n",
       "      <td>1.000000</td>\n",
       "      <td>37.000000</td>\n",
       "      <td>1646.000000</td>\n",
       "    </tr>\n",
       "    <tr>\n",
       "      <th>50%</th>\n",
       "      <td>6.676578e+07</td>\n",
       "      <td>60.000000</td>\n",
       "      <td>96900.000000</td>\n",
       "      <td>0.000000</td>\n",
       "      <td>3.000000</td>\n",
       "      <td>46.000000</td>\n",
       "      <td>1946.000000</td>\n",
       "    </tr>\n",
       "    <tr>\n",
       "      <th>75%</th>\n",
       "      <td>6.678161e+07</td>\n",
       "      <td>60.000000</td>\n",
       "      <td>98400.000000</td>\n",
       "      <td>0.000000</td>\n",
       "      <td>5.000000</td>\n",
       "      <td>56.000000</td>\n",
       "      <td>2263.000000</td>\n",
       "    </tr>\n",
       "    <tr>\n",
       "      <th>max</th>\n",
       "      <td>6.696986e+07</td>\n",
       "      <td>60.000000</td>\n",
       "      <td>215700.000000</td>\n",
       "      <td>15.000000</td>\n",
       "      <td>10.000000</td>\n",
       "      <td>107.000000</td>\n",
       "      <td>3803.000000</td>\n",
       "    </tr>\n",
       "  </tbody>\n",
       "</table>\n",
       "</div>"
      ],
      "text/plain": [
       "                 id          Term         amount  overdue_count  \\\n",
       "count  5.130400e+04  51304.000000   51304.000000   51304.000000   \n",
       "mean   6.266457e+07     55.638527   93994.980021       0.161040   \n",
       "std    1.216115e+07     12.010117   15305.147334       1.122356   \n",
       "min    2.568798e+07     12.000000   54603.000000      -1.000000   \n",
       "25%    6.643149e+07     60.000000   81900.000000       0.000000   \n",
       "50%    6.676578e+07     60.000000   96900.000000       0.000000   \n",
       "75%    6.678161e+07     60.000000   98400.000000       0.000000   \n",
       "max    6.696986e+07     60.000000  215700.000000      15.000000   \n",
       "\n",
       "       credit rating           age       Mileage  \n",
       "count   42521.000000  40509.000000  40509.000000  \n",
       "mean        3.428894     46.608285   1967.922412  \n",
       "std         2.213590     13.465977    436.707329  \n",
       "min         0.000000     20.000000    872.000000  \n",
       "25%         1.000000     37.000000   1646.000000  \n",
       "50%         3.000000     46.000000   1946.000000  \n",
       "75%         5.000000     56.000000   2263.000000  \n",
       "max        10.000000    107.000000   3803.000000  "
      ]
     },
     "execution_count": 28,
     "metadata": {},
     "output_type": "execute_result"
    }
   ],
   "source": [
    "df_TOCC.describe()"
   ]
  },
  {
   "cell_type": "code",
   "execution_count": 36,
   "id": "5f121985-f767-44f1-8c97-03074ba49065",
   "metadata": {
    "collapsed": true,
    "jupyter": {
     "outputs_hidden": true
    },
    "tags": []
   },
   "outputs": [
    {
     "data": {
      "image/png": "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\n",
      "text/plain": [
       "<Figure size 640x480 with 1 Axes>"
      ]
     },
     "metadata": {},
     "output_type": "display_data"
    }
   ],
   "source": [
    "sns.histplot(data=df_TOCC, x='age', kde=True) \n",
    "plt.show()"
   ]
  },
  {
   "cell_type": "code",
   "execution_count": 40,
   "id": "b3344b63-4268-47d9-82ed-1801e382c7f2",
   "metadata": {},
   "outputs": [
    {
     "data": {
      "text/plain": [
       "<AxesSubplot:xlabel='age'>"
      ]
     },
     "execution_count": 40,
     "metadata": {},
     "output_type": "execute_result"
    },
    {
     "data": {
      "image/png": "iVBORw0KGgoAAAANSUhEUgAAAggAAAGuCAYAAAD1Uf4NAAAAOXRFWHRTb2Z0d2FyZQBNYXRwbG90bGliIHZlcnNpb24zLjUuMiwgaHR0cHM6Ly9tYXRwbG90bGliLm9yZy8qNh9FAAAACXBIWXMAAA9hAAAPYQGoP6dpAAAYBElEQVR4nO3de4zU5b348c8sCyx6uGgRyh28BGMQ6lEr1sYuqBgaFa2k/n6Ll9YaxVqlgtrQNFWwscakWqNJtYlp4xFb00ZSq8VYRUpS6i1tvdtSbcWKIlBxUdhFdp/zh2EPy2eBFYFZ2dcrIdn5zveZeWafYb7vnctupZRSAgBgKzXVngAA0PUIBAAgEQgAQCIQAIBEIAAAiUAAABKBAAAktbs6sLW1NVauXBl9+/aNSqWyO+cEAOwhpZRYv359DB06NGpqtv88wS4HwsqVK2PEiBG7OhwAqKI33ngjhg8fvt3zdzkQ+vbt23YF/fr129WLAQD2osbGxhgxYkTbcXx7djkQtrys0K9fP4EAAJ8yO3t7gDcpAgCJQAAAEoEAACQCAQBIBAIAkAgEACARCABAIhAAgEQgAACJQAAAEoEAACQCAQBIBAIAkAgEACARCABAIhAAgEQgAACJQAAAEoEAACQCAQBIBAIAkAgEACARCABAIhAAgEQgAACJQAAAEoEAACQCAQBIBAIAkAgEACARCABAIhAAgKS22hNg7yqlRFNTU7Wn8bGVUqK5uTkiInr37h2VSqXKM9p96urq9qnbA+wbBEI309TUFFOnTq32NNjKokWLok+fPtWeBkA7XmIAABLPIHRj73/u/0ep+ZTcBVo+jL7P/jIiItZP+H8RPXpWeUKfTKV1c/zXX39R7WkAbNen5OjAnlBqaj+dB9oePT+d895KqfYEAHbCSwwAQCIQAIBEIAAAiUAAABKBAAAkAgEASAQCAJAIBAAgEQgAQCIQAIBEIAAAiUAAABKBAAAkAgEASAQCAJAIBAAgEQgAQCIQAIBEIAAAiUAAABKBAAAkAgEASAQCAJAIBAAgEQgAQCIQAIBEIAAAiUAAABKBAAAkAgEASAQCAJAIBAAgEQgAQCIQAIBEIAAAiUAAABKBAAAkAgEASAQCAJAIBAAgEQgAQCIQAIBEIAAAiUAAABKBAAAkAgEASAQCAJAIBAAgEQgAQCIQAIBEIAAAiUAAABKBAAAkAgEASAQCAJAIBAAgEQgAQCIQAIBEIAAAiUAAABKBAAAkAgEASAQCAJAIBAAgEQgAQCIQAIBEIAAAiUAAABKBAAAktdWewNZKKdHU1BQREXV1dVGpVKo8I4CuyeMle1qXegahqakppk6dGlOnTm274wOQebxkT+tSgQAAdA0CAQBIBAIAkAgEACARCABAIhAAgEQgAACJQAAAEoEAACQCAQBIBAIAkAgEACARCABAIhAAgEQgAACJQAAAEoEAACQCAQBIBAIAkAgEACARCABAIhAAgEQgAACJQAAAEoEAACQCAQBIBAIAkAgEACARCABAIhAAgEQgAACJQAAAEoEAACQCAQBIBAIAkAgEACARCABAIhAAgEQgAACJQAAAEoEAACQCAQBIBAIAkAgEACARCABAIhAAgEQgAACJQAAAEoEAACQCAQBIBAIAkAgEACARCABAIhAAgEQgAACJQAAAEoEAACQCAQBIBAIAkAgEACARCABAIhAAgEQgAACJQAAAEoEAACQCAQBIBAIAkAgEACARCABAIhAA9iH19fVt/3a07ePsO2nSpKivr49Jkya1bZsyZUrU19fHlClTdno906dPj/r6+pg+fXrbtqlTp0Z9fX1MnTp1h/tdd911UV9fH9ddd90Oty1btizOOeecWLZsWbvrPv/886O+vj7OP//8jr5dOxy/vcvsyF133RWTJ0+Ou+66a5fGd2Y+e5tAANhHzJkzJ52+9tpr223bcvqWW25pt/2WW27pcNsDDzwQpZSIiCilxAMPPBBLly6NTZs2RUTEpk2bYunSpfGTn/yk3dgtp1944YVYs2ZNRESsWbMmXnjhhXjiiSdi48aNERGxcePGeOKJJzrcb9WqVbFkyZKIiFiyZEmsWrWqw21NTU1x8803x6pVq+Lmm2+OpqamiIhYvnx5rFixIiIiVqxYEcuXL+/w+9bR+O1dZkfWrVsXCxYsiNbW1liwYEGsW7fuY43vzHyqoVK2rPzH1NjYGP3794/33nsv+vXrt1sms3HjxraaXLRoUfTp02e3XC7/Z+vv8fr/Pi+iR88qz6iTWj6Mvn/+n4j4lM17e7a6Pe7r7IqOHi+3/cl9e5YsWdLpfT+JJUuWxKRJk2Lrw0ylUomODjvbbq9UKjFw4MBYvXp127ZBgwZFKSVtO/XUU+Oee+6JUkpUKpU477zz4sILL4yTTz45Nm/e3LZvbW1tPProo+m677rrrjS+lNLhZXbk8ssvj+eff77t9Pjx42PChAmdHt+Z+XR2bGd09vhdu9uucTfY+s5RrWLa17X7vu5aG7I7uK/zCW19vymlfKwD/t6Ig4iIyZMnpxjY3s+kHe23dQhERLzzzjtp3DvvvNN2MN0y7t577421a9e2i4OIiM2bN8cdd9wRM2fObNv273//O+6999524xcsWNBuTlsuc8qUKTF8+PB2l/nMM8+0i4OIiOeeey5eeOGFTo3fVkfz6ezY3a3TgdDc3BzNzc1tpxsbG3f7ZLa+/LPOOmu3Xz7baN0cEb2qPYvuqfX/Hrjc1/mk/vGPf1R7Ch1qbW3dK9ezbVy0trbGQw891OG+v/zlL+Mb3/hG9OzZM0opceutt6Z9WlpaOryOW2+9NW666aaoVCpt1zN//vwOr2fb297R+O1dR2eue2/o9HsQfvjDH0b//v3b/o0YMWJPzguATrriiiuqPYUuZWdhctttt0XER+9LePrppzsMgm21tLTE008/3faehoiIJ598stM/LHc0flvbm09nxu4JnX4GYe7cuTF79uy2042Njbs9Enr37t329cKFC6Ourm63Xj4fPS3Z9hNrTZd6hal72ep7777Ortj6//Kdd94Zl1xySZVn1HXU1NTsMBIuv/zyiIgYOXJkHHvssfHnP/95p5HQo0ePOProo2PkyJFt24477rjo169fpyKho/Hb2t58OjN2T+j0EaJ3797tDuB7wtZPndTV1Xnj1p62F5+qYhvu6+xGe/vA0Vk7O1DvLtu+wbGmpiamTp3a4csMDQ0N0bNnz7Zxs2bNigsuuKDdPj169IiI9i81bNl36+NUTU1NfP/734+rrroqXc+2t72j8R3djo7m05mxe4KPOQLsA7Z89G937/tJLF68OB3UtneQ62i/gw46qN22QYMGdbjt3HPPbRtfqVSioaEhrr766qitbf8zcG1tbVx88cXttg0fPjwaGhrajZ8xY0ba1tDQEMOGDUvzPuaYY+LII49st238+PExY8aMTo3fVkfz6ezY3U0gAOwjjj766HT6S1/6UrttW05Pmzat3fZp06Z1uG3rl5YjImbPnp3emDd//vw455xz2m3bcnrL6/1b3HbbbXHjjTe223bjjTd2uN/tt9/eqW0zZsyIz3zmMxERMXDgwGhoaIiI2O7vZthWR+O3d5kduf7666Om5qPDaU1NTcyfP/9jje/MfKpBIADsI370ox+l0/PmzWu3bcvpK6+8st32K6+8ssNtZ5xxRrufZs8444w48cQTo1evjz4B1atXrzjxxBPj0ksvbTd2y+lx48bFwIEDI+Kjg924ceNi4sSJbS+r9enTJyZOnNjhfoMHD277SGZ9fX0MHjy4w211dXUxe/bsGDx4cFx55ZVt7+k57LDD2l5+GTlyZBx22GEdft86Gr+9y+zIgAEDYsaMGVFTUxMzZsyIAQMGfKzxnZlPNfhFSd2MX5TURfhFSXxCHi/ZVZ09fnsGAQBIBAIAkAgEACARCABAIhAAgEQgAACJQAAAEoEAACQCAQBIBAIAkAgEACARCABAIhAAgEQgAACJQAAAEoEAACQCAQBIBAIAkAgEACARCABAIhAAgEQgAACJQAAAEoEAACQCAQBIBAIAkAgEACARCABAIhAAgEQgAACJQAAAEoEAACQCAQBIBAIAkAgEACARCABAIhAAgEQgAACJQAAAEoEAACQCAQBIBAIAkAgEACARCABAIhAAgEQgAACJQAAAEoEAACQCAQBIBAIAkAgEACARCABAIhAAgEQgAACJQAAAEoEAACQCAQBIBAIAkAgEACARCABAIhAAgEQgAACJQAAAEoEAACQCAQBIBAIAkAgEACARCABAUlvtCWytrq4uFi1a1PY1AB3zeMme1qUCoVKpRJ8+fao9DYAuz+Mle5qXGACARCAAAIlAAAASgQAAJAIBAEgEAgCQCAQAIBEIAEAiEACARCAAAIlAAAASgQAAJAIBAEgEAgCQCAQAIBEIAEAiEACARCAAAIlAAAASgQAAJAIBAEgEAgCQCAQAIBEIAEAiEACARCAAAIlAAAASgQAAJAIBAEgEAgCQCAQAIBEIAEAiEACARCAAAIlAAAASgQAAJAIBAEgEAgCQCAQAIBEIAEAiEACARCAAAIlAAAASgQAAJAIBAEgEAgCQCAQAIBEIAEAiEACARCAAAIlAAAASgQAAJAIBAEgEAgCQCAQAIBEIAEAiEACARCAAAIlAAAASgQAAJAIBAEgEAgCQCAQAIBEIAEAiEACARCAAAIlAAAASgQAAJAIBAEhqqz0BqqfSujlKtSfRWS0fdvz1p1SldXO1pwCwQwKhG/uvv/6i2lPYJX2f/WW1pwCwz/MSAwCQeAahm6mrq4tFixZVexofWyklmpubIyKid+/eUalUqjyj3aeurq7aUwBIBEI3U6lUok+fPtWexi7Zb7/9qj0FgG7DSwwAQCIQAIBEIAAAiUAAABKBAAAkAgEASAQCAJAIBAAgEQgAQCIQAIBEIAAAiUAAABKBAAAkAgEASAQCAJAIBAAgEQgAQCIQAIBEIAAAiUAAABKBAAAkAgEASAQCAJAIBAAgEQgAQCIQAIBEIAAAiUAAABKBAAAkAgEASAQCAJAIBAAgEQgAQFK7qwNLKRER0djYuNsmAwDsWVuO21uO49uzy4Gwfv36iIgYMWLErl4EAFAl69evj/79+2/3/ErZWUJsR2tra6xcuTL69u0blUpllye4rcbGxhgxYkS88cYb0a9fv912uewe1qdrsz5dl7Xp2rrT+pRSYv369TF06NCoqdn+Ow12+RmEmpqaGD58+K4O36l+/frt84v0aWZ9ujbr03VZm66tu6zPjp452MKbFAGARCAAAEmXC4TevXvHtddeG7179672VOiA9enarE/XZW26NuuT7fKbFAGAfVeXewYBAKg+gQAAJAIBAEiqHgiLFy+OE044IQ499NA45JBD4rbbbms77y9/+UtMnDgxRo0aFUcccUQ88sgjVZxp9zZz5sw4/PDD205bm67hqaeeihNPPDFGjRoVQ4cOjfvvvz8irE+1vfnmm3H66afHsGHD4uCDD47rr7++7TxrUx2llLj77rtj4sSJ7bbvbD1+/OMfx6GHHhrDhg2LM888M9asWbM3p11dpcouuuii8tJLL5VSSnn11VfL0KFDy6JFi0pjY2MZNmxY+f3vf19KKWXJkiWlf//+5a233qrmdLul119/vey3335l7NixpZRibbqIl19+uQwZMqRtHZqbm8uqVausTxcwefLkMnfu3NLa2lrWrl1bJkyYUH72s59ZmypZtGhRGTduXDn44IPbHsdK2flj2X333VeOOuqosnbt2rJ58+Yyc+bMctZZZ1XlNlRDl/sUw+zZs6O2tjYOPfTQWLRoUSxcuLDtvDPOOCNOOumkmDVrVhVn2P2cffbZMWTIkHj00UfjlVdeiZ/+9KfWpgs4++yz45hjjom5c+e22259qu/AAw+MpUuXxrhx4yIi4nvf+16sW7cuxo8fb22q4Ne//nX07t07+vbtGzNnzoxXXnklInb+f+ULX/hCfOc734lp06ZFRMSaNWtiyJAhsWrVqjjwwAOrclv2pqq/xLCt1atXR//+/eNPf/pTnHDCCe3OO+644+Kvf/1rdSbWTT344IPxn//8J6ZPn962zdpUX3Nzczz44INx4YUXpvOsT/U1NDTE7bffHps2bYrXX389fvOb38T06dOtTZVMnz49Tj/99LR9R+uxefPmeOaZZ9qdP3DgwBg9enQ8//zze3zOXUGXCoSnnnoqHnzwwWhoaIiVK1fG4MGD250/aNCgWLt2bZVm1/2sXLkyLrvssrjjjjvSdmtTXX/729+iT58+sXjx4hg/fnwcfPDBcckll0RjY6P16QKuv/76eOyxx2LAgAExZsyYmDRpUtTX11ubLmZH67F69epoaWmJgQMHdnh+d9BlAuFXv/pVTJs2Le6+++4YM2ZMtLS0pL9V3dLSslv/ciTb19raGg0NDXH11VfH2LFj251nbapv/fr1sXnz5njyySfjySefjGeffTZWr14ds2bNsj5V1tLSElOmTIlLL7003nvvvXjzzTfj2WefjVtvvdXadDE7Wo+WlpaIiG69Xrv81xx3l5aWlrjiiivi8ccfj0ceeSSOPPLIiPjoNbxt3y26evXq+OxnP1uNaXY78+fPj759+8Zll12WzrM21Tdw4MBobm6Om266KXr16hUREfPmzYv6+vo46aSTrE8VLV68ODZt2hSzZ8+OiIghQ4bELbfcEqeffnqccMIJ1qYL2dFj2QEHHBCllHj33Xfbvd+gO61X1Z9BmDVrVrz66qvx1FNPtcVBRMTRRx8dy5Yta7fvH//4xzj++OP39hS7pTvvvDP+8Ic/xAEHHBADBgyI0047LZYvXx4DBgywNl3AqFGjoq6uLjZs2NC2rVKpRF1dnfWpsk2bNkVtbfufvWpqamLTpk3WpovZ0Xrsv//+MXbs2Hbnv/XWW7Fq1aqYMGHC3p5qdVTt8xOllA0bNpQePXqUt99+O533xhtvlAEDBpTHHnuslFLKQw89VEaNGlXef//9vT1NSimPP/5428eDrE3X8K1vfatcdNFF5cMPPyxNTU3lK1/5SrnmmmusT5WtW7euDB06tCxYsKCU8tFH6b785S+Xb37zm9amyrZ+HCtl549lN998cznmmGPKu+++W5qbm8sFF1xQvv3tb1dl7tVQ1UB48cUXS6VSKaNGjWr3b/LkyaWUUh5++OEyduzYctBBB5Xjjz++PPfcc9Wcbre27X8sa1N977//fjnvvPPKoEGDyiGHHFKuueaa0tzcXEqxPtX2/PPPl1NOOaWMGjWqjBkzpsyZM6ds2LChlGJtqmnbx7FSdrweLS0tZc6cOeWggw4qQ4YMKTNnzixNTU17e9pV0+V+DwIAUH1Vfw8CAND1CAQAIBEIAEAiEACARCAAAIlAAAASgQAAJAIBAEgEAgCQCAQAIBEIAEAiEKCb+cUvfhETJkyIUaNGxSGHHBL33HNPRHz0Z4pnzZoVgwcPjpEjR8Yll1wSJ598cvz85z9vG3v//ffHhAkTYvTo0XHyySfHa6+9VqVbAexpAgG6oYcffjhef/31uO++++Liiy+O9957L+bNmxcvv/xy/P3vf48VK1bEF7/4xViyZEnbmMWLF8dVV10VCxcujH/961/R0NAQX/3qV8Pfe4N9k7/mCN3Qhx9+GMuXL49XX301ZsyYEUuWLInJkyfHsmXL4ogjjmjb77jjjotLL700vva1r8Vpp50WZ599dnz9619vO3/gwIHx9NNPx5gxY6pxM4A9qLbaEwD2rtmzZ8fDDz8cRx55ZIwePTpqa2vjgw8+iMbGxjj88MPb7XvAAQe0ff3aa6/Fd7/73Zg3b17btlJKvP322wIB9kECAbqRxYsXx0MPPRQvvvhi1NbWRikl7rjjjiilRE1NTaxcuTKGDx/etv8///nPtq+HDh0aN9xwQ5x55plVmDmwt3kPAnQjzc3NsWnTpvjggw+ilBI33HBDbNy4MXr16hVnnXVWzJkzJ5qamqKUEjfeeGOsXLmybewFF1wQP/jBD+LNN9+MiIgNGzbE7373u2rdFGAPEwjQjZx66qlxyimnxNixY2Ps2LHRv3//GDp0aERE3HnnnVFTUxOjR4+Oww8/PHr27Bmf//znY//994+IiHPPPTdmzJgR9fX1MXr06Dj22GNjxYoV1bw5wB7kTYpAh1pbW2PkyJHx29/+No466qhqTwfYyzyDAERExNKlS2PNmjUR8dHvRJg7d26MHDkyPve5z1V3YkBVCAQgIiJeeumlmDhxYowcOTKOOOKIWL16dSxcuDAqlUq1pwZUgZcYAIDEMwgAQCIQAIBEIAAAiUAAABKBAAAkAgEASAQCAJAIBAAg+V/uBTXp3Je/VwAAAABJRU5ErkJggg==\n",
      "text/plain": [
       "<Figure size 640x480 with 1 Axes>"
      ]
     },
     "metadata": {},
     "output_type": "display_data"
    }
   ],
   "source": [
    "sns.boxplot(data=df_TOCC, x='age')"
   ]
  },
  {
   "cell_type": "markdown",
   "id": "3f90bb55-ffd7-43a2-8a18-473fb10fe5ce",
   "metadata": {
    "tags": []
   },
   "source": [
    "#### IQR"
   ]
  },
  {
   "cell_type": "code",
   "execution_count": 41,
   "id": "6c77c3e3-70f9-4d9a-afdb-5cf695a71ca0",
   "metadata": {},
   "outputs": [
    {
     "name": "stdout",
     "output_type": "stream",
     "text": [
      "<class 'pandas.core.frame.DataFrame'>\n",
      "RangeIndex: 51304 entries, 0 to 51303\n",
      "Data columns (total 17 columns):\n",
      " #   Column             Non-Null Count  Dtype  \n",
      "---  ------             --------------  -----  \n",
      " 0   id                 51304 non-null  int64  \n",
      " 1   type_of_contract   51300 non-null  object \n",
      " 2   type_of_contract2  51303 non-null  object \n",
      " 3   channel            51304 non-null  object \n",
      " 4   datetime           51304 non-null  object \n",
      " 5   Term               51304 non-null  int64  \n",
      " 6   payment_type       51304 non-null  object \n",
      " 7   product            51303 non-null  object \n",
      " 8   amount             51304 non-null  int64  \n",
      " 9   state              51304 non-null  object \n",
      " 10  overdue_count      51304 non-null  int64  \n",
      " 11  overdue            51302 non-null  object \n",
      " 12  credit rating      42521 non-null  float64\n",
      " 13  bank               48544 non-null  object \n",
      " 14  cancellation       51279 non-null  object \n",
      " 15  age                40509 non-null  float64\n",
      " 16  Mileage            40509 non-null  float64\n",
      "dtypes: float64(3), int64(4), object(10)\n",
      "memory usage: 6.7+ MB\n"
     ]
    }
   ],
   "source": [
    "df_TOCC.info()"
   ]
  },
  {
<<<<<<< HEAD
   "cell_type": "markdown",
   "id": "b3ec7599-a389-419c-a7e8-9d8753d72b8f",
   "metadata": {},
   "source": [
    "### 다변수"
   ]
  },
  {
   "cell_type": "markdown",
   "id": "fa957e3a-8a5a-4ea2-b893-50194322d263",
   "metadata": {},
   "source": [
    "#### X(설명변수) / Y(목표변수) : 범주형 / 연속형"
   ]
  },
  {
   "cell_type": "code",
   "execution_count": 5,
   "id": "055a1388-d3f1-435d-a07d-5e1aaf5f99aa",
   "metadata": {},
   "outputs": [
    {
     "data": {
      "text/plain": [
       "Index(['id', 'type_of_contract', 'type_of_contract2', 'channel', 'datetime',\n",
       "       'Term', 'payment_type', 'product', 'amount', 'state', 'overdue_count',\n",
       "       'overdue', 'credit rating', 'bank', 'cancellation', 'age', 'Mileage'],\n",
       "      dtype='object')"
      ]
     },
     "execution_count": 5,
     "metadata": {},
     "output_type": "execute_result"
    }
   ],
   "source": [
    "df_TOCC.columns"
   ]
  },
  {
   "cell_type": "code",
   "execution_count": 9,
   "id": "18abae30-aab6-4635-bc38-041f979adf01",
   "metadata": {
    "collapsed": true,
    "jupyter": {
     "outputs_hidden": true
    },
    "tags": []
   },
   "outputs": [
    {
     "data": {
      "text/plain": [
       "count     51304.000000\n",
       "mean      93994.980021\n",
       "std       15305.147334\n",
       "min       54603.000000\n",
       "25%       81900.000000\n",
       "50%       96900.000000\n",
       "75%       98400.000000\n",
       "max      215700.000000\n",
       "Name: amount, dtype: float64"
      ]
     },
     "execution_count": 9,
     "metadata": {},
     "output_type": "execute_result"
    }
   ],
   "source": [
    "df_TOCC['amount'].describe()"
   ]
  },
  {
   "cell_type": "code",
   "execution_count": 10,
   "id": "82871a3b-6826-477e-b838-a9f29397cff3",
   "metadata": {
    "collapsed": true,
    "jupyter": {
     "outputs_hidden": true
    },
    "tags": []
   },
   "outputs": [
    {
     "data": {
      "image/png": "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\n",
      "text/plain": [
       "<Figure size 640x480 with 1 Axes>"
      ]
     },
     "metadata": {},
     "output_type": "display_data"
    }
   ],
   "source": [
    "# sns.barplot(data=df_TOCC, x='channel', y='amount') # 기본 평균\n",
    "sns.barplot(data=df_TOCC, x='channel', y='amount', estimator=sum) # 기본 총합\n",
    "plt.show()"
   ]
  },
  {
   "cell_type": "code",
   "execution_count": 18,
   "id": "96b3e0d9-272b-430f-b06c-dbe21d1abacd",
   "metadata": {
    "tags": []
   },
   "outputs": [],
   "source": [
    "df_TOCC_sum = pd.pivot_table(data=df_TOCC, index='channel', values='amount', aggfunc=sum)\n",
    "df_TOCC_bottom_list = df_TOCC_sum.sort_values(by='amount', ascending=False).iloc[-7:].index.to_list()"
   ]
  },
  {
   "cell_type": "code",
   "execution_count": 22,
   "id": "c6f79199-4c3a-4d74-ab56-34b3a997c707",
   "metadata": {},
   "outputs": [
    {
     "data": {
      "text/html": [
       "<div>\n",
       "<style scoped>\n",
       "    .dataframe tbody tr th:only-of-type {\n",
       "        vertical-align: middle;\n",
       "    }\n",
       "\n",
       "    .dataframe tbody tr th {\n",
       "        vertical-align: top;\n",
       "    }\n",
       "\n",
       "    .dataframe thead th {\n",
       "        text-align: right;\n",
       "    }\n",
       "</style>\n",
       "<table border=\"1\" class=\"dataframe\">\n",
       "  <thead>\n",
       "    <tr style=\"text-align: right;\">\n",
       "      <th></th>\n",
       "      <th>amount</th>\n",
       "    </tr>\n",
       "    <tr>\n",
       "      <th>channel</th>\n",
       "      <th></th>\n",
       "    </tr>\n",
       "  </thead>\n",
       "  <tbody>\n",
       "    <tr>\n",
       "      <th>R관리방판</th>\n",
       "      <td>458556039</td>\n",
       "    </tr>\n",
       "    <tr>\n",
       "      <th>R농협</th>\n",
       "      <td>11337960</td>\n",
       "    </tr>\n",
       "  </tbody>\n",
       "</table>\n",
       "</div>"
      ],
      "text/plain": [
       "            amount\n",
       "channel           \n",
       "R관리방판    458556039\n",
       "R농협       11337960"
      ]
     },
     "execution_count": 22,
     "metadata": {},
     "output_type": "execute_result"
    }
   ],
   "source": [
    "df_TOCC_sum[:2]"
   ]
  },
  {
   "cell_type": "code",
   "execution_count": 19,
   "id": "2be83119-9e49-45eb-87dc-38739752bb25",
   "metadata": {
    "collapsed": true,
    "jupyter": {
     "outputs_hidden": true
    },
    "tags": []
   },
   "outputs": [
    {
     "data": {
      "text/plain": [
       "<AxesSubplot:xlabel='channel', ylabel='amount'>"
      ]
     },
     "execution_count": 19,
     "metadata": {},
     "output_type": "execute_result"
    },
    {
     "data": {
      "image/png": "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\n",
      "text/plain": [
       "<Figure size 640x480 with 1 Axes>"
      ]
     },
     "metadata": {},
     "output_type": "display_data"
    }
   ],
   "source": [
    "sns.barplot(data=df_TOCC_sum, x='channel', y='amount', estimator=sum, order=df_TOCC_bottom_list) # 하위 7개 순위 표현"
   ]
  },
  {
   "cell_type": "code",
   "execution_count": 20,
   "id": "a0356793-4130-4e16-968a-3e4d7063e441",
   "metadata": {
    "collapsed": true,
    "jupyter": {
     "outputs_hidden": true
    },
    "tags": []
   },
   "outputs": [
    {
     "data": {
      "text/plain": [
       "<AxesSubplot:xlabel='channel', ylabel='amount'>"
      ]
     },
     "execution_count": 20,
     "metadata": {},
     "output_type": "execute_result"
    },
    {
     "data": {
      "image/png": "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\n",
      "text/plain": [
       "<Figure size 640x480 with 1 Axes>"
      ]
     },
     "metadata": {},
     "output_type": "display_data"
    }
   ],
   "source": [
    "sns.barplot(data=df_TOCC, x='channel', y='amount', estimator=sum, order=df_TOCC_bottom_list, hue='type_of_contract') # 하위 7개 순위 표현"
   ]
  },
  {
   "cell_type": "code",
   "execution_count": null,
   "id": "ee95d408-bb18-497f-a550-d92001c660f0",
=======
   "cell_type": "code",
   "execution_count": null,
   "id": "4a28685a-3ddf-4907-8a5b-9666adea15ad",
>>>>>>> cd0b6b91e97a76b0f24120bde3ae463a4d30bc93
   "metadata": {},
   "outputs": [],
   "source": []
  }
 ],
 "metadata": {
  "kernelspec": {
   "display_name": "Python 3 (ipykernel)",
   "language": "python",
   "name": "python3"
  },
  "language_info": {
   "codemirror_mode": {
    "name": "ipython",
    "version": 3
   },
   "file_extension": ".py",
   "mimetype": "text/x-python",
   "name": "python",
   "nbconvert_exporter": "python",
   "pygments_lexer": "ipython3",
   "version": "3.9.13"
  }
 },
 "nbformat": 4,
 "nbformat_minor": 5
}
