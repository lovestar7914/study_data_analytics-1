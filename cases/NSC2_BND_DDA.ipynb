{
 "cells": [
  {
   "cell_type": "code",
   "execution_count": 1,
   "id": "6ac18b1d-2a71-4914-bf5c-733ba550087b",
   "metadata": {},
   "outputs": [],
   "source": [
    "import pymongo as mg\n",
    "import pandas as pd"
   ]
  },
  {
   "cell_type": "code",
   "execution_count": 2,
   "id": "20779279-8dc3-4e20-94c3-3ff37190fe15",
   "metadata": {},
   "outputs": [],
   "source": [
    "client = mg.MongoClient(host='mongodb://localhost:27017')"
   ]
  },
  {
   "cell_type": "code",
   "execution_count": 3,
   "id": "146cacf9-f3a5-41a0-a4a9-221fb0e89f09",
   "metadata": {},
   "outputs": [],
   "source": [
    "database = client['db_NHIS']"
   ]
  },
  {
   "cell_type": "code",
   "execution_count": 4,
   "id": "a6201f85-6832-45f0-aab1-8d60e920d779",
   "metadata": {},
   "outputs": [],
   "source": [
    "collection = database['NSC2_BND']"
   ]
  },
  {
   "cell_type": "code",
   "execution_count": 8,
   "id": "cfdf30ee-a597-4cc2-9d40-ef74be0cf1dd",
   "metadata": {},
   "outputs": [],
   "source": [
    "cursor = collection.find({})\n",
    "data_list = list(cursor)"
   ]
  },
  {
   "cell_type": "code",
   "execution_count": 9,
   "id": "7c7c58d4-feb6-494b-9b26-70d2cd5e27a4",
   "metadata": {},
   "outputs": [
    {
     "data": {
      "text/html": [
       "<div>\n",
       "<style scoped>\n",
       "    .dataframe tbody tr th:only-of-type {\n",
       "        vertical-align: middle;\n",
       "    }\n",
       "\n",
       "    .dataframe tbody tr th {\n",
       "        vertical-align: top;\n",
       "    }\n",
       "\n",
       "    .dataframe thead th {\n",
       "        text-align: right;\n",
       "    }\n",
       "</style>\n",
       "<table border=\"1\" class=\"dataframe\">\n",
       "  <thead>\n",
       "    <tr style=\"text-align: right;\">\n",
       "      <th></th>\n",
       "      <th>_id</th>\n",
       "      <th>RN_INDI</th>\n",
       "      <th>BTH_YYYY</th>\n",
       "      <th>DTH_YYYYMM</th>\n",
       "      <th>COD1</th>\n",
       "      <th>COD2</th>\n",
       "    </tr>\n",
       "  </thead>\n",
       "  <tbody>\n",
       "    <tr>\n",
       "      <th>0</th>\n",
       "      <td>64d2fd0ac53a8fe2f8cb3e6c</td>\n",
       "      <td>294364</td>\n",
       "      <td>1921LE</td>\n",
       "      <td>200707.0</td>\n",
       "      <td>T08-T14</td>\n",
       "      <td>W00-W19</td>\n",
       "    </tr>\n",
       "    <tr>\n",
       "      <th>1</th>\n",
       "      <td>64d2fd0ac53a8fe2f8cb3e6d</td>\n",
       "      <td>646257</td>\n",
       "      <td>1921LE</td>\n",
       "      <td>200805.0</td>\n",
       "      <td>A15-A19</td>\n",
       "      <td>NaN</td>\n",
       "    </tr>\n",
       "  </tbody>\n",
       "</table>\n",
       "</div>"
      ],
      "text/plain": [
       "                        _id  RN_INDI BTH_YYYY  DTH_YYYYMM     COD1     COD2\n",
       "0  64d2fd0ac53a8fe2f8cb3e6c   294364   1921LE    200707.0  T08-T14  W00-W19\n",
       "1  64d2fd0ac53a8fe2f8cb3e6d   646257   1921LE    200805.0  A15-A19      NaN"
      ]
     },
     "execution_count": 9,
     "metadata": {},
     "output_type": "execute_result"
    }
   ],
   "source": [
    "df_BND = pd.DataFrame(data_list)\n",
    "df_BND.head(2)"
   ]
  },
  {
   "cell_type": "code",
   "execution_count": 10,
   "id": "f6496b33-87b7-4540-bdaf-db07594a4c16",
   "metadata": {},
   "outputs": [
    {
     "name": "stdout",
     "output_type": "stream",
     "text": [
      "<class 'pandas.core.frame.DataFrame'>\n",
      "RangeIndex: 1000 entries, 0 to 999\n",
      "Data columns (total 6 columns):\n",
      " #   Column      Non-Null Count  Dtype  \n",
      "---  ------      --------------  -----  \n",
      " 0   _id         1000 non-null   object \n",
      " 1   RN_INDI     1000 non-null   int64  \n",
      " 2   BTH_YYYY    1000 non-null   object \n",
      " 3   DTH_YYYYMM  71 non-null     float64\n",
      " 4   COD1        60 non-null     object \n",
      " 5   COD2        7 non-null      object \n",
      "dtypes: float64(1), int64(1), object(4)\n",
      "memory usage: 47.0+ KB\n"
     ]
    }
   ],
   "source": [
    "df_BND.info()"
   ]
  },
  {
   "cell_type": "code",
   "execution_count": 11,
   "id": "e7844f32-9fcf-419d-994b-39ef21c71be7",
   "metadata": {},
   "outputs": [
    {
     "data": {
      "text/plain": [
       "Index(['_id', 'RN_INDI', 'BTH_YYYY', 'DTH_YYYYMM', 'COD1', 'COD2'], dtype='object')"
      ]
     },
     "execution_count": 11,
     "metadata": {},
     "output_type": "execute_result"
    }
   ],
   "source": [
    "df_BND.columns"
   ]
  },
  {
   "cell_type": "code",
   "execution_count": 13,
   "id": "9e7f1344-a065-46c4-86fb-18398e8c1815",
   "metadata": {},
   "outputs": [
    {
     "data": {
      "text/html": [
       "<div>\n",
       "<style scoped>\n",
       "    .dataframe tbody tr th:only-of-type {\n",
       "        vertical-align: middle;\n",
       "    }\n",
       "\n",
       "    .dataframe tbody tr th {\n",
       "        vertical-align: top;\n",
       "    }\n",
       "\n",
       "    .dataframe thead th {\n",
       "        text-align: right;\n",
       "    }\n",
       "</style>\n",
       "<table border=\"1\" class=\"dataframe\">\n",
       "  <thead>\n",
       "    <tr style=\"text-align: right;\">\n",
       "      <th></th>\n",
       "      <th>RN_INDI</th>\n",
       "      <th>BTH_YYYY</th>\n",
       "      <th>DTH_YYYYMM</th>\n",
       "      <th>COD1</th>\n",
       "      <th>COD2</th>\n",
       "    </tr>\n",
       "  </thead>\n",
       "  <tbody>\n",
       "    <tr>\n",
       "      <th>0</th>\n",
       "      <td>294364</td>\n",
       "      <td>1921LE</td>\n",
       "      <td>200707.0</td>\n",
       "      <td>T08-T14</td>\n",
       "      <td>W00-W19</td>\n",
       "    </tr>\n",
       "    <tr>\n",
       "      <th>1</th>\n",
       "      <td>646257</td>\n",
       "      <td>1921LE</td>\n",
       "      <td>200805.0</td>\n",
       "      <td>A15-A19</td>\n",
       "      <td>NaN</td>\n",
       "    </tr>\n",
       "  </tbody>\n",
       "</table>\n",
       "</div>"
      ],
      "text/plain": [
       "   RN_INDI BTH_YYYY  DTH_YYYYMM     COD1     COD2\n",
       "0   294364   1921LE    200707.0  T08-T14  W00-W19\n",
       "1   646257   1921LE    200805.0  A15-A19      NaN"
      ]
     },
     "execution_count": 13,
     "metadata": {},
     "output_type": "execute_result"
    }
   ],
   "source": [
    "df_BND_drops = df_BND.drop(columns=['_id',])\n",
    "df_BND_drops.head(2)"
   ]
  },
  {
   "cell_type": "code",
   "execution_count": 14,
   "id": "fc63810c-2296-4035-b853-2221e66bf093",
   "metadata": {},
   "outputs": [
    {
     "name": "stdout",
     "output_type": "stream",
     "text": [
      "<class 'pandas.core.frame.DataFrame'>\n",
      "RangeIndex: 1000 entries, 0 to 999\n",
      "Data columns (total 5 columns):\n",
      " #   Column      Non-Null Count  Dtype  \n",
      "---  ------      --------------  -----  \n",
      " 0   RN_INDI     1000 non-null   int64  \n",
      " 1   BTH_YYYY    1000 non-null   object \n",
      " 2   DTH_YYYYMM  71 non-null     float64\n",
      " 3   COD1        60 non-null     object \n",
      " 4   COD2        7 non-null      object \n",
      "dtypes: float64(1), int64(1), object(3)\n",
      "memory usage: 39.2+ KB\n"
     ]
    }
   ],
   "source": [
    "df_BND_drops.info()"
   ]
  },
  {
   "cell_type": "code",
   "execution_count": 15,
   "id": "ebfa584f-d4cd-4c76-b6bf-63726557158e",
   "metadata": {
    "collapsed": true,
    "jupyter": {
     "outputs_hidden": true
    },
    "tags": []
   },
   "outputs": [
    {
     "data": {
      "text/html": [
       "<div>\n",
       "<style scoped>\n",
       "    .dataframe tbody tr th:only-of-type {\n",
       "        vertical-align: middle;\n",
       "    }\n",
       "\n",
       "    .dataframe tbody tr th {\n",
       "        vertical-align: top;\n",
       "    }\n",
       "\n",
       "    .dataframe thead th {\n",
       "        text-align: right;\n",
       "    }\n",
       "</style>\n",
       "<table border=\"1\" class=\"dataframe\">\n",
       "  <thead>\n",
       "    <tr style=\"text-align: right;\">\n",
       "      <th></th>\n",
       "      <th>RN_INDI</th>\n",
       "      <th>DTH_YYYYMM</th>\n",
       "    </tr>\n",
       "  </thead>\n",
       "  <tbody>\n",
       "    <tr>\n",
       "      <th>count</th>\n",
       "      <td>1.000000e+03</td>\n",
       "      <td>71.000000</td>\n",
       "    </tr>\n",
       "    <tr>\n",
       "      <th>mean</th>\n",
       "      <td>6.404133e+05</td>\n",
       "      <td>201471.873239</td>\n",
       "    </tr>\n",
       "    <tr>\n",
       "      <th>std</th>\n",
       "      <td>5.241253e+05</td>\n",
       "      <td>432.203819</td>\n",
       "    </tr>\n",
       "    <tr>\n",
       "      <th>min</th>\n",
       "      <td>1.433000e+03</td>\n",
       "      <td>200707.000000</td>\n",
       "    </tr>\n",
       "    <tr>\n",
       "      <th>25%</th>\n",
       "      <td>2.812005e+05</td>\n",
       "      <td>201104.000000</td>\n",
       "    </tr>\n",
       "    <tr>\n",
       "      <th>50%</th>\n",
       "      <td>5.499230e+05</td>\n",
       "      <td>201508.000000</td>\n",
       "    </tr>\n",
       "    <tr>\n",
       "      <th>75%</th>\n",
       "      <td>8.177570e+05</td>\n",
       "      <td>201904.500000</td>\n",
       "    </tr>\n",
       "    <tr>\n",
       "      <th>max</th>\n",
       "      <td>3.000758e+06</td>\n",
       "      <td>202105.000000</td>\n",
       "    </tr>\n",
       "  </tbody>\n",
       "</table>\n",
       "</div>"
      ],
      "text/plain": [
       "            RN_INDI     DTH_YYYYMM\n",
       "count  1.000000e+03      71.000000\n",
       "mean   6.404133e+05  201471.873239\n",
       "std    5.241253e+05     432.203819\n",
       "min    1.433000e+03  200707.000000\n",
       "25%    2.812005e+05  201104.000000\n",
       "50%    5.499230e+05  201508.000000\n",
       "75%    8.177570e+05  201904.500000\n",
       "max    3.000758e+06  202105.000000"
      ]
     },
     "execution_count": 15,
     "metadata": {},
     "output_type": "execute_result"
    }
   ],
   "source": [
    "df_BND_drops.describe()"
   ]
  },
  {
   "cell_type": "code",
   "execution_count": 16,
   "id": "a8a1c9ec-4886-4b87-8863-eaf257c3b5b2",
   "metadata": {},
   "outputs": [
    {
     "data": {
      "text/html": [
       "<div>\n",
       "<style scoped>\n",
       "    .dataframe tbody tr th:only-of-type {\n",
       "        vertical-align: middle;\n",
       "    }\n",
       "\n",
       "    .dataframe tbody tr th {\n",
       "        vertical-align: top;\n",
       "    }\n",
       "\n",
       "    .dataframe thead th {\n",
       "        text-align: right;\n",
       "    }\n",
       "</style>\n",
       "<table border=\"1\" class=\"dataframe\">\n",
       "  <thead>\n",
       "    <tr style=\"text-align: right;\">\n",
       "      <th></th>\n",
       "      <th>BTH_YYYY</th>\n",
       "      <th>COD1</th>\n",
       "      <th>COD2</th>\n",
       "    </tr>\n",
       "  </thead>\n",
       "  <tbody>\n",
       "    <tr>\n",
       "      <th>count</th>\n",
       "      <td>1000</td>\n",
       "      <td>60</td>\n",
       "      <td>7</td>\n",
       "    </tr>\n",
       "    <tr>\n",
       "      <th>unique</th>\n",
       "      <td>95</td>\n",
       "      <td>42</td>\n",
       "      <td>6</td>\n",
       "    </tr>\n",
       "    <tr>\n",
       "      <th>top</th>\n",
       "      <td>1968</td>\n",
       "      <td>C34</td>\n",
       "      <td>W75-W84</td>\n",
       "    </tr>\n",
       "    <tr>\n",
       "      <th>freq</th>\n",
       "      <td>24</td>\n",
       "      <td>4</td>\n",
       "      <td>2</td>\n",
       "    </tr>\n",
       "  </tbody>\n",
       "</table>\n",
       "</div>"
      ],
      "text/plain": [
       "        BTH_YYYY COD1     COD2\n",
       "count       1000   60        7\n",
       "unique        95   42        6\n",
       "top         1968  C34  W75-W84\n",
       "freq          24    4        2"
      ]
     },
     "execution_count": 16,
     "metadata": {},
     "output_type": "execute_result"
    }
   ],
   "source": [
    "df_BND_drops.describe(include=object)"
   ]
  },
  {
   "cell_type": "code",
   "execution_count": 17,
   "id": "73d1c239-e4b5-4f04-b71d-9ce5110da01e",
   "metadata": {},
   "outputs": [
    {
     "data": {
      "text/plain": [
       "1968    24\n",
       "1960    24\n",
       "1969    21\n",
       "1967    21\n",
       "1988    19\n",
       "        ..\n",
       "1929     1\n",
       "1925     1\n",
       "1924     1\n",
       "1923     1\n",
       "1922     1\n",
       "Name: BTH_YYYY, Length: 95, dtype: int64"
      ]
     },
     "execution_count": 17,
     "metadata": {},
     "output_type": "execute_result"
    }
   ],
   "source": [
    "df_BND_drops['BTH_YYYY'].value_counts()"
   ]
  },
  {
   "cell_type": "code",
   "execution_count": 18,
   "id": "ef89725b-ab00-4ff7-ab9e-5a7ef5e00267",
   "metadata": {},
   "outputs": [
    {
     "data": {
      "text/plain": [
       "array(['1921LE', 1922, 1923, 1924, 1925, 1926, 1927, 1928, 1929, 1930,\n",
       "       1931, 1932, 1933, 1934, 1935, 1936, 1937, 1938, 1939, 1940, 1941,\n",
       "       1942, 1943, 1944, 1945, 1946, 1947, 1948, 1949, 1950, 1951, 1952,\n",
       "       1953, 1954, 1955, 1956, 1957, 1958, 1959, 1960, 1961, 1962, 1963,\n",
       "       1964, 1965, 1966, 1967, 1968, 1969, 1970, 1971, 1972, 1973, 1974,\n",
       "       1975, 1976, 1977, 1978, 1979, 1980, 1981, 1982, 1983, 1984, 1985,\n",
       "       1986, 1987, 1988, 1989, 1990, 1991, 1992, 1993, 1994, 1995, 1996,\n",
       "       1997, 1998, 1999, 2000, 2001, 2002, 2003, 2004, 2005, 2006, 2007,\n",
       "       2008, 2009, 2010, 2011, 2012, 2013, 2014, 2015], dtype=object)"
      ]
     },
     "execution_count": 18,
     "metadata": {},
     "output_type": "execute_result"
    }
   ],
   "source": [
    "df_BND_drops['BTH_YYYY'].unique()"
   ]
  },
  {
   "cell_type": "code",
   "execution_count": 19,
   "id": "7eb70f35-a0f9-41fe-a49c-e0f6026344a1",
   "metadata": {},
   "outputs": [
    {
     "data": {
      "text/plain": [
       "C34        4\n",
       "R54        3\n",
       "C22        3\n",
       "T08-T14    2\n",
       "F10-F19    2\n",
       "K70        2\n",
       "C25        2\n",
       "N18        2\n",
       "T15-T19    2\n",
       "E11        2\n",
       "I50        2\n",
       "I21        2\n",
       "G30        2\n",
       "I63        2\n",
       "A00-A09    1\n",
       "B00-B09    1\n",
       "N17        1\n",
       "C83        1\n",
       "T66-T78    1\n",
       "J84        1\n",
       "J69        1\n",
       "S00-S09    1\n",
       "C44        1\n",
       "J81        1\n",
       "K92        1\n",
       "C16        1\n",
       "J44        1\n",
       "C90        1\n",
       "F00-F09    1\n",
       "C15        1\n",
       "I46        1\n",
       "J60        1\n",
       "I25        1\n",
       "A15-A19    1\n",
       "K65        1\n",
       "J80        1\n",
       "T51-T65    1\n",
       "I69        1\n",
       "I20        1\n",
       "I64        1\n",
       "C23        1\n",
       "C50        1\n",
       "Name: COD1, dtype: int64"
      ]
     },
     "execution_count": 19,
     "metadata": {},
     "output_type": "execute_result"
    }
   ],
   "source": [
    "df_BND_drops['COD1'].value_counts()"
   ]
  },
  {
   "cell_type": "code",
   "execution_count": 20,
   "id": "cfb2a6ff-556f-45e1-923e-54296e562b10",
   "metadata": {},
   "outputs": [
    {
     "data": {
      "text/plain": [
       "W75-W84    2\n",
       "W00-W19    1\n",
       "X00-X09    1\n",
       "V20-V29    1\n",
       "V01-V09    1\n",
       "X60-X84    1\n",
       "Name: COD2, dtype: int64"
      ]
     },
     "execution_count": 20,
     "metadata": {},
     "output_type": "execute_result"
    }
   ],
   "source": [
    "df_BND_drops['COD2'].value_counts()"
   ]
  },
  {
   "cell_type": "code",
   "execution_count": null,
   "id": "8bd94d32-ce8f-4126-a84f-e4376c6af038",
   "metadata": {},
   "outputs": [],
   "source": []
  }
 ],
 "metadata": {
  "kernelspec": {
   "display_name": "Python 3 (ipykernel)",
   "language": "python",
   "name": "python3"
  },
  "language_info": {
   "codemirror_mode": {
    "name": "ipython",
    "version": 3
   },
   "file_extension": ".py",
   "mimetype": "text/x-python",
   "name": "python",
   "nbconvert_exporter": "python",
   "pygments_lexer": "ipython3",
   "version": "3.9.13"
  }
 },
 "nbformat": 4,
 "nbformat_minor": 5
}
